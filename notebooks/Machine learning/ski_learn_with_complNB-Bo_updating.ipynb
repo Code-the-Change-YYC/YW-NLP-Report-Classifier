{
  "nbformat": 4,
  "nbformat_minor": 0,
  "metadata": {
    "colab": {
      "name": "ski_learn_with_complNB.ipynb",
      "provenance": [],
      "collapsed_sections": []
    },
    "kernelspec": {
      "name": "python3",
      "display_name": "Python 3"
    }
  },
  "cells": [
    {
      "cell_type": "markdown",
      "metadata": {
        "id": "ghwC9r_80W-4",
        "colab_type": "text"
      },
      "source": [
        "This notebook will go through basic concepts of a regular work flow from preprocessing to evaluation trained models. \n",
        "In this particular example, we will be using Ski-kit learn Complement Naive bayer model to performance a multilabel classfication on 14 different YWCA report's labels."
      ]
    },
    {
      "cell_type": "code",
      "metadata": {
        "id": "e3IGM0d02LY0",
        "colab_type": "code",
        "colab": {
          "base_uri": "https://localhost:8080/",
          "height": 263
        },
        "outputId": "08b27ca9-9f7f-414d-cb05-62517e14bb78"
      },
      "source": [
        "!pip install -U scikit-learn"
      ],
      "execution_count": 4,
      "outputs": [
        {
          "output_type": "stream",
          "text": [
            "Collecting scikit-learn\n",
            "\u001b[?25l  Downloading https://files.pythonhosted.org/packages/5c/a1/273def87037a7fb010512bbc5901c31cfddfca8080bc63b42b26e3cc55b3/scikit_learn-0.23.2-cp36-cp36m-manylinux1_x86_64.whl (6.8MB)\n",
            "\u001b[K     |████████████████████████████████| 6.8MB 2.8MB/s \n",
            "\u001b[?25hRequirement already satisfied, skipping upgrade: numpy>=1.13.3 in /usr/local/lib/python3.6/dist-packages (from scikit-learn) (1.18.5)\n",
            "Collecting threadpoolctl>=2.0.0\n",
            "  Downloading https://files.pythonhosted.org/packages/f7/12/ec3f2e203afa394a149911729357aa48affc59c20e2c1c8297a60f33f133/threadpoolctl-2.1.0-py3-none-any.whl\n",
            "Requirement already satisfied, skipping upgrade: joblib>=0.11 in /usr/local/lib/python3.6/dist-packages (from scikit-learn) (0.16.0)\n",
            "Requirement already satisfied, skipping upgrade: scipy>=0.19.1 in /usr/local/lib/python3.6/dist-packages (from scikit-learn) (1.4.1)\n",
            "Installing collected packages: threadpoolctl, scikit-learn\n",
            "  Found existing installation: scikit-learn 0.22.2.post1\n",
            "    Uninstalling scikit-learn-0.22.2.post1:\n",
            "      Successfully uninstalled scikit-learn-0.22.2.post1\n",
            "Successfully installed scikit-learn-0.23.2 threadpoolctl-2.1.0\n"
          ],
          "name": "stdout"
        }
      ]
    },
    {
      "cell_type": "markdown",
      "metadata": {
        "id": "wxZ31qs30ne2",
        "colab_type": "text"
      },
      "source": [
        "Loading dependancies for sci-kit learn, NLTK, and other basic utility python library\n",
        "\n",
        "Display the sci-kit learn and NLTK versions.\n",
        " "
      ]
    },
    {
      "cell_type": "code",
      "metadata": {
        "id": "WwaD_fMA3Xrp",
        "colab_type": "code",
        "colab": {
          "base_uri": "https://localhost:8080/",
          "height": 35
        },
        "outputId": "07fc0200-321e-45a1-a486-3a757f80c5d4"
      },
      "source": [
        "import os, re\n",
        "import gensim\n",
        "import sklearn\n",
        "import pandas as pd\n",
        "import numpy as np\n",
        "\n",
        "\n",
        "import matplotlib.pyplot as plt\n",
        "\n",
        "\n",
        "from sklearn.model_selection import train_test_split,GridSearchCV,cross_validate\n",
        "from sklearn.preprocessing import LabelEncoder\n",
        "from sklearn.naive_bayes import ComplementNB\n",
        "from sklearn.svm import SVC\n",
        "from sklearn.pipeline import make_pipeline\n",
        "from sklearn.feature_extraction.text import CountVectorizer, TfidfTransformer,TfidfVectorizer\n",
        "from sklearn.metrics import accuracy_score, balanced_accuracy_score, make_scorer\n",
        "from sklearn.utils.class_weight import compute_sample_weight\n",
        "\n",
        "import nltk\n",
        "from nltk.tokenize import sent_tokenize, word_tokenize\n",
        "from nltk.corpus import stopwords\n",
        "\n",
        "print(f\"NLTK's version is {nltk.__version__} , Sci-kit learn's version is {sklearn.__version__}\")"
      ],
      "execution_count": 51,
      "outputs": [
        {
          "output_type": "stream",
          "text": [
            "NLTK's version is 3.2.5 , Sci-kit learn's version is 0.23.2\n"
          ],
          "name": "stdout"
        }
      ]
    },
    {
      "cell_type": "markdown",
      "metadata": {
        "id": "X-S80rZNBepG",
        "colab_type": "text"
      },
      "source": [
        "Download the NLTK punctuation pkg, stopwords pkg, wordnet pkg "
      ]
    },
    {
      "cell_type": "code",
      "metadata": {
        "id": "FpHMvoAH7cbF",
        "colab_type": "code",
        "colab": {
          "base_uri": "https://localhost:8080/",
          "height": 139
        },
        "outputId": "6b21827e-360f-4b4f-8a33-d354ccad37e5"
      },
      "source": [
        "nltk.download('punkt')\n",
        "nltk.download('stopwords')\n",
        "nltk.download('wordnet')\n"
      ],
      "execution_count": 6,
      "outputs": [
        {
          "output_type": "stream",
          "text": [
            "[nltk_data] Downloading package punkt to /root/nltk_data...\n",
            "[nltk_data]   Unzipping tokenizers/punkt.zip.\n",
            "[nltk_data] Downloading package stopwords to /root/nltk_data...\n",
            "[nltk_data]   Unzipping corpora/stopwords.zip.\n",
            "[nltk_data] Downloading package wordnet to /root/nltk_data...\n",
            "[nltk_data]   Unzipping corpora/wordnet.zip.\n"
          ],
          "name": "stdout"
        },
        {
          "output_type": "execute_result",
          "data": {
            "text/plain": [
              "True"
            ]
          },
          "metadata": {
            "tags": []
          },
          "execution_count": 6
        }
      ]
    },
    {
      "cell_type": "markdown",
      "metadata": {
        "id": "_efAcKjT0ubN",
        "colab_type": "text"
      },
      "source": [
        "upload data-prcoessed.csv from local. This data-processed file is the output of current (before Aug 5th,2020) git main branch.\n"
      ]
    },
    {
      "cell_type": "code",
      "metadata": {
        "id": "59NKqE5fGkBi",
        "colab_type": "code",
        "colab": {
          "resources": {
            "http://localhost:8080/nbextensions/google.colab/files.js": {
              "data": "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",
              "ok": true,
              "headers": [
                [
                  "content-type",
                  "application/javascript"
                ]
              ],
              "status": 200,
              "status_text": ""
            }
          },
          "base_uri": "https://localhost:8080/",
          "height": 73
        },
        "outputId": "46fb9547-a200-46ee-c211-0a23f988d7eb"
      },
      "source": [
        "from google.colab import files\n",
        "uploaded = files.upload()"
      ],
      "execution_count": 7,
      "outputs": [
        {
          "output_type": "display_data",
          "data": {
            "text/html": [
              "\n",
              "     <input type=\"file\" id=\"files-b3b0dcd7-95fd-469e-a1a5-dad5cab7793b\" name=\"files[]\" multiple disabled\n",
              "        style=\"border:none\" />\n",
              "     <output id=\"result-b3b0dcd7-95fd-469e-a1a5-dad5cab7793b\">\n",
              "      Upload widget is only available when the cell has been executed in the\n",
              "      current browser session. Please rerun this cell to enable.\n",
              "      </output>\n",
              "      <script src=\"/nbextensions/google.colab/files.js\"></script> "
            ],
            "text/plain": [
              "<IPython.core.display.HTML object>"
            ]
          },
          "metadata": {
            "tags": []
          }
        },
        {
          "output_type": "stream",
          "text": [
            "Saving data-processed.csv to data-processed.csv\n"
          ],
          "name": "stdout"
        }
      ]
    },
    {
      "cell_type": "markdown",
      "metadata": {
        "id": "pFx3HZOACSI6",
        "colab_type": "text"
      },
      "source": [
        "Read file by pandas. assign variable to target documents to be processed.\n",
        "Display the first 5 samples."
      ]
    },
    {
      "cell_type": "code",
      "metadata": {
        "id": "wRoiYwgwUHNI",
        "colab_type": "code",
        "colab": {
          "base_uri": "https://localhost:8080/",
          "height": 121
        },
        "outputId": "682df7ff-e0de-455a-9343-d9830c6913d8"
      },
      "source": [
        "yw_df = pd.read_csv(\"data-processed.csv\")\n",
        "yw_clean = yw_df[\"DESCRIPTION\"]\n",
        "yw_clean.head()"
      ],
      "execution_count": 8,
      "outputs": [
        {
          "output_type": "execute_result",
          "data": {
            "text/plain": [
              "0    staff could hear ** make loud yelling noise fr...\n",
              "1    this afternoon ** arrive at the building with ...\n",
              "2    at approximately 1015pm ** enter building and ...\n",
              "3    * be do shift exchange with staff when ** fell...\n",
              "4    client ***** come into 417 at around 10pm ** b...\n",
              "Name: DESCRIPTION, dtype: object"
            ]
          },
          "metadata": {
            "tags": []
          },
          "execution_count": 8
        }
      ]
    },
    {
      "cell_type": "markdown",
      "metadata": {
        "id": "5ZyHRCL91ClA",
        "colab_type": "text"
      },
      "source": [
        "Standard NLTK tokenizer:\n",
        "1.This remove stopwords and anything is not letters(words). \n",
        "2. Lemmatization is applied and wordnet lemmatizer is used. Snowball lemmatizer is a good alternative I can explore further later to compare and it also support built in stop word removal so code can be more elegant.\n",
        "3. word are in its lower form\n",
        "4. return a list of tokens => we can change to pandas dataframe but for illustration purpose, it should have the same output."
      ]
    },
    {
      "cell_type": "code",
      "metadata": {
        "id": "eOb3ruslZzWC",
        "colab_type": "code",
        "colab": {}
      },
      "source": [
        "def nltk_tokenizer(df_sent):\n",
        "    lemmatizer = nltk.WordNetLemmatizer()\n",
        "    stop_words = set(stopwords.words(\"english\"))\n",
        "\n",
        "    tokens = word_tokenize(df_sent)\n",
        "    words = [word.lower() for word in tokens if word.isalpha()]  # get rid of puntuation\n",
        "    words = [word for word in words if word not in stop_words]\n",
        "    words = [lemmatizer.lemmatize(word) for word in words]\n",
        "\n",
        "    return words\n"
      ],
      "execution_count": 9,
      "outputs": []
    },
    {
      "cell_type": "markdown",
      "metadata": {
        "id": "wxEljNDl1fAW",
        "colab_type": "text"
      },
      "source": [
        "Instead of a binary encoding in list comprehension. In here, I used sci-kit learn labelencoder to label the 14 catgories. The full information has been displayed in output."
      ]
    },
    {
      "cell_type": "code",
      "metadata": {
        "id": "UU0dmUwf0gQH",
        "colab_type": "code",
        "colab": {}
      },
      "source": [
        "encoder = LabelEncoder()\n",
        "yw_txt_cats = encoder.fit_transform([t for t in yw_df['INCIDENT_TYPE_1']])"
      ],
      "execution_count": 35,
      "outputs": []
    },
    {
      "cell_type": "code",
      "metadata": {
        "id": "R5aFNx-MvCCN",
        "colab_type": "code",
        "colab": {}
      },
      "source": [
        "def count_weight(categories,total_files = yw_txt_cats):\n",
        "  weight_dict = {lb:0 for lb in list(set(yw_txt_cats))}\n",
        "  for cat in categories:\n",
        "      weight_dict[cat] += 1 \n",
        "   \n",
        "  return weight_dict"
      ],
      "execution_count": 33,
      "outputs": []
    },
    {
      "cell_type": "code",
      "metadata": {
        "id": "4E3tgrggUfj3",
        "colab_type": "code",
        "colab": {
          "base_uri": "https://localhost:8080/",
          "height": 503
        },
        "outputId": "28134edc-8120-4cb4-8f24-931c6fccd92e"
      },
      "source": [
        "weights_dict = count_weight(yw_txt_cats)\n",
        "for i, cls in enumerate(encoder.classes_):\n",
        "  print('{}. {} weights is : {:.2%}\\n'.format(i,cls,weights_dict[i]/len(yw_txt_cats)))"
      ],
      "execution_count": 34,
      "outputs": [
        {
          "output_type": "stream",
          "text": [
            "0. Client aggression towards another person weights is : 11.34%\n",
            "\n",
            "1. Client aggression towards property weights is : 0.90%\n",
            "\n",
            "2. Client death (onsite) weights is : 0.90%\n",
            "\n",
            "3. Concern for welfare of a child weights is : 4.48%\n",
            "\n",
            "4. Homicide (Threat or attempt) weights is : 0.30%\n",
            "\n",
            "5. Illegal activity on premises weights is : 0.30%\n",
            "\n",
            "6. Injury weights is : 2.69%\n",
            "\n",
            "7. Medical emergency weights is : 46.87%\n",
            "\n",
            "8. Mental health emergency weights is : 5.97%\n",
            "\n",
            "9. Other weights is : 12.84%\n",
            "\n",
            "10. Security concern weights is : 4.78%\n",
            "\n",
            "11. Suicide attempt weights is : 2.99%\n",
            "\n",
            "12. Suspicion/allegation of abuse towards or against client weights is : 3.88%\n",
            "\n",
            "13. nan weights is : 1.79%\n",
            "\n"
          ],
          "name": "stdout"
        }
      ]
    },
    {
      "cell_type": "markdown",
      "metadata": {
        "id": "-DoWkzgy1oue",
        "colab_type": "text"
      },
      "source": [
        "I have tried both count vector and tfidf vector as I said in the meeting. The outcomes is Tfidf vector offer is marginal better result than count vector."
      ]
    },
    {
      "cell_type": "code",
      "metadata": {
        "id": "-N_M0ErRbfl3",
        "colab_type": "code",
        "colab": {}
      },
      "source": [
        "word_vec = TfidfVectorizer(tokenizer=nltk_tokenizer,\n",
        "                                          token_pattern=r'\\b\\w+\\b',\n",
        "                                          ngram_range=(1, 2),\n",
        "                                          min_df=2)\n",
        "yw_clean = word_vec.fit_transform(yw_clean)"
      ],
      "execution_count": 17,
      "outputs": []
    },
    {
      "cell_type": "markdown",
      "metadata": {
        "id": "KIXfSYO_1vQC",
        "colab_type": "text"
      },
      "source": [
        "Split the data into train and test same way as CNB model in Cal's branch. I think we should also consider random setting to 0 to 42 and see how much our evaluation varies. I found if we set random state proper at 32 we can reach 77% accuracy, but if we dont set random_state. the accuracy change each time you rerun this cell and next cell together. \n",
        "\n",
        "Currently this notebook outputs showing at optimized accuracy score. you can experiement around to verify what I mean by removing random_state setting or change its value, then run the score cell after"
      ]
    },
    {
      "cell_type": "code",
      "metadata": {
        "id": "Gu7fF5PUZBS0",
        "colab_type": "code",
        "colab": {
          "base_uri": "https://localhost:8080/",
          "height": 156
        },
        "outputId": "0035272b-3835-4e8c-948d-d1922d6c2876"
      },
      "source": [
        "X_train_set, X_test_set, y_train_set, y_test_set = train_test_split(\n",
        "                                        yw_clean, \n",
        "                                        yw_txt_cats,\n",
        "                                        train_size=0.75,\n",
        "                                        random_state = 32,\n",
        "                                        shuffle = True)\n",
        "\n",
        "weight_load = compute_sample_weight(weights_dict,yw_txt_cats)\n",
        "weight_train,weight_test = train_test_split(\n",
        "                                        weight_load,\n",
        "                                        train_size=0.75,\n",
        "                                        random_state = 32,\n",
        "                                        shuffle = True)\n"
      ],
      "execution_count": 41,
      "outputs": [
        {
          "output_type": "execute_result",
          "data": {
            "text/plain": [
              "array([157., 157., 157., 157.,  38.,  38., 157.,  43.,   9., 157.,  13.,\n",
              "       157.,  15.,  38., 157., 157., 157., 157., 157., 157.,  43.,  13.,\n",
              "        38., 157.,  13., 157., 157.,   3., 157.,   3.,  15., 157., 157.,\n",
              "        38., 157., 157., 157., 157.,  43., 157., 157., 157., 157.,  43.,\n",
              "       157., 157.,  16., 157., 157., 157.,  15., 157., 157., 157., 157.,\n",
              "       157.,  20., 157., 157., 157.,  38.,  43.,  38., 157.,  38.,  38.,\n",
              "         9., 157., 157.,  15., 157.,  43., 157.,  15., 157.,  15.,  43.,\n",
              "        13.,  20.,   1.,  43.,  43., 157.,   3.])"
            ]
          },
          "metadata": {
            "tags": []
          },
          "execution_count": 41
        }
      ]
    },
    {
      "cell_type": "markdown",
      "metadata": {
        "id": "yl7MRO9j1zJq",
        "colab_type": "text"
      },
      "source": [
        "train and score: accuracy score\n"
      ]
    },
    {
      "cell_type": "code",
      "metadata": {
        "id": "RIghMdHfZRHv",
        "colab_type": "code",
        "colab": {
          "base_uri": "https://localhost:8080/",
          "height": 35
        },
        "outputId": "b9aefeee-9273-43d2-d995-4fca9e7686c8"
      },
      "source": [
        "cnb = ComplementNB()\n",
        "\n",
        "cnb.fit(X_train_set,y_train_set,sample_weight = weight_train)\n",
        "score_train = cnb.score(X_test_set, y_test_set,weight_test)\n",
        "print(\"Accuracy score on test set is {0:.2f}\".format(score_train))"
      ],
      "execution_count": 54,
      "outputs": [
        {
          "output_type": "stream",
          "text": [
            "Accuracy score on test set is 0.76\n"
          ],
          "name": "stdout"
        }
      ]
    },
    {
      "cell_type": "code",
      "metadata": {
        "id": "dW0r7pL33tkm",
        "colab_type": "code",
        "colab": {
          "base_uri": "https://localhost:8080/",
          "height": 35
        },
        "outputId": "a7c8afe5-8290-4d51-95a4-561523f1f0a7"
      },
      "source": [
        "svm = SVC()\n",
        "svm.fit(X_train_set,y_train_set,sample_weight = weight_train)\n",
        "score_train = svm.score(X_test_set, y_test_set,weight_test)\n",
        "print(\"Accuracy score on test set is {0:.2f}\".format(score_train))"
      ],
      "execution_count": 56,
      "outputs": [
        {
          "output_type": "stream",
          "text": [
            "Accuracy score on test set is 0.92\n"
          ],
          "name": "stdout"
        }
      ]
    },
    {
      "cell_type": "markdown",
      "metadata": {
        "id": "5WxRRtYD2dOt",
        "colab_type": "text"
      },
      "source": [
        "Cross-Validation: We show what is the scores on train set with k = 5-fold to default. This is why we have 5 scores produced because 5 fold will provide 5 different validation sets\n",
        "\n",
        "Here we run a basic validation. I will update more in the parameter to explore other evaluation matrix or settings\n",
        "\n",
        "We also introduce a new matric for measuring cross-validation on our train set: balanced accuracy score.\n"
      ]
    },
    {
      "cell_type": "code",
      "metadata": {
        "id": "W_AV2KKDZpIQ",
        "colab_type": "code",
        "colab": {
          "base_uri": "https://localhost:8080/",
          "height": 89
        },
        "outputId": "89239412-919d-47cf-aeff-af98eb949899"
      },
      "source": [
        "scorer = make_scorer(balanced_accuracy_score)\n",
        "cv_ = cross_validate(cnb,\n",
        "                     X = X_train_set,\n",
        "                     y = y_train_set,\n",
        "                     scoring = [\"balanced_accuracy\",\"accuracy\"]\n",
        "                      )\n",
        "\n",
        "cv_.keys()\n"
      ],
      "execution_count": 66,
      "outputs": [
        {
          "output_type": "stream",
          "text": [
            "/usr/local/lib/python3.6/dist-packages/sklearn/model_selection/_split.py:672: UserWarning: The least populated class in y has only 1 members, which is less than n_splits=5.\n",
            "  % (min_groups, self.n_splits)), UserWarning)\n"
          ],
          "name": "stderr"
        },
        {
          "output_type": "execute_result",
          "data": {
            "text/plain": [
              "dict_keys(['fit_time', 'score_time', 'test_balanced_accuracy', 'test_accuracy'])"
            ]
          },
          "metadata": {
            "tags": []
          },
          "execution_count": 66
        }
      ]
    },
    {
      "cell_type": "markdown",
      "metadata": {
        "id": "F4pjsZ9QIh7X",
        "colab_type": "text"
      },
      "source": [
        "This result from cross validation is significant. It shows we probably have some irregular data distribution between train set and test set. It also means that some how we are underfitting our model."
      ]
    },
    {
      "cell_type": "code",
      "metadata": {
        "id": "6GJYVI3TaH7W",
        "colab_type": "code",
        "colab": {
          "base_uri": "https://localhost:8080/",
          "height": 69
        },
        "outputId": "a476ef8f-223b-49d4-ed26-aafad82ca359"
      },
      "source": [
        "print(\"Cross-validation balanced accuracy average score on test set is {0:.2f}\".format(np.average(cv_[\"test_balanced_accuracy\"])))\n",
        "print(\"raw scores is :\")\n",
        "cv_[\"test_balanced_accuracy\"]"
      ],
      "execution_count": 70,
      "outputs": [
        {
          "output_type": "stream",
          "text": [
            "Cross-validation balanced accuracy average score on test set is 0.38\n",
            "raw scores is :\n"
          ],
          "name": "stdout"
        },
        {
          "output_type": "execute_result",
          "data": {
            "text/plain": [
              "array([0.39866194, 0.49833333, 0.34543487, 0.41774892, 0.24085006])"
            ]
          },
          "metadata": {
            "tags": []
          },
          "execution_count": 70
        }
      ]
    },
    {
      "cell_type": "markdown",
      "metadata": {
        "id": "MrDU1INrKVBc",
        "colab_type": "text"
      },
      "source": [
        "Just another to varify accuracy score on test set"
      ]
    },
    {
      "cell_type": "code",
      "metadata": {
        "id": "9b8dXW2Be3_f",
        "colab_type": "code",
        "colab": {
          "base_uri": "https://localhost:8080/",
          "height": 35
        },
        "outputId": "905a3926-5889-412f-94aa-da09f4f267b0"
      },
      "source": [
        "predicted_ = cnb.predict(X_test_set)\n",
        "accuracy_score(y_test_set,predicted_,sample_weight=weight_test)"
      ],
      "execution_count": 71,
      "outputs": [
        {
          "output_type": "execute_result",
          "data": {
            "text/plain": [
              "0.7577393808495321"
            ]
          },
          "metadata": {
            "tags": []
          },
          "execution_count": 71
        }
      ]
    },
    {
      "cell_type": "code",
      "metadata": {
        "id": "n7J53JuO7P1M",
        "colab_type": "code",
        "colab": {
          "base_uri": "https://localhost:8080/",
          "height": 35
        },
        "outputId": "02ffc43e-9ce0-4b2a-b674-2033ac69c9f0"
      },
      "source": [
        "predicted_ = cnb.predict(X_train_set)\n",
        "accuracy_score(y_train_set,predicted_,sample_weight=weight_train)"
      ],
      "execution_count": 74,
      "outputs": [
        {
          "output_type": "execute_result",
          "data": {
            "text/plain": [
              "0.9799952141660684"
            ]
          },
          "metadata": {
            "tags": []
          },
          "execution_count": 74
        }
      ]
    },
    {
      "cell_type": "markdown",
      "metadata": {
        "id": "NMCOr4QgrGnB",
        "colab_type": "text"
      },
      "source": [
        "Here is more clean version of balance accuracy score as our data is quite imbalanced. I think we may need to consider either shrink classes or figure out data-argumentation to create more sythetic, but with one example each for two of class we may need consider the first option."
      ]
    },
    {
      "cell_type": "code",
      "metadata": {
        "id": "KvYEhQcKq3C0",
        "colab_type": "code",
        "colab": {
          "base_uri": "https://localhost:8080/",
          "height": 69
        },
        "outputId": "d0a00355-1379-4060-8ce1-963457f31781"
      },
      "source": [
        "predicted_ = cnb.predict(X_test_set)\n",
        "balanced_accuracy_score(y_test_set,predicted_,sample_weight=weight_test)"
      ],
      "execution_count": 72,
      "outputs": [
        {
          "output_type": "stream",
          "text": [
            "/usr/local/lib/python3.6/dist-packages/sklearn/metrics/_classification.py:1814: UserWarning: y_pred contains classes not in y_true\n",
            "  warnings.warn('y_pred contains classes not in y_true')\n"
          ],
          "name": "stderr"
        },
        {
          "output_type": "execute_result",
          "data": {
            "text/plain": [
              "0.31904147861594667"
            ]
          },
          "metadata": {
            "tags": []
          },
          "execution_count": 72
        }
      ]
    },
    {
      "cell_type": "code",
      "metadata": {
        "id": "loE8uoBg23WT",
        "colab_type": "code",
        "colab": {
          "base_uri": "https://localhost:8080/",
          "height": 35
        },
        "outputId": "c6219c14-db48-4911-932b-ef31638b2354"
      },
      "source": [
        "predicted_ = cnb.predict(X_train_set)\n",
        "balanced_accuracy_score(y_train_set,predicted_,sample_weight=weight_train)"
      ],
      "execution_count": 73,
      "outputs": [
        {
          "output_type": "execute_result",
          "data": {
            "text/plain": [
              "0.7003111830698039"
            ]
          },
          "metadata": {
            "tags": []
          },
          "execution_count": 73
        }
      ]
    },
    {
      "cell_type": "markdown",
      "metadata": {
        "id": "sgfgJJLZ2yHp",
        "colab_type": "text"
      },
      "source": [
        "Bar chart shows how the data is distributed based on frequency. The array are name of catgories are  < 5 incidents. This is important because our cross-validation default to 5."
      ]
    },
    {
      "cell_type": "code",
      "metadata": {
        "id": "vvOZ5DUfkPIv",
        "colab_type": "code",
        "colab": {
          "base_uri": "https://localhost:8080/",
          "height": 317
        },
        "outputId": "edba807c-c547-4776-b1bf-dcea705a3b30"
      },
      "source": [
        "\n",
        "plt.hist(yw_txt_cats,bins = 14)\n",
        "\n",
        "encoder.inverse_transform([1,2,4,5])"
      ],
      "execution_count": 14,
      "outputs": [
        {
          "output_type": "execute_result",
          "data": {
            "text/plain": [
              "array(['Client aggression towards property', 'Client death (onsite)',\n",
              "       'Homicide (Threat or attempt)', 'Illegal activity on premises'],\n",
              "      dtype='<U55')"
            ]
          },
          "metadata": {
            "tags": []
          },
          "execution_count": 14
        },
        {
          "output_type": "display_data",
          "data": {
            "image/png": "[encoded data removed]",
            "text/plain": [
              "<Figure size 432x288 with 1 Axes>"
            ]
          },
          "metadata": {
            "tags": [],
            "needs_background": "light"
          }
        }
      ]
    },
    {
      "cell_type": "markdown",
      "metadata": {
        "id": "PErhPL6aKlYm",
        "colab_type": "text"
      },
      "source": [
        "To go back our issue on different distribution between train set and test set. We can see train set has all the label classes, but test set has shorted 2 classes. Keep in mind we also set our random_state at 32 and manually optimized the result. The accuracy can drop to 58% with a different random_state settting from my experience "
      ]
    },
    {
      "cell_type": "code",
      "metadata": {
        "id": "g5IeUO3thdLK",
        "colab_type": "code",
        "colab": {
          "base_uri": "https://localhost:8080/",
          "height": 35
        },
        "outputId": "f0a666fc-9164-428b-90a7-a9b7b60b34d8"
      },
      "source": [
        "set(y_train_set)\n"
      ],
      "execution_count": 15,
      "outputs": [
        {
          "output_type": "execute_result",
          "data": {
            "text/plain": [
              "{0, 1, 2, 3, 4, 6, 7, 8, 9, 10, 11, 12, 13}"
            ]
          },
          "metadata": {
            "tags": []
          },
          "execution_count": 15
        }
      ]
    },
    {
      "cell_type": "code",
      "metadata": {
        "id": "wmLaMIrtpi5g",
        "colab_type": "code",
        "colab": {
          "base_uri": "https://localhost:8080/",
          "height": 35
        },
        "outputId": "080c3e35-907a-4d2c-a3af-2d24c4a22c83"
      },
      "source": [
        "set(y_test_set)"
      ],
      "execution_count": 16,
      "outputs": [
        {
          "output_type": "execute_result",
          "data": {
            "text/plain": [
              "{0, 1, 2, 3, 5, 6, 7, 8, 9, 10, 12}"
            ]
          },
          "metadata": {
            "tags": []
          },
          "execution_count": 16
        }
      ]
    },
    {
      "cell_type": "markdown",
      "metadata": {
        "id": "14eEA38ekGEb",
        "colab_type": "text"
      },
      "source": [
        "Here is the block code to illustrate GridSearchCV. The purpose of gridsearch is hyperparameter fine tuning and cross-validate with cross-validation set ( in here, we have another minor problem to consider. As per Andrew N ML course, cross-validation should be similiar size as test set and different from train set). We use training set as both train and cross-validate. With very limited data right now I suggest we keep as only train and test as I have seen most practice out there only consider these type of split.\n",
        "\n",
        "Another purpose of GridSearch is we can set number of n-folds in parameter and it will performance stratified kfold by default"
      ]
    },
    {
      "cell_type": "code",
      "metadata": {
        "id": "d5vLG2jb3dQ3",
        "colab_type": "code",
        "colab": {
          "base_uri": "https://localhost:8080/",
          "height": 141
        },
        "outputId": "9f52e0bc-4995-44b7-ed12-5f153a07fc99"
      },
      "source": [
        "# accuracy score feedback\n",
        "param_grid = {'alpha':np.logspace(-5,0,6),\n",
        "              }\n",
        "print(\"Hyper-parameters for complementNB model are :\")\n",
        "print(cnb.get_params().keys())\n",
        "grid = GridSearchCV(\n",
        "    cnb,\n",
        "    param_grid,\n",
        "    cv =5)\n",
        "\n",
        "grid.fit(X_train_set,y_train_set)\n",
        "print(\"grid best score cross validation at {:.2%}\".format(grid.best_score_))\n",
        "print(\"best grid parameters are :{}\".format(grid.best_params_))\n"
      ],
      "execution_count": 50,
      "outputs": [
        {
          "output_type": "stream",
          "text": [
            "Hyper-parameters for complementNB model are :\n",
            "dict_keys(['alpha', 'class_prior', 'fit_prior', 'norm'])\n",
            "grid best score cross validation at 60.17%\n",
            "best grid parameters are :{'alpha': 1.0}\n"
          ],
          "name": "stdout"
        },
        {
          "output_type": "stream",
          "text": [
            "/usr/local/lib/python3.6/dist-packages/sklearn/model_selection/_split.py:672: UserWarning: The least populated class in y has only 1 members, which is less than n_splits=5.\n",
            "  % (min_groups, self.n_splits)), UserWarning)\n"
          ],
          "name": "stderr"
        }
      ]
    },
    {
      "cell_type": "code",
      "metadata": {
        "id": "PC0ViPiGjV4B",
        "colab_type": "code",
        "colab": {
          "base_uri": "https://localhost:8080/",
          "height": 453
        },
        "outputId": "917b54e8-1866-4ce7-928c-8e7a13960a6a"
      },
      "source": [
        "# balanced accuracy score feedback\n",
        "param_grid = {'alpha':np.logspace(-5,0,6),\n",
        "              }\n",
        "print(\"Hyper-parameters for complementNB model are :\")\n",
        "print(cnb.get_params().keys())\n",
        "grid = GridSearchCV(cnb,param_grid,scoring = scorer,cv =5)\n",
        "grid.fit(X_train_set,y_train_set)\n",
        "print(\"grid best score cross validation at {:.2%}\".format(grid.best_score_))\n",
        "print(\"best grid parameters are :{}\".format(grid.best_params_))"
      ],
      "execution_count": 32,
      "outputs": [
        {
          "output_type": "stream",
          "text": [
            "Hyper-parameters for complementNB model are :\n",
            "dict_keys(['alpha', 'class_prior', 'fit_prior', 'norm'])\n",
            "grid best score cross validation at 38.02%\n",
            "best grid parameters are :{'alpha': 1.0}\n"
          ],
          "name": "stdout"
        },
        {
          "output_type": "stream",
          "text": [
            "/usr/local/lib/python3.6/dist-packages/sklearn/model_selection/_split.py:672: UserWarning: The least populated class in y has only 1 members, which is less than n_splits=5.\n",
            "  % (min_groups, self.n_splits)), UserWarning)\n",
            "/usr/local/lib/python3.6/dist-packages/sklearn/metrics/_classification.py:1814: UserWarning: y_pred contains classes not in y_true\n",
            "  warnings.warn('y_pred contains classes not in y_true')\n",
            "/usr/local/lib/python3.6/dist-packages/sklearn/metrics/_classification.py:1814: UserWarning: y_pred contains classes not in y_true\n",
            "  warnings.warn('y_pred contains classes not in y_true')\n",
            "/usr/local/lib/python3.6/dist-packages/sklearn/metrics/_classification.py:1814: UserWarning: y_pred contains classes not in y_true\n",
            "  warnings.warn('y_pred contains classes not in y_true')\n",
            "/usr/local/lib/python3.6/dist-packages/sklearn/metrics/_classification.py:1814: UserWarning: y_pred contains classes not in y_true\n",
            "  warnings.warn('y_pred contains classes not in y_true')\n",
            "/usr/local/lib/python3.6/dist-packages/sklearn/metrics/_classification.py:1814: UserWarning: y_pred contains classes not in y_true\n",
            "  warnings.warn('y_pred contains classes not in y_true')\n",
            "/usr/local/lib/python3.6/dist-packages/sklearn/metrics/_classification.py:1814: UserWarning: y_pred contains classes not in y_true\n",
            "  warnings.warn('y_pred contains classes not in y_true')\n",
            "/usr/local/lib/python3.6/dist-packages/sklearn/metrics/_classification.py:1814: UserWarning: y_pred contains classes not in y_true\n",
            "  warnings.warn('y_pred contains classes not in y_true')\n",
            "/usr/local/lib/python3.6/dist-packages/sklearn/metrics/_classification.py:1814: UserWarning: y_pred contains classes not in y_true\n",
            "  warnings.warn('y_pred contains classes not in y_true')\n",
            "/usr/local/lib/python3.6/dist-packages/sklearn/metrics/_classification.py:1814: UserWarning: y_pred contains classes not in y_true\n",
            "  warnings.warn('y_pred contains classes not in y_true')\n"
          ],
          "name": "stderr"
        }
      ]
    },
    {
      "cell_type": "markdown",
      "metadata": {
        "id": "3TFtF_Cqr7OU",
        "colab_type": "text"
      },
      "source": [
        "Comming soon I will add more into this notebook on more about data visualization and error evaluation to use heat-map to dig into more about our data"
      ]
    }
  ]
}