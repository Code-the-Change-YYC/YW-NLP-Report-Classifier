{
 "cells": [
  {
   "cell_type": "markdown",
   "source": [
    "Classification of description classes using complement naive bayes"
   ],
   "metadata": {
    "collapsed": false,
    "pycharm": {
     "name": "#%% md\n"
    }
   }
  },
  {
   "cell_type": "code",
   "execution_count": null,
   "metadata": {
    "collapsed": true,
    "pycharm": {
     "is_executing": true
    }
   },
   "outputs": [],
   "source": [
    "from sklearn.feature_extraction.text import TfidfVectorizer\n",
    "from sklearn.model_selection import train_test_split\n",
    "from sklearn.naive_bayes import ComplementNB\n",
    "from sklearn.preprocessing import LabelEncoder\n",
    "from models.utils import clean_scrubadub_entities, nltk_tokenizer\n",
    "from report_data import ReportData\n",
    "from report_data_d import ColName\n",
    "\n",
    "report_data = ReportData()\n",
    "data = report_data.get_processed_data()\n",
    "data[ColName.DESC] = clean_scrubadub_entities(data[ColName.DESC])\n",
    "# X = CountVectorizer(tokenizer=nltk_tokenizer, token_pattern=r'\\b\\w+\\b', ngram_range=(1, 2),\n",
    "#                     min_df=2).fit_transform(data[ColName.DESC])\n",
    "X = TfidfVectorizer(tokenizer=nltk_tokenizer, token_pattern=r'\\b\\w+\\b', ngram_range=(1, 2),\n",
    "                    min_df=2).fit_transform(data[ColName.DESC])\n",
    "label_encoder = LabelEncoder()\n",
    "y = label_encoder.fit_transform(data[ColName.INC_T1])\n",
    "X_train, X_test, y_train, y_test = train_test_split(X, y, train_size=0.75)\n",
    "complement_nb: ComplementNB = ComplementNB()\n",
    "complement_nb.fit(X_train, y_train)\n",
    "nb_score = complement_nb.score(X_test, y_test)\n",
    "print(nb_score)\n"
   ]
  }
 ],
 "metadata": {
  "kernelspec": {
   "display_name": "Python 3",
   "language": "python",
   "name": "python3"
  },
  "language_info": {
   "codemirror_mode": {
    "name": "ipython",
    "version": 2
   },
   "file_extension": ".py",
   "mimetype": "text/x-python",
   "name": "python",
   "nbconvert_exporter": "python",
   "pygments_lexer": "ipython2",
   "version": "2.7.6"
  }
 },
 "nbformat": 4,
 "nbformat_minor": 0
}