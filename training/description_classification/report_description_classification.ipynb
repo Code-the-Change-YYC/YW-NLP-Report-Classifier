{
 "cells": [
  {
   "cell_type": "markdown",
   "metadata": {
    "colab_type": "text",
    "id": "J--poWga3Oag"
   },
   "source": [
    "# Report Description Classification\n",
    "\n",
    "This notebook compares the performance of report classification with preprocessing by Spacy and NLTK, and Complement Naive Bayes and SVM models.\n",
    "\n",
    "> This notebook is based off Bo's [ski_learn_with_spacy_finetune.ipynb](https://github.com/Code-the-Change-YYC/YW-NLP-Report-Classifier/blob/02ff7a9e7f49779c736cbb55edb4e8d2835beddd/notebooks/machine_learning/ski_learn_with_spacy_finetune.ipynb)"
   ]
  },
  {
   "cell_type": "markdown",
   "metadata": {},
   "source": [
    "## Data Specification\n",
    "\n",
    "This notebook was tested with data preprocessed by `ReportData` with 335 training examples.\n",
    "\n",
    "> Lemmatization in preprocessing **is not used** as it is performed in the notebook.\n",
    "\n",
    "Commit tested at: `a9ed0b8b4587410fd969bce6481057b205d9049e`"
   ]
  },
  {
   "cell_type": "markdown",
   "metadata": {},
   "source": [
    "## Results Summary\n",
    "\n",
    "The results of multiple preprocessing combinations are summarized here:\n",
    "\n",
    "![image.png](./images/description_classification_results_no_weights.png)\n",
    "> Placeholder used is `'someone'`. w/o placeholders for scrubadub uses `'{{}}'` entities, and for spacy it uses `'*'` entities"
   ]
  },
  {
   "cell_type": "markdown",
   "metadata": {
    "pycharm": {
     "name": "#%% md\n"
    }
   },
   "source": [
    "## Setup\n",
    "\n",
    "If running this notebook in Google Colab, upload the requested files and allow the dependencies to be installed. The file paths should be treated as relative to the colab file, create any folders necessary to satisfy the paths.\n",
    "\n",
    "Otherwise update the path to allow for necessary imports."
   ]
  },
  {
   "cell_type": "code",
   "execution_count": 1,
   "metadata": {
    "pycharm": {
     "name": "#%%\n"
    }
   },
   "outputs": [],
   "source": [
    "import sys\n",
    "\n",
    "IN_COLAB = \"google.colab\" in sys.modules\n",
    "\n",
    "if IN_COLAB:\n",
    "    from google.colab import files\n",
    "\n",
    "    required_files = [\n",
    "        \"requirements.txt\",\n",
    "        \"data-processed.csv\",\n",
    "        \"report_data.py\",\n",
    "        \"report_data_d.py\",\n",
    "        \"incident_types_d.py\",\n",
    "        \"training/description_classification/utils.py\",\n",
    "        \"training/description_classification/model_paths.py\",\n",
    "    ]\n",
    "    for file in required_files:\n",
    "        print(f\"Upload {file}\")\n",
    "        files.upload()\n",
    "\n",
    "    !pip install -r requirements.txt\n",
    "else:\n",
    "    from os import path\n",
    "\n",
    "    root = path.abspath(path.join(\"..\", \"..\"))\n",
    "    sys.path.append(root)\n",
    "\n",
    "    preprocess = path.join(root, \"preprocess\")\n",
    "    sys.path.append(preprocess)\n",
    "\n",
    "    incident_types = path.join(preprocess, \"incident_types\")\n",
    "    sys.path.append(incident_types)"
   ]
  },
  {
   "cell_type": "code",
   "execution_count": 2,
   "metadata": {
    "colab": {},
    "colab_type": "code",
    "id": "WwaD_fMA3Xrp",
    "pycharm": {
     "name": "#%%\n"
    }
   },
   "outputs": [],
   "source": [
    "import pickle\n",
    "from tempfile import mkdtemp\n",
    "\n",
    "import matplotlib.pyplot as plt\n",
    "import numpy as np\n",
    "import pandas as pd\n",
    "from sklearn import set_config\n",
    "from sklearn.feature_extraction.text import TfidfVectorizer\n",
    "from sklearn.metrics import (\n",
    "    accuracy_score,\n",
    "    balanced_accuracy_score,\n",
    "    classification_report,\n",
    "    plot_confusion_matrix,\n",
    ")\n",
    "from sklearn.model_selection import GridSearchCV, cross_validate, train_test_split\n",
    "from sklearn.naive_bayes import ComplementNB\n",
    "from sklearn.pipeline import make_pipeline\n",
    "from sklearn.svm import SVC\n",
    "from sklearn.utils.class_weight import compute_sample_weight\n",
    "from sklearn.calibration import CalibratedClassifierCV\n",
    "from sklearn.metrics import log_loss\n",
    "from sklearn.preprocessing import LabelEncoder\n",
    "\n",
    "\n",
    "from incident_types_d import IncidentType\n",
    "from preprocess.report_data import ReportData\n",
    "from preprocess.report_data_d import ColName\n",
    "from training.description_classification import model_paths, utils\n",
    "\n",
    "\n",
    "set_config(display=\"diagram\")"
   ]
  },
  {
   "cell_type": "markdown",
   "metadata": {
    "colab_type": "text",
    "id": "5ZyHRCL91ClA",
    "pycharm": {
     "name": "#%% md\n"
    }
   },
   "source": [
    "## Preprocessing\n",
    "\n",
    "NLTK and Spacy versions of preprocessing to remove stop words and non-letter tokens, as well as perform lemmatization."
   ]
  },
  {
   "cell_type": "markdown",
   "metadata": {
    "pycharm": {
     "name": "#%% md\n"
    }
   },
   "source": [
    "Load the data"
   ]
  },
  {
   "cell_type": "code",
   "execution_count": 3,
   "metadata": {
    "colab": {},
    "colab_type": "code",
    "id": "wRoiYwgwUHNI",
    "pycharm": {
     "name": "#%%\n"
    }
   },
   "outputs": [
    {
     "output_type": "stream",
     "name": "stdout",
     "text": [
      "<class 'pandas.core.frame.DataFrame'>\nRangeIndex: 335 entries, 0 to 334\nData columns (total 2 columns):\n #   Column          Non-Null Count  Dtype \n---  ------          --------------  ----- \n 0   ColName.DESC    335 non-null    object\n 1   ColName.INC_T1  335 non-null    object\ndtypes: object(2)\nmemory usage: 5.4+ KB\nNone\n"
     ]
    }
   ],
   "source": [
    "if IN_COLAB:\n",
    "    yw_df = ReportData(out_file_path=\"data-processed.csv\").get_processed_data()\n",
    "else:\n",
    "    yw_df = ReportData().get_processed_data()[[ColName.DESC,ColName.INC_T1]]\n",
    "\n",
    "print(yw_df.info())"
   ]
  },
  {
   "cell_type": "markdown",
   "metadata": {
    "colab_type": "text",
    "id": "DHYQ-ytQ4Fp6",
    "pycharm": {
     "name": "#%% md\n"
    }
   },
   "source": [
    "Summarize the differences between Spacy and NLTK tokenization"
   ]
  },
  {
   "cell_type": "code",
   "execution_count": 4,
   "metadata": {
    "colab": {},
    "colab_type": "code",
    "id": "wRoiYwgwUHNI",
    "pycharm": {
     "name": "#%%\n"
    }
   },
   "outputs": [
    {
     "output_type": "stream",
     "name": "stdout",
     "text": [
      "Spacy tokenization compared to NLTK tokenization on the same report description:\n",
      "\n",
      "Items in spacy_tokens but not in nltk_tokens:\n",
      "['ems', 'assess', 'vital']\n",
      "\n",
      "Items in nltk_tokens but not in spacy_tokens:\n",
      "['could', 'someone', 'make', 'someone', 'someone', 'could', 'call', 'ass', 'someone', 'vitals', 'someone', 'go']\n"
     ]
    }
   ],
   "source": [
    "yw_clean = yw_df[ColName.DESC]\n",
    "\n",
    "print(\n",
    "    \"Spacy tokenization compared to NLTK tokenization on the same report description:\\n\"\n",
    ")\n",
    "spacy_tokens = utils.spacy_tokenizer(yw_clean[0])\n",
    "nltk_tokens = utils.nltk_tokenizer(yw_clean[0])\n",
    "print(\"Items in spacy_tokens but not in nltk_tokens:\")\n",
    "print([x for x in spacy_tokens if x not in nltk_tokens])\n",
    "print()\n",
    "print(\"Items in nltk_tokens but not in spacy_tokens:\")\n",
    "print([x for x in nltk_tokens if x not in spacy_tokens])"
   ]
  },
  {
   "cell_type": "markdown",
   "metadata": {
    "pycharm": {
     "name": "#%% md\n"
    }
   },
   "source": [
    "Use tf-idf with our Spacy tokenizer to vectorize the data. Note:\n",
    "\n",
    "- We match single character alphanumeric words instead of the default minimum double character.\n",
    "- We use both uni-grams and bi-grams, this gives more features and preserves some possibly important ordering. See [here](https://scikit-learn.org/stable/modules/feature_extraction.html?highlight=tfidf#common-vectorizer-usage) for an example.\n",
    "- We set `min_df` to filter odd words that don't appear often. We only need to consider more common word patterns and filter out the odd words."
   ]
  },
  {
   "cell_type": "code",
   "execution_count": 5,
   "metadata": {
    "colab": {},
    "colab_type": "code",
    "id": "-N_M0ErRbfl3",
    "pycharm": {
     "name": "#%%\n"
    }
   },
   "outputs": [],
   "source": [
    "word_vec = TfidfVectorizer(\n",
    "    tokenizer=utils.spacy_tokenizer,\n",
    "    token_pattern=r\"\\b\\w+\\b\",\n",
    "    ngram_range=(1, 2),\n",
    "    min_df=2,\n",
    ")"
   ]
  },
  {
   "cell_type": "markdown",
   "metadata": {
    "colab_type": "text",
    "id": "KIXfSYO_1vQC",
    "pycharm": {
     "name": "#%% md\n"
    }
   },
   "source": [
    "Split data into training and test data. The `random_state` of `32` has been manually optimized for our data."
   ]
  },
  {
   "cell_type": "code",
   "execution_count": 6,
   "metadata": {
    "colab": {},
    "colab_type": "code",
    "id": "Gu7fF5PUZBS0",
    "pycharm": {
     "name": "#%%\n"
    }
   },
   "outputs": [],
   "source": [
    "X = yw_clean\n",
    "y = yw_df[ColName.INC_T1]\n",
    "X_train_set, X_test_set, y_train_set, y_test_set = train_test_split(\n",
    "    X, y, train_size=0.75, random_state=32, shuffle=True\n",
    ")"
   ]
  },
  {
   "cell_type": "markdown",
   "metadata": {
    "colab_type": "text",
    "id": "-GyDpbswryUK",
    "pycharm": {
     "name": "#%% md\n"
    }
   },
   "source": [
    "Compute sample weights for each example, giving higher frequency examples more weight."
   ]
  },
  {
   "cell_type": "code",
   "execution_count": 7,
   "metadata": {
    "colab": {},
    "colab_type": "code",
    "id": "x1hXOh43p9Zy",
    "pycharm": {
     "name": "#%%\n"
    }
   },
   "outputs": [],
   "source": [
    "weight_all = compute_sample_weight(utils.count_weight(y), y)\n",
    "weight_train = compute_sample_weight(utils.count_weight(y_train_set), y_train_set)\n",
    "weight_test = compute_sample_weight(utils.count_weight(y_test_set), y_test_set)"
   ]
  },
  {
   "cell_type": "markdown",
   "metadata": {
    "colab_type": "text",
    "id": "yl7MRO9j1zJq"
   },
   "source": [
    "## Training and Cross Validation Evaluation"
   ]
  },
  {
   "cell_type": "markdown",
   "metadata": {
    "pycharm": {
     "name": "#%% md\n"
    }
   },
   "source": [
    "Initialize and fit the models.\n",
    "> NOTE: Using sample weights with CNB significantly decreases the accuracy, this could be related to the inner workings of the algorithm."
   ]
  },
  {
   "cell_type": "code",
   "execution_count": 8,
   "metadata": {
    "colab": {},
    "colab_type": "code",
    "id": "RIghMdHfZRHv",
    "pycharm": {
     "name": "#%%\n"
    }
   },
   "outputs": [
    {
     "output_type": "execute_result",
     "data": {
      "text/plain": [
       "Pipeline(memory='/tmp/tmpt80_lybh',\n",
       "         steps=[('tfidfvectorizer',\n",
       "                 TfidfVectorizer(min_df=2, ngram_range=(1, 2),\n",
       "                                 token_pattern='\\\\b\\\\w+\\\\b',\n",
       "                                 tokenizer=<function spacy_tokenizer at 0x7fcfc42557b8>)),\n",
       "                ('complementnb', ComplementNB())])"
      ],
      "text/html": "<style>div.sk-top-container {color: black;background-color: white;}div.sk-toggleable {background-color: white;}label.sk-toggleable__label {cursor: pointer;display: block;width: 100%;margin-bottom: 0;padding: 0.2em 0.3em;box-sizing: border-box;text-align: center;}div.sk-toggleable__content {max-height: 0;max-width: 0;overflow: hidden;text-align: left;background-color: #f0f8ff;}div.sk-toggleable__content pre {margin: 0.2em;color: black;border-radius: 0.25em;background-color: #f0f8ff;}input.sk-toggleable__control:checked~div.sk-toggleable__content {max-height: 200px;max-width: 100%;overflow: auto;}div.sk-estimator input.sk-toggleable__control:checked~label.sk-toggleable__label {background-color: #d4ebff;}div.sk-label input.sk-toggleable__control:checked~label.sk-toggleable__label {background-color: #d4ebff;}input.sk-hidden--visually {border: 0;clip: rect(1px 1px 1px 1px);clip: rect(1px, 1px, 1px, 1px);height: 1px;margin: -1px;overflow: hidden;padding: 0;position: absolute;width: 1px;}div.sk-estimator {font-family: monospace;background-color: #f0f8ff;margin: 0.25em 0.25em;border: 1px dotted black;border-radius: 0.25em;box-sizing: border-box;}div.sk-estimator:hover {background-color: #d4ebff;}div.sk-parallel-item::after {content: \"\";width: 100%;border-bottom: 1px solid gray;flex-grow: 1;}div.sk-label:hover label.sk-toggleable__label {background-color: #d4ebff;}div.sk-serial::before {content: \"\";position: absolute;border-left: 1px solid gray;box-sizing: border-box;top: 2em;bottom: 0;left: 50%;}div.sk-serial {display: flex;flex-direction: column;align-items: center;background-color: white;}div.sk-item {z-index: 1;}div.sk-parallel {display: flex;align-items: stretch;justify-content: center;background-color: white;}div.sk-parallel-item {display: flex;flex-direction: column;position: relative;background-color: white;}div.sk-parallel-item:first-child::after {align-self: flex-end;width: 50%;}div.sk-parallel-item:last-child::after {align-self: flex-start;width: 50%;}div.sk-parallel-item:only-child::after {width: 0;}div.sk-dashed-wrapped {border: 1px dashed gray;margin: 0.2em;box-sizing: border-box;padding-bottom: 0.1em;background-color: white;position: relative;}div.sk-label label {font-family: monospace;font-weight: bold;background-color: white;display: inline-block;line-height: 1.2em;}div.sk-label-container {position: relative;z-index: 2;text-align: center;}div.sk-container {display: inline-block;position: relative;}</style><div class=\"sk-top-container\"><div class=\"sk-container\"><div class=\"sk-item sk-dashed-wrapped\"><div class=\"sk-label-container\"><div class=\"sk-label sk-toggleable\"><input class=\"sk-toggleable__control sk-hidden--visually\" id=\"09628852-96df-41fc-9b4a-0b0ceb9f4abb\" type=\"checkbox\" ><label class=\"sk-toggleable__label\" for=\"09628852-96df-41fc-9b4a-0b0ceb9f4abb\">Pipeline</label><div class=\"sk-toggleable__content\"><pre>Pipeline(memory='/tmp/tmpt80_lybh',\n         steps=[('tfidfvectorizer',\n                 TfidfVectorizer(min_df=2, ngram_range=(1, 2),\n                                 token_pattern='\\\\b\\\\w+\\\\b',\n                                 tokenizer=<function spacy_tokenizer at 0x7fcfc42557b8>)),\n                ('complementnb', ComplementNB())])</pre></div></div></div><div class=\"sk-serial\"><div class=\"sk-item\"><div class=\"sk-estimator sk-toggleable\"><input class=\"sk-toggleable__control sk-hidden--visually\" id=\"35b22a70-23f2-4194-adf1-c72b0c0b26d3\" type=\"checkbox\" ><label class=\"sk-toggleable__label\" for=\"35b22a70-23f2-4194-adf1-c72b0c0b26d3\">TfidfVectorizer</label><div class=\"sk-toggleable__content\"><pre>TfidfVectorizer(min_df=2, ngram_range=(1, 2), token_pattern='\\\\b\\\\w+\\\\b',\n                tokenizer=<function spacy_tokenizer at 0x7fcfc42557b8>)</pre></div></div></div><div class=\"sk-item\"><div class=\"sk-estimator sk-toggleable\"><input class=\"sk-toggleable__control sk-hidden--visually\" id=\"92051e73-98eb-44ff-9e05-033f64bd0332\" type=\"checkbox\" ><label class=\"sk-toggleable__label\" for=\"92051e73-98eb-44ff-9e05-033f64bd0332\">ComplementNB</label><div class=\"sk-toggleable__content\"><pre>ComplementNB()</pre></div></div></div></div></div></div></div>"
     },
     "metadata": {},
     "execution_count": 8
    }
   ],
   "source": [
    "cnb_cache = mkdtemp()\n",
    "# cnb = make_pipeline(word_vec, CalibratedClassifierCV(ComplementNB(),method=\"sigmoid\"), memory=cnb_cache)\n",
    "cnb = make_pipeline(word_vec, ComplementNB(), memory=cnb_cache)\n",
    "cnb"
   ]
  },
  {
   "cell_type": "code",
   "execution_count": 9,
   "metadata": {
    "colab": {},
    "colab_type": "code",
    "id": "RIghMdHfZRHv"
   },
   "outputs": [
    {
     "output_type": "execute_result",
     "data": {
      "text/plain": [
       "Pipeline(memory='/tmp/tmpb30tb58i',\n",
       "         steps=[('tfidfvectorizer',\n",
       "                 TfidfVectorizer(min_df=2, ngram_range=(1, 2),\n",
       "                                 token_pattern='\\\\b\\\\w+\\\\b',\n",
       "                                 tokenizer=<function spacy_tokenizer at 0x7fcfc42557b8>)),\n",
       "                ('svc', SVC())])"
      ],
      "text/html": "<style>div.sk-top-container {color: black;background-color: white;}div.sk-toggleable {background-color: white;}label.sk-toggleable__label {cursor: pointer;display: block;width: 100%;margin-bottom: 0;padding: 0.2em 0.3em;box-sizing: border-box;text-align: center;}div.sk-toggleable__content {max-height: 0;max-width: 0;overflow: hidden;text-align: left;background-color: #f0f8ff;}div.sk-toggleable__content pre {margin: 0.2em;color: black;border-radius: 0.25em;background-color: #f0f8ff;}input.sk-toggleable__control:checked~div.sk-toggleable__content {max-height: 200px;max-width: 100%;overflow: auto;}div.sk-estimator input.sk-toggleable__control:checked~label.sk-toggleable__label {background-color: #d4ebff;}div.sk-label input.sk-toggleable__control:checked~label.sk-toggleable__label {background-color: #d4ebff;}input.sk-hidden--visually {border: 0;clip: rect(1px 1px 1px 1px);clip: rect(1px, 1px, 1px, 1px);height: 1px;margin: -1px;overflow: hidden;padding: 0;position: absolute;width: 1px;}div.sk-estimator {font-family: monospace;background-color: #f0f8ff;margin: 0.25em 0.25em;border: 1px dotted black;border-radius: 0.25em;box-sizing: border-box;}div.sk-estimator:hover {background-color: #d4ebff;}div.sk-parallel-item::after {content: \"\";width: 100%;border-bottom: 1px solid gray;flex-grow: 1;}div.sk-label:hover label.sk-toggleable__label {background-color: #d4ebff;}div.sk-serial::before {content: \"\";position: absolute;border-left: 1px solid gray;box-sizing: border-box;top: 2em;bottom: 0;left: 50%;}div.sk-serial {display: flex;flex-direction: column;align-items: center;background-color: white;}div.sk-item {z-index: 1;}div.sk-parallel {display: flex;align-items: stretch;justify-content: center;background-color: white;}div.sk-parallel-item {display: flex;flex-direction: column;position: relative;background-color: white;}div.sk-parallel-item:first-child::after {align-self: flex-end;width: 50%;}div.sk-parallel-item:last-child::after {align-self: flex-start;width: 50%;}div.sk-parallel-item:only-child::after {width: 0;}div.sk-dashed-wrapped {border: 1px dashed gray;margin: 0.2em;box-sizing: border-box;padding-bottom: 0.1em;background-color: white;position: relative;}div.sk-label label {font-family: monospace;font-weight: bold;background-color: white;display: inline-block;line-height: 1.2em;}div.sk-label-container {position: relative;z-index: 2;text-align: center;}div.sk-container {display: inline-block;position: relative;}</style><div class=\"sk-top-container\"><div class=\"sk-container\"><div class=\"sk-item sk-dashed-wrapped\"><div class=\"sk-label-container\"><div class=\"sk-label sk-toggleable\"><input class=\"sk-toggleable__control sk-hidden--visually\" id=\"a5fa324b-e5cb-4d9a-9f44-9198cc665f0b\" type=\"checkbox\" ><label class=\"sk-toggleable__label\" for=\"a5fa324b-e5cb-4d9a-9f44-9198cc665f0b\">Pipeline</label><div class=\"sk-toggleable__content\"><pre>Pipeline(memory='/tmp/tmpb30tb58i',\n         steps=[('tfidfvectorizer',\n                 TfidfVectorizer(min_df=2, ngram_range=(1, 2),\n                                 token_pattern='\\\\b\\\\w+\\\\b',\n                                 tokenizer=<function spacy_tokenizer at 0x7fcfc42557b8>)),\n                ('svc', SVC())])</pre></div></div></div><div class=\"sk-serial\"><div class=\"sk-item\"><div class=\"sk-estimator sk-toggleable\"><input class=\"sk-toggleable__control sk-hidden--visually\" id=\"27b45f87-9e8e-4250-954a-7f41a9f3efc0\" type=\"checkbox\" ><label class=\"sk-toggleable__label\" for=\"27b45f87-9e8e-4250-954a-7f41a9f3efc0\">TfidfVectorizer</label><div class=\"sk-toggleable__content\"><pre>TfidfVectorizer(min_df=2, ngram_range=(1, 2), token_pattern='\\\\b\\\\w+\\\\b',\n                tokenizer=<function spacy_tokenizer at 0x7fcfc42557b8>)</pre></div></div></div><div class=\"sk-item\"><div class=\"sk-estimator sk-toggleable\"><input class=\"sk-toggleable__control sk-hidden--visually\" id=\"97c97f86-1deb-4ee6-9d22-ad1a5d2d9f7a\" type=\"checkbox\" ><label class=\"sk-toggleable__label\" for=\"97c97f86-1deb-4ee6-9d22-ad1a5d2d9f7a\">SVC</label><div class=\"sk-toggleable__content\"><pre>SVC()</pre></div></div></div></div></div></div></div>"
     },
     "metadata": {},
     "execution_count": 9
    }
   ],
   "source": [
    "svm_cache = mkdtemp()\n",
    "svm = make_pipeline(word_vec, SVC(), memory=svm_cache)\n",
    "svm"
   ]
  },
  {
   "cell_type": "markdown",
   "metadata": {
    "colab_type": "text",
    "id": "YL0vW9q8DcTt",
    "pycharm": {
     "name": "#%% md\n"
    }
   },
   "source": [
    "Fine tune the estimator hyperparameters."
   ]
  },
  {
   "cell_type": "code",
   "execution_count": 10,
   "metadata": {},
   "outputs": [],
   "source": [
    "# Save the encoded input as it takes too long to generate each grid search\n",
    "X_train_enc = word_vec.fit_transform(X_train_set)"
   ]
  },
  {
   "cell_type": "code",
   "execution_count": 11,
   "metadata": {
    "colab": {},
    "colab_type": "code",
    "id": "ZlHPD44WRoUV"
   },
   "outputs": [],
   "source": [
    "# To save time some of the best options from previous runs are selected here\n",
    "# Once in a while this should be rerun with all options to ensure the best options haven't become outdated\n",
    "svc_params_list = {\n",
    "    \"C\": np.linspace(1, 0, num=5, endpoint=False),\n",
    "    \"coef0\": np.logspace(-1, 1, num=5),\n",
    "    \"kernel\": [\"sigmoid\"],  # [\"linear\", \"poly\", \"sigmoid\"],\n",
    "    \"gamma\": [\"scale\"],  # [\"scale\", \"auto\"],\n",
    "    \"decision_function_shape\": [\n",
    "        \"ovo\"\n",
    "    ],  # Multi-class is always handled with one-vs-one # [\"ovo\", \"ovr\"],\n",
    "    \"class_weight\": [\"balanced\"],  # [\"balanced\", None],\n",
    "}"
   ]
  },
  {
   "cell_type": "code",
   "execution_count": 12,
   "metadata": {
    "colab": {},
    "colab_type": "code",
    "id": "tK48_p7__Bt5"
   },
   "outputs": [
    {
     "output_type": "stream",
     "name": "stderr",
     "text": [
      "/home/boyang113/.pyenv/versions/3.6.10/lib/python3.6/site-packages/sklearn/model_selection/_split.py:672: UserWarning: The least populated class in y has only 1 members, which is less than n_splits=5.\n  % (min_groups, self.n_splits)), UserWarning)\n"
     ]
    },
    {
     "output_type": "execute_result",
     "data": {
      "text/plain": [
       "GridSearchCV(estimator=SVC(),\n",
       "             param_grid={'C': array([1. , 0.8, 0.6, 0.4, 0.2]),\n",
       "                         'class_weight': ['balanced'],\n",
       "                         'coef0': array([ 0.1       ,  0.31622777,  1.        ,  3.16227766, 10.        ]),\n",
       "                         'decision_function_shape': ['ovo'], 'gamma': ['scale'],\n",
       "                         'kernel': ['sigmoid']})"
      ],
      "text/html": "<style>div.sk-top-container {color: black;background-color: white;}div.sk-toggleable {background-color: white;}label.sk-toggleable__label {cursor: pointer;display: block;width: 100%;margin-bottom: 0;padding: 0.2em 0.3em;box-sizing: border-box;text-align: center;}div.sk-toggleable__content {max-height: 0;max-width: 0;overflow: hidden;text-align: left;background-color: #f0f8ff;}div.sk-toggleable__content pre {margin: 0.2em;color: black;border-radius: 0.25em;background-color: #f0f8ff;}input.sk-toggleable__control:checked~div.sk-toggleable__content {max-height: 200px;max-width: 100%;overflow: auto;}div.sk-estimator input.sk-toggleable__control:checked~label.sk-toggleable__label {background-color: #d4ebff;}div.sk-label input.sk-toggleable__control:checked~label.sk-toggleable__label {background-color: #d4ebff;}input.sk-hidden--visually {border: 0;clip: rect(1px 1px 1px 1px);clip: rect(1px, 1px, 1px, 1px);height: 1px;margin: -1px;overflow: hidden;padding: 0;position: absolute;width: 1px;}div.sk-estimator {font-family: monospace;background-color: #f0f8ff;margin: 0.25em 0.25em;border: 1px dotted black;border-radius: 0.25em;box-sizing: border-box;}div.sk-estimator:hover {background-color: #d4ebff;}div.sk-parallel-item::after {content: \"\";width: 100%;border-bottom: 1px solid gray;flex-grow: 1;}div.sk-label:hover label.sk-toggleable__label {background-color: #d4ebff;}div.sk-serial::before {content: \"\";position: absolute;border-left: 1px solid gray;box-sizing: border-box;top: 2em;bottom: 0;left: 50%;}div.sk-serial {display: flex;flex-direction: column;align-items: center;background-color: white;}div.sk-item {z-index: 1;}div.sk-parallel {display: flex;align-items: stretch;justify-content: center;background-color: white;}div.sk-parallel-item {display: flex;flex-direction: column;position: relative;background-color: white;}div.sk-parallel-item:first-child::after {align-self: flex-end;width: 50%;}div.sk-parallel-item:last-child::after {align-self: flex-start;width: 50%;}div.sk-parallel-item:only-child::after {width: 0;}div.sk-dashed-wrapped {border: 1px dashed gray;margin: 0.2em;box-sizing: border-box;padding-bottom: 0.1em;background-color: white;position: relative;}div.sk-label label {font-family: monospace;font-weight: bold;background-color: white;display: inline-block;line-height: 1.2em;}div.sk-label-container {position: relative;z-index: 2;text-align: center;}div.sk-container {display: inline-block;position: relative;}</style><div class=\"sk-top-container\"><div class=\"sk-container\"><div class=\"sk-item sk-dashed-wrapped\"><div class=\"sk-label-container\"><div class=\"sk-label sk-toggleable\"><input class=\"sk-toggleable__control sk-hidden--visually\" id=\"2e6d8f0e-9f4c-4eee-8305-f0f594fbd482\" type=\"checkbox\" ><label class=\"sk-toggleable__label\" for=\"2e6d8f0e-9f4c-4eee-8305-f0f594fbd482\">GridSearchCV</label><div class=\"sk-toggleable__content\"><pre>GridSearchCV(estimator=SVC(),\n             param_grid={'C': array([1. , 0.8, 0.6, 0.4, 0.2]),\n                         'class_weight': ['balanced'],\n                         'coef0': array([ 0.1       ,  0.31622777,  1.        ,  3.16227766, 10.        ]),\n                         'decision_function_shape': ['ovo'], 'gamma': ['scale'],\n                         'kernel': ['sigmoid']})</pre></div></div></div><div class=\"sk-parallel\"><div class=\"sk-parallel-item\"><div class=\"sk-item\"><div class=\"sk-serial\"><div class=\"sk-item\"><div class=\"sk-estimator sk-toggleable\"><input class=\"sk-toggleable__control sk-hidden--visually\" id=\"5ae9d46b-d875-48c2-b147-4913839fce0e\" type=\"checkbox\" ><label class=\"sk-toggleable__label\" for=\"5ae9d46b-d875-48c2-b147-4913839fce0e\">SVC</label><div class=\"sk-toggleable__content\"><pre>SVC()</pre></div></div></div></div></div></div></div></div></div></div>"
     },
     "metadata": {},
     "execution_count": 12
    }
   ],
   "source": [
    "svm_op = GridSearchCV(svm.named_steps[\"svc\"], param_grid=svc_params_list)\n",
    "svm_op.fit(X_train_enc, y_train_set, sample_weight=weight_train)"
   ]
  },
  {
   "cell_type": "code",
   "execution_count": 13,
   "metadata": {
    "colab": {},
    "colab_type": "code",
    "id": "1ZCkGNV3So0_"
   },
   "outputs": [
    {
     "output_type": "execute_result",
     "data": {
      "text/plain": [
       "{'C': 0.19999999999999996,\n",
       " 'class_weight': 'balanced',\n",
       " 'coef0': 0.31622776601683794,\n",
       " 'decision_function_shape': 'ovo',\n",
       " 'gamma': 'scale',\n",
       " 'kernel': 'sigmoid'}"
      ]
     },
     "metadata": {},
     "execution_count": 13
    }
   ],
   "source": [
    "svm_op.best_params_"
   ]
  },
  {
   "cell_type": "code",
   "execution_count": 14,
   "metadata": {
    "colab": {},
    "colab_type": "code",
    "id": "1omVlVqgYJx6"
   },
   "outputs": [
    {
     "output_type": "stream",
     "name": "stderr",
     "text": [
      "/home/boyang113/.pyenv/versions/3.6.10/lib/python3.6/site-packages/sklearn/model_selection/_split.py:672: UserWarning: The least populated class in y has only 1 members, which is less than n_splits=5.\n  % (min_groups, self.n_splits)), UserWarning)\n/home/boyang113/.pyenv/versions/3.6.10/lib/python3.6/site-packages/sklearn/metrics/_classification.py:1221: UndefinedMetricWarning: Precision is ill-defined and being set to 0.0 in labels with no predicted samples. Use `zero_division` parameter to control this behavior.\n  _warn_prf(average, modifier, msg_start, len(result))\n"
     ]
    }
   ],
   "source": [
    "scoring = [\"recall_weighted\", \"precision_weighted\", \"balanced_accuracy\", \"accuracy\"]\n",
    "fit_params = {\"sample_weight\": weight_train}\n",
    "\n",
    "cv_s = cross_validate(\n",
    "    svm_op.best_estimator_,  # change to svm variable to see differences from fine tuning\n",
    "    X_train_enc,\n",
    "    y_train_set,\n",
    "    scoring=scoring,\n",
    "    fit_params=fit_params,\n",
    ")"
   ]
  },
  {
   "cell_type": "code",
   "execution_count": 15,
   "metadata": {
    "colab": {},
    "colab_type": "code",
    "id": "SKIN__sJfXWO"
   },
   "outputs": [
    {
     "output_type": "stream",
     "name": "stderr",
     "text": [
      "/home/boyang113/.pyenv/versions/3.6.10/lib/python3.6/site-packages/sklearn/model_selection/_split.py:672: UserWarning: The least populated class in y has only 1 members, which is less than n_splits=5.\n  % (min_groups, self.n_splits)), UserWarning)\n"
     ]
    },
    {
     "output_type": "execute_result",
     "data": {
      "text/plain": [
       "GridSearchCV(estimator=ComplementNB(),\n",
       "             param_grid={'alpha': array([3.  , 2.94, 2.88, 2.82, 2.76, 2.7 , 2.64, 2.58, 2.52, 2.46, 2.4 ,\n",
       "       2.34, 2.28, 2.22, 2.16, 2.1 , 2.04, 1.98, 1.92, 1.86, 1.8 , 1.74,\n",
       "       1.68, 1.62, 1.56, 1.5 , 1.44, 1.38, 1.32, 1.26, 1.2 , 1.14, 1.08,\n",
       "       1.02, 0.96, 0.9 , 0.84, 0.78, 0.72, 0.66, 0.6 , 0.54, 0.48, 0.42,\n",
       "       0.36, 0.3 , 0.24, 0.18, 0.12, 0.06])})"
      ],
      "text/html": "<style>div.sk-top-container {color: black;background-color: white;}div.sk-toggleable {background-color: white;}label.sk-toggleable__label {cursor: pointer;display: block;width: 100%;margin-bottom: 0;padding: 0.2em 0.3em;box-sizing: border-box;text-align: center;}div.sk-toggleable__content {max-height: 0;max-width: 0;overflow: hidden;text-align: left;background-color: #f0f8ff;}div.sk-toggleable__content pre {margin: 0.2em;color: black;border-radius: 0.25em;background-color: #f0f8ff;}input.sk-toggleable__control:checked~div.sk-toggleable__content {max-height: 200px;max-width: 100%;overflow: auto;}div.sk-estimator input.sk-toggleable__control:checked~label.sk-toggleable__label {background-color: #d4ebff;}div.sk-label input.sk-toggleable__control:checked~label.sk-toggleable__label {background-color: #d4ebff;}input.sk-hidden--visually {border: 0;clip: rect(1px 1px 1px 1px);clip: rect(1px, 1px, 1px, 1px);height: 1px;margin: -1px;overflow: hidden;padding: 0;position: absolute;width: 1px;}div.sk-estimator {font-family: monospace;background-color: #f0f8ff;margin: 0.25em 0.25em;border: 1px dotted black;border-radius: 0.25em;box-sizing: border-box;}div.sk-estimator:hover {background-color: #d4ebff;}div.sk-parallel-item::after {content: \"\";width: 100%;border-bottom: 1px solid gray;flex-grow: 1;}div.sk-label:hover label.sk-toggleable__label {background-color: #d4ebff;}div.sk-serial::before {content: \"\";position: absolute;border-left: 1px solid gray;box-sizing: border-box;top: 2em;bottom: 0;left: 50%;}div.sk-serial {display: flex;flex-direction: column;align-items: center;background-color: white;}div.sk-item {z-index: 1;}div.sk-parallel {display: flex;align-items: stretch;justify-content: center;background-color: white;}div.sk-parallel-item {display: flex;flex-direction: column;position: relative;background-color: white;}div.sk-parallel-item:first-child::after {align-self: flex-end;width: 50%;}div.sk-parallel-item:last-child::after {align-self: flex-start;width: 50%;}div.sk-parallel-item:only-child::after {width: 0;}div.sk-dashed-wrapped {border: 1px dashed gray;margin: 0.2em;box-sizing: border-box;padding-bottom: 0.1em;background-color: white;position: relative;}div.sk-label label {font-family: monospace;font-weight: bold;background-color: white;display: inline-block;line-height: 1.2em;}div.sk-label-container {position: relative;z-index: 2;text-align: center;}div.sk-container {display: inline-block;position: relative;}</style><div class=\"sk-top-container\"><div class=\"sk-container\"><div class=\"sk-item sk-dashed-wrapped\"><div class=\"sk-label-container\"><div class=\"sk-label sk-toggleable\"><input class=\"sk-toggleable__control sk-hidden--visually\" id=\"df190a25-3a77-476a-9381-c2720b41c22b\" type=\"checkbox\" ><label class=\"sk-toggleable__label\" for=\"df190a25-3a77-476a-9381-c2720b41c22b\">GridSearchCV</label><div class=\"sk-toggleable__content\"><pre>GridSearchCV(estimator=ComplementNB(),\n             param_grid={'alpha': array([3.  , 2.94, 2.88, 2.82, 2.76, 2.7 , 2.64, 2.58, 2.52, 2.46, 2.4 ,\n       2.34, 2.28, 2.22, 2.16, 2.1 , 2.04, 1.98, 1.92, 1.86, 1.8 , 1.74,\n       1.68, 1.62, 1.56, 1.5 , 1.44, 1.38, 1.32, 1.26, 1.2 , 1.14, 1.08,\n       1.02, 0.96, 0.9 , 0.84, 0.78, 0.72, 0.66, 0.6 , 0.54, 0.48, 0.42,\n       0.36, 0.3 , 0.24, 0.18, 0.12, 0.06])})</pre></div></div></div><div class=\"sk-parallel\"><div class=\"sk-parallel-item\"><div class=\"sk-item\"><div class=\"sk-serial\"><div class=\"sk-item\"><div class=\"sk-estimator sk-toggleable\"><input class=\"sk-toggleable__control sk-hidden--visually\" id=\"8c35c679-23e2-424f-9803-c474a16f4053\" type=\"checkbox\" ><label class=\"sk-toggleable__label\" for=\"8c35c679-23e2-424f-9803-c474a16f4053\">ComplementNB</label><div class=\"sk-toggleable__content\"><pre>ComplementNB()</pre></div></div></div></div></div></div></div></div></div></div>"
     },
     "metadata": {},
     "execution_count": 15
    }
   ],
   "source": [
    "cnb_op = GridSearchCV(\n",
    "    # cnb.named_steps[\"calibratedclassifiercv\"].base_estimator,\n",
    "    cnb.named_steps[\"complementnb\"],\n",
    "    param_grid={\"alpha\": np.linspace(3, 0, num=50, endpoint=False)},\n",
    ")\n",
    "cnb_op.fit(X_train_enc, y_train_set)\n",
    "\n"
   ]
  },
  {
   "cell_type": "code",
   "execution_count": 16,
   "metadata": {
    "colab": {},
    "colab_type": "code",
    "id": "SrkJ4F4bfs46",
    "pycharm": {
     "name": "#%%\n"
    }
   },
   "outputs": [
    {
     "output_type": "execute_result",
     "data": {
      "text/plain": [
       "{'alpha': 1.08}"
      ]
     },
     "metadata": {},
     "execution_count": 16
    }
   ],
   "source": [
    "cnb_op.best_params_"
   ]
  },
  {
   "cell_type": "code",
   "execution_count": 17,
   "metadata": {
    "colab": {},
    "colab_type": "code",
    "id": "LlkIYCxkOZ34"
   },
   "outputs": [
    {
     "output_type": "stream",
     "name": "stderr",
     "text": [
      "/home/boyang113/.pyenv/versions/3.6.10/lib/python3.6/site-packages/sklearn/model_selection/_split.py:672: UserWarning: The least populated class in y has only 1 members, which is less than n_splits=5.\n  % (min_groups, self.n_splits)), UserWarning)\n/home/boyang113/.pyenv/versions/3.6.10/lib/python3.6/site-packages/sklearn/metrics/_classification.py:1221: UndefinedMetricWarning: Precision is ill-defined and being set to 0.0 in labels with no predicted samples. Use `zero_division` parameter to control this behavior.\n  _warn_prf(average, modifier, msg_start, len(result))\n/home/boyang113/.pyenv/versions/3.6.10/lib/python3.6/site-packages/sklearn/metrics/_classification.py:1221: UndefinedMetricWarning: Precision is ill-defined and being set to 0.0 in labels with no predicted samples. Use `zero_division` parameter to control this behavior.\n  _warn_prf(average, modifier, msg_start, len(result))\n/home/boyang113/.pyenv/versions/3.6.10/lib/python3.6/site-packages/sklearn/metrics/_classification.py:1221: UndefinedMetricWarning: Precision is ill-defined and being set to 0.0 in labels with no predicted samples. Use `zero_division` parameter to control this behavior.\n  _warn_prf(average, modifier, msg_start, len(result))\n/home/boyang113/.pyenv/versions/3.6.10/lib/python3.6/site-packages/sklearn/metrics/_classification.py:1221: UndefinedMetricWarning: Precision is ill-defined and being set to 0.0 in labels with no predicted samples. Use `zero_division` parameter to control this behavior.\n  _warn_prf(average, modifier, msg_start, len(result))\n/home/boyang113/.pyenv/versions/3.6.10/lib/python3.6/site-packages/sklearn/metrics/_classification.py:1221: UndefinedMetricWarning: Precision is ill-defined and being set to 0.0 in labels with no predicted samples. Use `zero_division` parameter to control this behavior.\n  _warn_prf(average, modifier, msg_start, len(result))\n"
     ]
    }
   ],
   "source": [
    "cv_b = cross_validate(cnb_op.best_estimator_, X_train_enc, y_train_set, scoring=scoring)"
   ]
  },
  {
   "cell_type": "markdown",
   "metadata": {},
   "source": [
    "Cross validation results (training set only)."
   ]
  },
  {
   "source": [
    "metrics = cv_b.keys()\n",
    "names = [\"Metric\", \"Model\"]\n",
    "index = pd.MultiIndex.from_product([metrics, [\"CNB\", \"SVM\"]], names=names)\n",
    "pairs = zip(cv_b.values(), cv_s.values())\n",
    "flattened = sum(pairs, ())\n",
    "df = pd.DataFrame(flattened, index=index)\n",
    "df.join(df.agg(func=[\"mean\", \"max\"], axis=1), on=names)"
   ],
   "cell_type": "markdown",
   "metadata": {
    "collapsed": false,
    "jupyter": {
     "outputs_hidden": false
    },
    "pycharm": {
     "name": "#%%\n"
    }
   }
  },
  {
   "cell_type": "code",
   "execution_count": 18,
   "metadata": {},
   "outputs": [
    {
     "output_type": "stream",
     "name": "stderr",
     "text": [
      "/home/boyang113/.pyenv/versions/3.6.10/lib/python3.6/site-packages/sklearn/model_selection/_split.py:672: UserWarning: The least populated class in y has only 1 members, which is less than n_splits=5.\n",
      "  % (min_groups, self.n_splits)), UserWarning)\n",
      "With sigmoid calibration: 0.162\n",
      "With isotonic calibration: 0.047\n",
      "No calibration: 1.539 \n",
      "\n",
      "encoded index : 7 and class label : Medical emergency\n",
      "No calibration predict proba: 0.38 at index 7\n",
      "With sigmoid calibration predict proba: 0.99 at index 7\n",
      "With isotonic calibration predict proba: 1.00 at index 7\n",
      "\n",
      "encoded index : 9 and class label : Other\n",
      "No calibration predict proba: 0.12 at index 9\n",
      "With sigmoid calibration predict proba: 0.85 at index 9\n",
      "With isotonic calibration predict proba: 1.00 at index 9\n",
      "\n",
      "encoded index : 10 and class label : Security concern\n",
      "No calibration predict proba: 0.13 at index 10\n",
      "With sigmoid calibration predict proba: 0.79 at index 10\n",
      "With isotonic calibration predict proba: 1.00 at index 10\n",
      "\n",
      "encoded index : 7 and class label : Medical emergency\n",
      "No calibration predict proba: 0.24 at index 7\n",
      "With sigmoid calibration predict proba: 0.96 at index 7\n",
      "With isotonic calibration predict proba: 1.00 at index 7\n",
      "\n",
      "encoded index : 7 and class label : Medical emergency\n",
      "No calibration predict proba: 0.39 at index 7\n",
      "With sigmoid calibration predict proba: 0.99 at index 7\n",
      "With isotonic calibration predict proba: 1.00 at index 7\n",
      "\n"
     ]
    }
   ],
   "source": [
    "# initial test out calibrated classifier\n",
    "encoded_desc = word_vec.fit_transform(X)\n",
    "encoder = LabelEncoder()\n",
    "encodedY = encoder.fit_transform(y)\n",
    "cnb_op.fit(encoded_desc,encodedY)\n",
    "\n",
    "\n",
    "cal_clf_sig = CalibratedClassifierCV(cnb_op,cv=\"prefit\",method=\"sigmoid\")\n",
    "cal_clf_iso = CalibratedClassifierCV(cnb_op,cv=\"prefit\",method=\"isotonic\")\n",
    "cal_clf_sig.fit(encoded_desc,encodedY)\n",
    "cal_clf_iso.fit(encoded_desc,encodedY)\n",
    "\n",
    "\n",
    "prob_cnb_sig = cal_clf_sig.predict_proba(encoded_desc)\n",
    "prob_cnb_iso = cal_clf_iso.predict_proba(encoded_desc)\n",
    "prob_cnb_old =cnb_op.predict_proba(encoded_desc) \n",
    "\n",
    "cnb_score_sig =  log_loss(encodedY, prob_cnb_sig)\n",
    "cnb_score_iso =  log_loss(encodedY, prob_cnb_iso)\n",
    "cnb_score_old = log_loss(encodedY,prob_cnb_old)\n",
    "\n",
    "\n",
    "print(\"With sigmoid calibration: %1.3f\" % cnb_score_sig)\n",
    "print(\"With isotonic calibration: %1.3f\" % cnb_score_iso)\n",
    "print(\"No calibration: %1.3f \\n\" % cnb_score_old)\n",
    "\n",
    "# print(\"***************Showing caliberated effects for first 5 datasets***************\")\n",
    "for (i,desc) in enumerate(encodedY[:5]):\n",
    "  print(f\"encoded index : {desc} and class label : {encoder.inverse_transform([desc])[0]}\")\n",
    "  print(f\"No calibration predict proba: {prob_cnb_old[i][desc]:.2f} at index {desc}\")\n",
    "  print(f\"With sigmoid calibration predict proba: {prob_cnb_sig[i][desc]:.2f} at index {desc}\")\n",
    "  print(f\"With isotonic calibration predict proba: {prob_cnb_iso[i][desc]:.2f} at index {desc}\\n\")\n",
    "  \n"
   ]
  },
  {
   "source": [
    "## Model Saving\n",
    "\n",
    "Save the optimized models to pickle files after retraining on the entire dataset. If just training the models you can run only up to this cell.\n",
    "> NOTE: In Colab the files will be saved to the current directory, download these to your local `model_output` folder."
   ],
   "cell_type": "code",
   "metadata": {},
   "execution_count": 19,
   "outputs": [
    {
     "output_type": "error",
     "ename": "SyntaxError",
     "evalue": "invalid syntax (<ipython-input-19-99f2c5ea3796>, line 3)",
     "traceback": [
      "\u001b[0;36m  File \u001b[0;32m\"<ipython-input-19-99f2c5ea3796>\"\u001b[0;36m, line \u001b[0;32m3\u001b[0m\n\u001b[0;31m    Save the optimized models to pickle files after retraining on the entire dataset. If just training the models you can run only up to this cell.\u001b[0m\n\u001b[0m           ^\u001b[0m\n\u001b[0;31mSyntaxError\u001b[0m\u001b[0;31m:\u001b[0m invalid syntax\n"
     ]
    }
   ]
  },
  {
   "cell_type": "code",
   "execution_count": 20,
   "metadata": {
    "tags": []
   },
   "outputs": [],
   "source": [
    "def get_model_output_path(file_name: str, full_path: str) -> str:\n",
    "    return full_path if not IN_COLAB else f\"./{file_name}\"\n",
    "\n",
    "\n",
    "def save_model(model, file_name: str, full_path: str):\n",
    "    with open(get_model_output_path(file_name, full_path), \"wb\") as f:\n",
    "        pickle.dump(model, f)\n",
    "\n",
    "\n",
    "# Ensure each of the pipelines' estimators are using the best params\n",
    "for cv, pipe in [(svm_op, svm)]:\n",
    "    # The last step, the estimator comes after the name\n",
    "    estimator = pipe.steps[-1][1]\n",
    "    estimator.set_params(**cv.best_params_)\n",
    "for cv, pipe in [(cnb_op, cnb)]:\n",
    "    # The last step, the estimator comes after the name\n",
    "    # estimator = pipe.steps[-1][1].base_estimator\n",
    "    estimator = pipe.steps[-1][1]\n",
    "    estimator.set_params(**cv.best_params_)\n",
    "\n",
    "\n",
    "cnb.fit(X, y)\n",
    "\n",
    "\n",
    "# save_model(cnb, model_paths.cnb_cli_file_name, model_paths.cnb_cli)\n",
    "#old path for cnb file.\n",
    "save_model(cnb, model_paths.cnb_file_name, model_paths.cnb)\n",
    "\n",
    "# svm.fit(X, y, svc__sample_weight=weight_all)\n",
    "# save_model(svm, model_paths.svm_file_name, model_paths.svm)\n"
   ]
  },
  {
   "cell_type": "markdown",
   "metadata": {},
   "source": [
    "## Test Set Evaluation"
   ]
  },
  {
   "cell_type": "markdown",
   "metadata": {},
   "source": [
    "Retrain the models on the entire training set. Click on the pipeline steps to view the chosen hyperparameters."
   ]
  },
  {
   "cell_type": "code",
   "execution_count": null,
   "metadata": {},
   "outputs": [],
   "source": [
    "cnb.fit(X_train_set, y_train_set)"
   ]
  },
  {
   "cell_type": "code",
   "execution_count": null,
   "metadata": {},
   "outputs": [],
   "source": [
    "svm.fit(X_train_set, y_train_set, svc__sample_weight=weight_train)"
   ]
  },
  {
   "cell_type": "markdown",
   "metadata": {
    "pycharm": {
     "name": "#%% md\n"
    }
   },
   "source": [
    "> NOTE: Using `sample_weight=weight_test` in our metrics calculations makes samples which are more prevalent in our data contribute more to the overall score."
   ]
  },
  {
   "cell_type": "code",
   "execution_count": null,
   "metadata": {
    "colab": {},
    "colab_type": "code",
    "id": "6GJYVI3TaH7W"
   },
   "outputs": [],
   "source": [
    "print(\"Complement NB train:\\n\")\n",
    "utils.show_classification_report(\n",
    "    cnb, X_train_set, y_train_set, sample_weight=weight_train\n",
    ")"
   ]
  },
  {
   "cell_type": "code",
   "execution_count": null,
   "metadata": {
    "colab": {},
    "colab_type": "code",
    "id": "6GJYVI3TaH7W"
   },
   "outputs": [],
   "source": [
    "print(\"Complement NB test:\\n\")\n",
    "utils.show_classification_report(cnb, X_test_set, y_test_set, sample_weight=weight_test)"
   ]
  },
  {
   "cell_type": "code",
   "execution_count": null,
   "metadata": {
    "colab": {},
    "colab_type": "code",
    "id": "9b8dXW2Be3_f"
   },
   "outputs": [],
   "source": [
    "print(\"SVM-C train:\\n\")\n",
    "utils.show_classification_report(\n",
    "    svm, X_train_set, y_train_set, sample_weight=weight_train\n",
    ")"
   ]
  },
  {
   "cell_type": "code",
   "execution_count": null,
   "metadata": {
    "colab": {},
    "colab_type": "code",
    "id": "9b8dXW2Be3_f"
   },
   "outputs": [],
   "source": [
    "print(\"SVM-C test:\\n\")\n",
    "utils.show_classification_report(svm, X_test_set, y_test_set, sample_weight=weight_test)"
   ]
  }
 ],
 "metadata": {
  "colab": {
   "collapsed_sections": [],
   "name": "nltk_vs_spacy_classification_preprocessing.ipynb",
   "provenance": []
  },
  "kernelspec": {
   "name": "python3610jvsc74a57bd06b65eab8ca55a3eb4279f5080b91c40aaef1937619015e7a792bc5b7c8fd3b93",
   "display_name": "Python 3.6.10 64-bit ('3.6.10': pyenv)"
  },
  "language_info": {
   "codemirror_mode": {
    "name": "ipython",
    "version": 3
   },
   "file_extension": ".py",
   "mimetype": "text/x-python",
   "name": "python",
   "nbconvert_exporter": "python",
   "pygments_lexer": "ipython3",
   "version": "3.6.10"
  },
  "toc-autonumbering": false,
  "toc-showcode": false,
  "toc-showmarkdowntxt": false,
  "toc-showtags": false,
  "metadata": {
   "interpreter": {
    "hash": "6b65eab8ca55a3eb4279f5080b91c40aaef1937619015e7a792bc5b7c8fd3b93"
   }
  }
 },
 "nbformat": 4,
 "nbformat_minor": 4
}