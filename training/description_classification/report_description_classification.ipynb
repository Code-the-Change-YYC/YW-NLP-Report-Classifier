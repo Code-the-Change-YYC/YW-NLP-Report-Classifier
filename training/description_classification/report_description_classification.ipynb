{
 "cells": [
  {
   "cell_type": "markdown",
   "metadata": {
    "colab_type": "text",
    "id": "J--poWga3Oag"
   },
   "source": [
    "# Report Description Classification\n",
    "\n",
    "This notebook compares the performance of report classification with preprocessing by Spacy and NLTK, and Complement Naive Bayes and SVM models.\n",
    "\n",
    "> This notebook is based off Bo's [ski_learn_with_spacy_finetune.ipynb](https://github.com/Code-the-Change-YYC/YW-NLP-Report-Classifier/blob/02ff7a9e7f49779c736cbb55edb4e8d2835beddd/notebooks/machine_learning/ski_learn_with_spacy_finetune.ipynb)"
   ]
  },
  {
   "cell_type": "markdown",
   "metadata": {},
   "source": [
    "## Data Specification\n",
    "\n",
    "This notebook was tested with data preprocessed by `ReportData` with 335 training examples.\n",
    "\n",
    "> Lemmatization in preprocessing **is not used** as it is performed in the notebook.\n",
    "\n",
    "Commit tested at: `a9ed0b8b4587410fd969bce6481057b205d9049e`"
   ]
  },
  {
   "cell_type": "markdown",
   "metadata": {},
   "source": [
    "## Results Summary\n",
    "\n",
    "The results of multiple preprocessing combinations are summarized here:\n",
    "\n",
    "![image.png](./images/description_classification_results_no_weights.png)\n",
    "> Placeholder used is `'someone'`. w/o placeholders for scrubadub uses `'{{}}'` entities, and for spacy it uses `'*'` entities"
   ]
  },
  {
   "cell_type": "markdown",
   "metadata": {
    "pycharm": {
     "name": "#%% md\n"
    }
   },
   "source": [
    "## Setup\n",
    "\n",
    "If running this notebook in Google Colab, upload the requested files and allow the dependencies to be installed. The file paths should be treated as relative to the colab file, create any folders necessary to satisfy the paths.\n",
    "\n",
    "Otherwise update the path to allow for necessary imports."
   ]
  },
  {
   "cell_type": "code",
   "execution_count": 1,
   "metadata": {
    "pycharm": {
     "name": "#%%\n"
    }
   },
   "outputs": [],
   "source": [
    "import sys\n",
    "\n",
    "IN_COLAB = \"google.colab\" in sys.modules\n",
    "\n",
    "if IN_COLAB:\n",
    "    from google.colab import files\n",
    "\n",
    "    required_files = [\n",
    "        \"requirements.txt\",\n",
    "        \"data-processed.csv\",\n",
    "        \"report_data.py\",\n",
    "        \"report_data_d.py\",\n",
    "        \"incident_types_d.py\",\n",
    "        \"training/description_classification/utils.py\",\n",
    "        \"training/description_classification/model_paths.py\",\n",
    "    ]\n",
    "    for file in required_files:\n",
    "        print(f\"Upload {file}\")\n",
    "        files.upload()\n",
    "\n",
    "    !pip install -r requirements.txt\n",
    "else:\n",
    "    from os import path\n",
    "\n",
    "    root = path.abspath(path.join(\"..\", \"..\"))\n",
    "    sys.path.append(root)\n",
    "\n",
    "    preprocess = path.join(root, \"preprocess\")\n",
    "    sys.path.append(preprocess)\n",
    "\n",
    "    incident_types = path.join(preprocess, \"incident_types\")\n",
    "    sys.path.append(incident_types)"
   ]
  },
  {
   "cell_type": "code",
   "execution_count": 2,
   "metadata": {
    "colab": {},
    "colab_type": "code",
    "id": "WwaD_fMA3Xrp",
    "pycharm": {
     "name": "#%%\n"
    }
   },
   "outputs": [],
   "source": [
    "import pickle\n",
    "from tempfile import mkdtemp\n",
    "\n",
    "import matplotlib.pyplot as plt\n",
    "import numpy as np\n",
    "import pandas as pd\n",
    "from sklearn import set_config\n",
    "from sklearn.feature_extraction.text import TfidfVectorizer\n",
    "from sklearn.metrics import (\n",
    "    accuracy_score,\n",
    "    balanced_accuracy_score,\n",
    "    classification_report,\n",
    "    plot_confusion_matrix,\n",
    ")\n",
    "from sklearn.model_selection import GridSearchCV, cross_validate, train_test_split\n",
    "from sklearn.naive_bayes import ComplementNB\n",
    "from sklearn.pipeline import make_pipeline\n",
    "from sklearn.svm import SVC\n",
    "from sklearn.utils.class_weight import compute_sample_weight\n",
    "\n",
    "from incident_types_d import IncidentType\n",
    "from report_data import ReportData\n",
    "from report_data_d import ColName\n",
    "from training.description_classification import model_paths, utils\n",
    "\n",
    "set_config(display=\"diagram\")"
   ]
  },
  {
   "cell_type": "markdown",
   "metadata": {
    "colab_type": "text",
    "id": "5ZyHRCL91ClA",
    "pycharm": {
     "name": "#%% md\n"
    }
   },
   "source": [
    "## Preprocessing\n",
    "\n",
    "NLTK and Spacy versions of preprocessing to remove stop words and non-letter tokens, as well as perform lemmatization."
   ]
  },
  {
   "cell_type": "markdown",
   "metadata": {
    "pycharm": {
     "name": "#%% md\n"
    }
   },
   "source": [
    "Load the data"
   ]
  },
  {
   "cell_type": "code",
   "execution_count": 3,
   "metadata": {
    "colab": {},
    "colab_type": "code",
    "id": "wRoiYwgwUHNI",
    "pycharm": {
     "name": "#%%\n"
    }
   },
   "outputs": [
    {
     "name": "stdout",
     "output_type": "stream",
     "text": [
      "<class 'pandas.core.frame.DataFrame'>\n",
      "RangeIndex: 335 entries, 0 to 334\n",
      "Data columns (total 2 columns):\n",
      " #   Column          Non-Null Count  Dtype \n",
      "---  ------          --------------  ----- \n",
      " 0   ColName.DESC    335 non-null    object\n",
      " 1   ColName.INC_T1  335 non-null    object\n",
      "dtypes: object(2)\n",
      "memory usage: 5.4+ KB\n",
      "None\n"
     ]
    }
   ],
   "source": [
    "if IN_COLAB:\n",
    "    yw_df = ReportData(out_file_path=\"data-processed.csv\").get_processed_data()\n",
    "else:\n",
    "    yw_df = ReportData().get_processed_data()[[ColName.DESC, ColName.INC_T1]]\n",
    "\n",
    "print(yw_df.info())"
   ]
  },
  {
   "cell_type": "markdown",
   "metadata": {
    "colab_type": "text",
    "id": "DHYQ-ytQ4Fp6",
    "pycharm": {
     "name": "#%% md\n"
    }
   },
   "source": [
    "Summarize the differences between Spacy and NLTK tokenization"
   ]
  },
  {
   "cell_type": "code",
   "execution_count": 4,
   "metadata": {
    "colab": {},
    "colab_type": "code",
    "id": "wRoiYwgwUHNI",
    "pycharm": {
     "name": "#%%\n"
    }
   },
   "outputs": [
    {
     "name": "stdout",
     "output_type": "stream",
     "text": [
      "Spacy tokenization compared to NLTK tokenization on the same report description:\n",
      "\n",
      "Items in spacy_tokens but not in nltk_tokens:\n",
      "['NAME+INITIALS-0', 'make', 'check', 'NAME+INITIALS-0', 'appear', 'NAME+INITIALS-0', 'tell', 'want', 'call', 'initials-1', 'initials-1', 'arrive', 'assess', 'NAME+INITIALS-0', 'state', 'vital', 'appear', 'struggle', 'NAME+INITIALS-0', 'decline', 'go', 'initials-1']\n",
      "\n",
      "Items in nltk_tokens but not in spacy_tokens:\n",
      "['could', 'making', 'checked', 'breathing', 'appeared', 'told', 'could', 'wanted', 'called', 'arrived', 'assessed', 'stated', 'vitals', 'appeared', 'struggling', 'declined', 'going']\n"
     ]
    }
   ],
   "source": [
    "yw_clean = yw_df[ColName.DESC]\n",
    "\n",
    "print(\n",
    "    \"Spacy tokenization compared to NLTK tokenization on the same report description:\\n\"\n",
    ")\n",
    "spacy_tokens = utils.spacy_tokenizer(yw_clean[0])\n",
    "nltk_tokens = utils.nltk_tokenizer(yw_clean[0])\n",
    "print(\"Items in spacy_tokens but not in nltk_tokens:\")\n",
    "print([x for x in spacy_tokens if x not in nltk_tokens])\n",
    "print()\n",
    "print(\"Items in nltk_tokens but not in spacy_tokens:\")\n",
    "print([x for x in nltk_tokens if x not in spacy_tokens])"
   ]
  },
  {
   "cell_type": "markdown",
   "metadata": {
    "pycharm": {
     "name": "#%% md\n"
    }
   },
   "source": [
    "Use tf-idf with our Spacy tokenizer to vectorize the data. Note:\n",
    "\n",
    "- We match single character alphanumeric words instead of the default minimum double character.\n",
    "- We use both uni-grams and bi-grams, this gives more features and preserves some possibly important ordering. See [here](https://scikit-learn.org/stable/modules/feature_extraction.html?highlight=tfidf#common-vectorizer-usage) for an example.\n",
    "- We set `min_df` to filter odd words that don't appear often. We only need to consider more common word patterns and filter out the odd words."
   ]
  },
  {
   "cell_type": "code",
   "execution_count": 5,
   "metadata": {
    "colab": {},
    "colab_type": "code",
    "id": "-N_M0ErRbfl3",
    "pycharm": {
     "name": "#%%\n"
    }
   },
   "outputs": [],
   "source": [
    "word_vec = TfidfVectorizer(\n",
    "    tokenizer=utils.spacy_tokenizer,\n",
    "    token_pattern=r\"\\b\\w+\\b\",\n",
    "    ngram_range=(1, 2),\n",
    "    min_df=2,\n",
    ")"
   ]
  },
  {
   "cell_type": "markdown",
   "metadata": {
    "colab_type": "text",
    "id": "KIXfSYO_1vQC",
    "pycharm": {
     "name": "#%% md\n"
    }
   },
   "source": [
    "Split data into training and test data. The `random_state` of `32` has been manually optimized for our data."
   ]
  },
  {
   "cell_type": "code",
   "execution_count": 6,
   "metadata": {
    "colab": {},
    "colab_type": "code",
    "id": "Gu7fF5PUZBS0",
    "pycharm": {
     "name": "#%%\n"
    }
   },
   "outputs": [],
   "source": [
    "X = yw_clean\n",
    "y = yw_df[ColName.INC_T1]\n",
    "X_train_set, X_test_set, y_train_set, y_test_set = train_test_split(\n",
    "    X, y, train_size=0.75, random_state=32, shuffle=True\n",
    ")"
   ]
  },
  {
   "cell_type": "markdown",
   "metadata": {
    "colab_type": "text",
    "id": "UQYBKfsz4LRV",
    "pycharm": {
     "name": "#%% md\n"
    }
   },
   "source": [
    "Assigns each label class a weight according to it's frequency of appearance in the dataset."
   ]
  },
  {
   "cell_type": "code",
   "execution_count": 7,
   "metadata": {
    "colab": {},
    "colab_type": "code",
    "id": "YwK5Ksf9Tz2Y",
    "pycharm": {
     "name": "#%%\n"
    }
   },
   "outputs": [],
   "source": [
    "def count_weight(labels):\n",
    "    weight_dict = {lb: 0 for lb in set(labels)}\n",
    "\n",
    "    for label in labels:\n",
    "        weight_dict[label] += 1\n",
    "\n",
    "    return weight_dict"
   ]
  },
  {
   "cell_type": "markdown",
   "metadata": {
    "colab_type": "text",
    "id": "-GyDpbswryUK",
    "pycharm": {
     "name": "#%% md\n"
    }
   },
   "source": [
    "Compute sample weights for each example, giving higher frequency examples more weight."
   ]
  },
  {
   "cell_type": "code",
   "execution_count": 8,
   "metadata": {
    "colab": {},
    "colab_type": "code",
    "id": "x1hXOh43p9Zy",
    "pycharm": {
     "name": "#%%\n"
    }
   },
   "outputs": [],
   "source": [
    "weight_all = compute_sample_weight(count_weight(y), y)\n",
    "weight_train = compute_sample_weight(count_weight(y_train_set), y_train_set)\n",
    "weight_test = compute_sample_weight(count_weight(y_test_set), y_test_set)"
   ]
  },
  {
   "cell_type": "markdown",
   "metadata": {
    "colab_type": "text",
    "id": "yl7MRO9j1zJq"
   },
   "source": [
    "## Training and Cross Validation Evaluation"
   ]
  },
  {
   "cell_type": "markdown",
   "metadata": {
    "pycharm": {
     "name": "#%% md\n"
    }
   },
   "source": [
    "Initialize and fit the models.\n",
    "> NOTE: Using sample weights with CNB significantly decreases the accuracy, this could be related to the inner workings of the algorithm."
   ]
  },
  {
   "cell_type": "code",
   "execution_count": 9,
   "metadata": {
    "colab": {},
    "colab_type": "code",
    "id": "RIghMdHfZRHv",
    "pycharm": {
     "name": "#%%\n"
    }
   },
   "outputs": [
    {
     "data": {
      "text/html": [
       "<style>div.sk-top-container {color: black;background-color: white;}div.sk-toggleable {background-color: white;}label.sk-toggleable__label {cursor: pointer;display: block;width: 100%;margin-bottom: 0;padding: 0.2em 0.3em;box-sizing: border-box;text-align: center;}div.sk-toggleable__content {max-height: 0;max-width: 0;overflow: hidden;text-align: left;background-color: #f0f8ff;}div.sk-toggleable__content pre {margin: 0.2em;color: black;border-radius: 0.25em;background-color: #f0f8ff;}input.sk-toggleable__control:checked~div.sk-toggleable__content {max-height: 200px;max-width: 100%;overflow: auto;}div.sk-estimator input.sk-toggleable__control:checked~label.sk-toggleable__label {background-color: #d4ebff;}div.sk-label input.sk-toggleable__control:checked~label.sk-toggleable__label {background-color: #d4ebff;}input.sk-hidden--visually {border: 0;clip: rect(1px 1px 1px 1px);clip: rect(1px, 1px, 1px, 1px);height: 1px;margin: -1px;overflow: hidden;padding: 0;position: absolute;width: 1px;}div.sk-estimator {font-family: monospace;background-color: #f0f8ff;margin: 0.25em 0.25em;border: 1px dotted black;border-radius: 0.25em;box-sizing: border-box;}div.sk-estimator:hover {background-color: #d4ebff;}div.sk-parallel-item::after {content: \"\";width: 100%;border-bottom: 1px solid gray;flex-grow: 1;}div.sk-label:hover label.sk-toggleable__label {background-color: #d4ebff;}div.sk-serial::before {content: \"\";position: absolute;border-left: 1px solid gray;box-sizing: border-box;top: 2em;bottom: 0;left: 50%;}div.sk-serial {display: flex;flex-direction: column;align-items: center;background-color: white;}div.sk-item {z-index: 1;}div.sk-parallel {display: flex;align-items: stretch;justify-content: center;background-color: white;}div.sk-parallel-item {display: flex;flex-direction: column;position: relative;background-color: white;}div.sk-parallel-item:first-child::after {align-self: flex-end;width: 50%;}div.sk-parallel-item:last-child::after {align-self: flex-start;width: 50%;}div.sk-parallel-item:only-child::after {width: 0;}div.sk-dashed-wrapped {border: 1px dashed gray;margin: 0.2em;box-sizing: border-box;padding-bottom: 0.1em;background-color: white;position: relative;}div.sk-label label {font-family: monospace;font-weight: bold;background-color: white;display: inline-block;line-height: 1.2em;}div.sk-label-container {position: relative;z-index: 2;text-align: center;}div.sk-container {display: inline-block;position: relative;}</style><div class=\"sk-top-container\"><div class=\"sk-container\"><div class=\"sk-item sk-dashed-wrapped\"><div class=\"sk-label-container\"><div class=\"sk-label sk-toggleable\"><input class=\"sk-toggleable__control sk-hidden--visually\" id=\"7df2326a-547c-4441-9acf-8ff8f94be6cd\" type=\"checkbox\" ><label class=\"sk-toggleable__label\" for=\"7df2326a-547c-4441-9acf-8ff8f94be6cd\">Pipeline</label><div class=\"sk-toggleable__content\"><pre>Pipeline(memory='C:\\\\Users\\\\siepp\\\\AppData\\\\Local\\\\Temp\\\\tmpb5vjnddn',\n",
       "         steps=[('tfidfvectorizer',\n",
       "                 TfidfVectorizer(min_df=2, ngram_range=(1, 2),\n",
       "                                 token_pattern='\\\\b\\\\w+\\\\b',\n",
       "                                 tokenizer=<function spacy_tokenizer at 0x000001F9E65280D0>)),\n",
       "                ('complementnb', ComplementNB())])</pre></div></div></div><div class=\"sk-serial\"><div class=\"sk-item\"><div class=\"sk-estimator sk-toggleable\"><input class=\"sk-toggleable__control sk-hidden--visually\" id=\"9ade51e4-515e-476b-8d55-cfda4ba69b38\" type=\"checkbox\" ><label class=\"sk-toggleable__label\" for=\"9ade51e4-515e-476b-8d55-cfda4ba69b38\">TfidfVectorizer</label><div class=\"sk-toggleable__content\"><pre>TfidfVectorizer(min_df=2, ngram_range=(1, 2), token_pattern='\\\\b\\\\w+\\\\b',\n",
       "                tokenizer=<function spacy_tokenizer at 0x000001F9E65280D0>)</pre></div></div></div><div class=\"sk-item\"><div class=\"sk-estimator sk-toggleable\"><input class=\"sk-toggleable__control sk-hidden--visually\" id=\"7465d7e6-b5c5-49a6-812c-258206aa956b\" type=\"checkbox\" ><label class=\"sk-toggleable__label\" for=\"7465d7e6-b5c5-49a6-812c-258206aa956b\">ComplementNB</label><div class=\"sk-toggleable__content\"><pre>ComplementNB()</pre></div></div></div></div></div></div></div>"
      ],
      "text/plain": [
       "Pipeline(memory='C:\\\\Users\\\\siepp\\\\AppData\\\\Local\\\\Temp\\\\tmpb5vjnddn',\n",
       "         steps=[('tfidfvectorizer',\n",
       "                 TfidfVectorizer(min_df=2, ngram_range=(1, 2),\n",
       "                                 token_pattern='\\\\b\\\\w+\\\\b',\n",
       "                                 tokenizer=<function spacy_tokenizer at 0x000001F9E65280D0>)),\n",
       "                ('complementnb', ComplementNB())])"
      ]
     },
     "execution_count": 9,
     "metadata": {},
     "output_type": "execute_result"
    }
   ],
   "source": [
    "cnb_cache = mkdtemp()\n",
    "cnb = make_pipeline(word_vec, ComplementNB(), memory=cnb_cache)\n",
    "cnb"
   ]
  },
  {
   "cell_type": "code",
   "execution_count": 10,
   "metadata": {
    "colab": {},
    "colab_type": "code",
    "id": "RIghMdHfZRHv"
   },
   "outputs": [
    {
     "data": {
      "text/html": [
       "<style>div.sk-top-container {color: black;background-color: white;}div.sk-toggleable {background-color: white;}label.sk-toggleable__label {cursor: pointer;display: block;width: 100%;margin-bottom: 0;padding: 0.2em 0.3em;box-sizing: border-box;text-align: center;}div.sk-toggleable__content {max-height: 0;max-width: 0;overflow: hidden;text-align: left;background-color: #f0f8ff;}div.sk-toggleable__content pre {margin: 0.2em;color: black;border-radius: 0.25em;background-color: #f0f8ff;}input.sk-toggleable__control:checked~div.sk-toggleable__content {max-height: 200px;max-width: 100%;overflow: auto;}div.sk-estimator input.sk-toggleable__control:checked~label.sk-toggleable__label {background-color: #d4ebff;}div.sk-label input.sk-toggleable__control:checked~label.sk-toggleable__label {background-color: #d4ebff;}input.sk-hidden--visually {border: 0;clip: rect(1px 1px 1px 1px);clip: rect(1px, 1px, 1px, 1px);height: 1px;margin: -1px;overflow: hidden;padding: 0;position: absolute;width: 1px;}div.sk-estimator {font-family: monospace;background-color: #f0f8ff;margin: 0.25em 0.25em;border: 1px dotted black;border-radius: 0.25em;box-sizing: border-box;}div.sk-estimator:hover {background-color: #d4ebff;}div.sk-parallel-item::after {content: \"\";width: 100%;border-bottom: 1px solid gray;flex-grow: 1;}div.sk-label:hover label.sk-toggleable__label {background-color: #d4ebff;}div.sk-serial::before {content: \"\";position: absolute;border-left: 1px solid gray;box-sizing: border-box;top: 2em;bottom: 0;left: 50%;}div.sk-serial {display: flex;flex-direction: column;align-items: center;background-color: white;}div.sk-item {z-index: 1;}div.sk-parallel {display: flex;align-items: stretch;justify-content: center;background-color: white;}div.sk-parallel-item {display: flex;flex-direction: column;position: relative;background-color: white;}div.sk-parallel-item:first-child::after {align-self: flex-end;width: 50%;}div.sk-parallel-item:last-child::after {align-self: flex-start;width: 50%;}div.sk-parallel-item:only-child::after {width: 0;}div.sk-dashed-wrapped {border: 1px dashed gray;margin: 0.2em;box-sizing: border-box;padding-bottom: 0.1em;background-color: white;position: relative;}div.sk-label label {font-family: monospace;font-weight: bold;background-color: white;display: inline-block;line-height: 1.2em;}div.sk-label-container {position: relative;z-index: 2;text-align: center;}div.sk-container {display: inline-block;position: relative;}</style><div class=\"sk-top-container\"><div class=\"sk-container\"><div class=\"sk-item sk-dashed-wrapped\"><div class=\"sk-label-container\"><div class=\"sk-label sk-toggleable\"><input class=\"sk-toggleable__control sk-hidden--visually\" id=\"0f1d0348-d2d2-47d1-87a0-a3c7553bb75d\" type=\"checkbox\" ><label class=\"sk-toggleable__label\" for=\"0f1d0348-d2d2-47d1-87a0-a3c7553bb75d\">Pipeline</label><div class=\"sk-toggleable__content\"><pre>Pipeline(memory='C:\\\\Users\\\\siepp\\\\AppData\\\\Local\\\\Temp\\\\tmpj2lw9ujh',\n",
       "         steps=[('tfidfvectorizer',\n",
       "                 TfidfVectorizer(min_df=2, ngram_range=(1, 2),\n",
       "                                 token_pattern='\\\\b\\\\w+\\\\b',\n",
       "                                 tokenizer=<function spacy_tokenizer at 0x000001F9E65280D0>)),\n",
       "                ('svc', SVC())])</pre></div></div></div><div class=\"sk-serial\"><div class=\"sk-item\"><div class=\"sk-estimator sk-toggleable\"><input class=\"sk-toggleable__control sk-hidden--visually\" id=\"610e5e6b-2640-4be3-a764-e92f5066b444\" type=\"checkbox\" ><label class=\"sk-toggleable__label\" for=\"610e5e6b-2640-4be3-a764-e92f5066b444\">TfidfVectorizer</label><div class=\"sk-toggleable__content\"><pre>TfidfVectorizer(min_df=2, ngram_range=(1, 2), token_pattern='\\\\b\\\\w+\\\\b',\n",
       "                tokenizer=<function spacy_tokenizer at 0x000001F9E65280D0>)</pre></div></div></div><div class=\"sk-item\"><div class=\"sk-estimator sk-toggleable\"><input class=\"sk-toggleable__control sk-hidden--visually\" id=\"ee8f256a-c237-4c1f-a63f-e86392c0bfe3\" type=\"checkbox\" ><label class=\"sk-toggleable__label\" for=\"ee8f256a-c237-4c1f-a63f-e86392c0bfe3\">SVC</label><div class=\"sk-toggleable__content\"><pre>SVC()</pre></div></div></div></div></div></div></div>"
      ],
      "text/plain": [
       "Pipeline(memory='C:\\\\Users\\\\siepp\\\\AppData\\\\Local\\\\Temp\\\\tmpj2lw9ujh',\n",
       "         steps=[('tfidfvectorizer',\n",
       "                 TfidfVectorizer(min_df=2, ngram_range=(1, 2),\n",
       "                                 token_pattern='\\\\b\\\\w+\\\\b',\n",
       "                                 tokenizer=<function spacy_tokenizer at 0x000001F9E65280D0>)),\n",
       "                ('svc', SVC())])"
      ]
     },
     "execution_count": 10,
     "metadata": {},
     "output_type": "execute_result"
    }
   ],
   "source": [
    "svm_cache = mkdtemp()\n",
    "svm = make_pipeline(word_vec, SVC(), memory=svm_cache)\n",
    "svm"
   ]
  },
  {
   "cell_type": "markdown",
   "metadata": {
    "colab_type": "text",
    "id": "YL0vW9q8DcTt",
    "pycharm": {
     "name": "#%% md\n"
    }
   },
   "source": [
    "Fine tune the estimator hyperparameters."
   ]
  },
  {
   "cell_type": "code",
   "execution_count": 11,
   "metadata": {},
   "outputs": [],
   "source": [
    "# Save the encoded input as it takes too long to generate each grid search\n",
    "X_train_enc = word_vec.fit_transform(X_train_set)"
   ]
  },
  {
   "cell_type": "code",
   "execution_count": 12,
   "metadata": {
    "colab": {},
    "colab_type": "code",
    "id": "ZlHPD44WRoUV"
   },
   "outputs": [],
   "source": [
    "# To save time some of the best options from previous runs are selected here\n",
    "# Once in a while this should be rerun with all options to ensure the best options haven't become outdated\n",
    "svc_params_list = {\n",
    "    \"C\": np.linspace(1, 0, num=5, endpoint=False),\n",
    "    \"coef0\": np.logspace(-1, 1, num=5),\n",
    "    \"kernel\": [\"sigmoid\"],  # [\"linear\", \"poly\", \"sigmoid\"],\n",
    "    \"gamma\": [\"scale\"],  # [\"scale\", \"auto\"],\n",
    "    \"decision_function_shape\": [\n",
    "        \"ovo\"\n",
    "    ],  # Multi-class is always handled with one-vs-one # [\"ovo\", \"ovr\"],\n",
    "    \"class_weight\": [\"balanced\"],  # [\"balanced\", None],\n",
    "}"
   ]
  },
  {
   "cell_type": "code",
   "execution_count": 13,
   "metadata": {
    "colab": {},
    "colab_type": "code",
    "id": "tK48_p7__Bt5"
   },
   "outputs": [
    {
     "name": "stderr",
     "output_type": "stream",
     "text": [
      "c:\\users\\siepp\\desktop\\school\\code-the-change\\yw-nlp-report-classifier\\.env\\lib\\site-packages\\sklearn\\model_selection\\_split.py:670: UserWarning: The least populated class in y has only 1 members, which is less than n_splits=5.\n",
      "  warnings.warn((\"The least populated class in y has only %d\"\n"
     ]
    },
    {
     "data": {
      "text/html": [
       "<style>div.sk-top-container {color: black;background-color: white;}div.sk-toggleable {background-color: white;}label.sk-toggleable__label {cursor: pointer;display: block;width: 100%;margin-bottom: 0;padding: 0.2em 0.3em;box-sizing: border-box;text-align: center;}div.sk-toggleable__content {max-height: 0;max-width: 0;overflow: hidden;text-align: left;background-color: #f0f8ff;}div.sk-toggleable__content pre {margin: 0.2em;color: black;border-radius: 0.25em;background-color: #f0f8ff;}input.sk-toggleable__control:checked~div.sk-toggleable__content {max-height: 200px;max-width: 100%;overflow: auto;}div.sk-estimator input.sk-toggleable__control:checked~label.sk-toggleable__label {background-color: #d4ebff;}div.sk-label input.sk-toggleable__control:checked~label.sk-toggleable__label {background-color: #d4ebff;}input.sk-hidden--visually {border: 0;clip: rect(1px 1px 1px 1px);clip: rect(1px, 1px, 1px, 1px);height: 1px;margin: -1px;overflow: hidden;padding: 0;position: absolute;width: 1px;}div.sk-estimator {font-family: monospace;background-color: #f0f8ff;margin: 0.25em 0.25em;border: 1px dotted black;border-radius: 0.25em;box-sizing: border-box;}div.sk-estimator:hover {background-color: #d4ebff;}div.sk-parallel-item::after {content: \"\";width: 100%;border-bottom: 1px solid gray;flex-grow: 1;}div.sk-label:hover label.sk-toggleable__label {background-color: #d4ebff;}div.sk-serial::before {content: \"\";position: absolute;border-left: 1px solid gray;box-sizing: border-box;top: 2em;bottom: 0;left: 50%;}div.sk-serial {display: flex;flex-direction: column;align-items: center;background-color: white;}div.sk-item {z-index: 1;}div.sk-parallel {display: flex;align-items: stretch;justify-content: center;background-color: white;}div.sk-parallel-item {display: flex;flex-direction: column;position: relative;background-color: white;}div.sk-parallel-item:first-child::after {align-self: flex-end;width: 50%;}div.sk-parallel-item:last-child::after {align-self: flex-start;width: 50%;}div.sk-parallel-item:only-child::after {width: 0;}div.sk-dashed-wrapped {border: 1px dashed gray;margin: 0.2em;box-sizing: border-box;padding-bottom: 0.1em;background-color: white;position: relative;}div.sk-label label {font-family: monospace;font-weight: bold;background-color: white;display: inline-block;line-height: 1.2em;}div.sk-label-container {position: relative;z-index: 2;text-align: center;}div.sk-container {display: inline-block;position: relative;}</style><div class=\"sk-top-container\"><div class=\"sk-container\"><div class=\"sk-item sk-dashed-wrapped\"><div class=\"sk-label-container\"><div class=\"sk-label sk-toggleable\"><input class=\"sk-toggleable__control sk-hidden--visually\" id=\"e185a6f8-3aa5-480a-a686-824664ddf499\" type=\"checkbox\" ><label class=\"sk-toggleable__label\" for=\"e185a6f8-3aa5-480a-a686-824664ddf499\">GridSearchCV</label><div class=\"sk-toggleable__content\"><pre>GridSearchCV(estimator=SVC(),\n",
       "             param_grid={'C': array([1. , 0.8, 0.6, 0.4, 0.2]),\n",
       "                         'class_weight': ['balanced'],\n",
       "                         'coef0': array([ 0.1       ,  0.31622777,  1.        ,  3.16227766, 10.        ]),\n",
       "                         'decision_function_shape': ['ovo'], 'gamma': ['scale'],\n",
       "                         'kernel': ['sigmoid']})</pre></div></div></div><div class=\"sk-parallel\"><div class=\"sk-parallel-item\"><div class=\"sk-item\"><div class=\"sk-serial\"><div class=\"sk-item\"><div class=\"sk-estimator sk-toggleable\"><input class=\"sk-toggleable__control sk-hidden--visually\" id=\"05f56be4-26a1-4dd8-94ac-2ca5aa319547\" type=\"checkbox\" ><label class=\"sk-toggleable__label\" for=\"05f56be4-26a1-4dd8-94ac-2ca5aa319547\">SVC</label><div class=\"sk-toggleable__content\"><pre>SVC()</pre></div></div></div></div></div></div></div></div></div></div>"
      ],
      "text/plain": [
       "GridSearchCV(estimator=SVC(),\n",
       "             param_grid={'C': array([1. , 0.8, 0.6, 0.4, 0.2]),\n",
       "                         'class_weight': ['balanced'],\n",
       "                         'coef0': array([ 0.1       ,  0.31622777,  1.        ,  3.16227766, 10.        ]),\n",
       "                         'decision_function_shape': ['ovo'], 'gamma': ['scale'],\n",
       "                         'kernel': ['sigmoid']})"
      ]
     },
     "execution_count": 13,
     "metadata": {},
     "output_type": "execute_result"
    }
   ],
   "source": [
    "svm_op = GridSearchCV(svm.named_steps[\"svc\"], param_grid=svc_params_list)\n",
    "svm_op.fit(X_train_enc, y_train_set, sample_weight=weight_train)"
   ]
  },
  {
   "cell_type": "code",
   "execution_count": 14,
   "metadata": {
    "colab": {},
    "colab_type": "code",
    "id": "1ZCkGNV3So0_"
   },
   "outputs": [
    {
     "data": {
      "text/plain": [
       "{'C': 0.3999999999999999,\n",
       " 'class_weight': 'balanced',\n",
       " 'coef0': 1.0,\n",
       " 'decision_function_shape': 'ovo',\n",
       " 'gamma': 'scale',\n",
       " 'kernel': 'sigmoid'}"
      ]
     },
     "execution_count": 14,
     "metadata": {},
     "output_type": "execute_result"
    }
   ],
   "source": [
    "svm_op.best_params_"
   ]
  },
  {
   "cell_type": "code",
   "execution_count": 15,
   "metadata": {
    "colab": {},
    "colab_type": "code",
    "id": "1omVlVqgYJx6"
   },
   "outputs": [
    {
     "name": "stderr",
     "output_type": "stream",
     "text": [
      "c:\\users\\siepp\\desktop\\school\\code-the-change\\yw-nlp-report-classifier\\.env\\lib\\site-packages\\sklearn\\model_selection\\_split.py:670: UserWarning: The least populated class in y has only 1 members, which is less than n_splits=5.\n",
      "  warnings.warn((\"The least populated class in y has only %d\"\n",
      "c:\\users\\siepp\\desktop\\school\\code-the-change\\yw-nlp-report-classifier\\.env\\lib\\site-packages\\sklearn\\metrics\\_classification.py:1221: UndefinedMetricWarning: Precision is ill-defined and being set to 0.0 in labels with no predicted samples. Use `zero_division` parameter to control this behavior.\n",
      "  _warn_prf(average, modifier, msg_start, len(result))\n"
     ]
    }
   ],
   "source": [
    "scoring = [\"recall_weighted\", \"precision_weighted\", \"balanced_accuracy\", \"accuracy\"]\n",
    "fit_params = {\"sample_weight\": weight_train}\n",
    "\n",
    "cv_s = cross_validate(\n",
    "    svm_op.best_estimator_,  # change to svm variable to see differences from fine tuning\n",
    "    X_train_enc,\n",
    "    y_train_set,\n",
    "    scoring=scoring,\n",
    "    fit_params=fit_params,\n",
    ")"
   ]
  },
  {
   "cell_type": "code",
   "execution_count": 16,
   "metadata": {
    "colab": {},
    "colab_type": "code",
    "id": "SKIN__sJfXWO"
   },
   "outputs": [
    {
     "name": "stderr",
     "output_type": "stream",
     "text": [
      "c:\\users\\siepp\\desktop\\school\\code-the-change\\yw-nlp-report-classifier\\.env\\lib\\site-packages\\sklearn\\model_selection\\_split.py:670: UserWarning: The least populated class in y has only 1 members, which is less than n_splits=5.\n",
      "  warnings.warn((\"The least populated class in y has only %d\"\n"
     ]
    },
    {
     "data": {
      "text/html": [
       "<style>div.sk-top-container {color: black;background-color: white;}div.sk-toggleable {background-color: white;}label.sk-toggleable__label {cursor: pointer;display: block;width: 100%;margin-bottom: 0;padding: 0.2em 0.3em;box-sizing: border-box;text-align: center;}div.sk-toggleable__content {max-height: 0;max-width: 0;overflow: hidden;text-align: left;background-color: #f0f8ff;}div.sk-toggleable__content pre {margin: 0.2em;color: black;border-radius: 0.25em;background-color: #f0f8ff;}input.sk-toggleable__control:checked~div.sk-toggleable__content {max-height: 200px;max-width: 100%;overflow: auto;}div.sk-estimator input.sk-toggleable__control:checked~label.sk-toggleable__label {background-color: #d4ebff;}div.sk-label input.sk-toggleable__control:checked~label.sk-toggleable__label {background-color: #d4ebff;}input.sk-hidden--visually {border: 0;clip: rect(1px 1px 1px 1px);clip: rect(1px, 1px, 1px, 1px);height: 1px;margin: -1px;overflow: hidden;padding: 0;position: absolute;width: 1px;}div.sk-estimator {font-family: monospace;background-color: #f0f8ff;margin: 0.25em 0.25em;border: 1px dotted black;border-radius: 0.25em;box-sizing: border-box;}div.sk-estimator:hover {background-color: #d4ebff;}div.sk-parallel-item::after {content: \"\";width: 100%;border-bottom: 1px solid gray;flex-grow: 1;}div.sk-label:hover label.sk-toggleable__label {background-color: #d4ebff;}div.sk-serial::before {content: \"\";position: absolute;border-left: 1px solid gray;box-sizing: border-box;top: 2em;bottom: 0;left: 50%;}div.sk-serial {display: flex;flex-direction: column;align-items: center;background-color: white;}div.sk-item {z-index: 1;}div.sk-parallel {display: flex;align-items: stretch;justify-content: center;background-color: white;}div.sk-parallel-item {display: flex;flex-direction: column;position: relative;background-color: white;}div.sk-parallel-item:first-child::after {align-self: flex-end;width: 50%;}div.sk-parallel-item:last-child::after {align-self: flex-start;width: 50%;}div.sk-parallel-item:only-child::after {width: 0;}div.sk-dashed-wrapped {border: 1px dashed gray;margin: 0.2em;box-sizing: border-box;padding-bottom: 0.1em;background-color: white;position: relative;}div.sk-label label {font-family: monospace;font-weight: bold;background-color: white;display: inline-block;line-height: 1.2em;}div.sk-label-container {position: relative;z-index: 2;text-align: center;}div.sk-container {display: inline-block;position: relative;}</style><div class=\"sk-top-container\"><div class=\"sk-container\"><div class=\"sk-item sk-dashed-wrapped\"><div class=\"sk-label-container\"><div class=\"sk-label sk-toggleable\"><input class=\"sk-toggleable__control sk-hidden--visually\" id=\"46629d6e-133d-476f-ac60-b66df8200ff2\" type=\"checkbox\" ><label class=\"sk-toggleable__label\" for=\"46629d6e-133d-476f-ac60-b66df8200ff2\">GridSearchCV</label><div class=\"sk-toggleable__content\"><pre>GridSearchCV(estimator=ComplementNB(),\n",
       "             param_grid={'alpha': array([3.  , 2.94, 2.88, 2.82, 2.76, 2.7 , 2.64, 2.58, 2.52, 2.46, 2.4 ,\n",
       "       2.34, 2.28, 2.22, 2.16, 2.1 , 2.04, 1.98, 1.92, 1.86, 1.8 , 1.74,\n",
       "       1.68, 1.62, 1.56, 1.5 , 1.44, 1.38, 1.32, 1.26, 1.2 , 1.14, 1.08,\n",
       "       1.02, 0.96, 0.9 , 0.84, 0.78, 0.72, 0.66, 0.6 , 0.54, 0.48, 0.42,\n",
       "       0.36, 0.3 , 0.24, 0.18, 0.12, 0.06])})</pre></div></div></div><div class=\"sk-parallel\"><div class=\"sk-parallel-item\"><div class=\"sk-item\"><div class=\"sk-serial\"><div class=\"sk-item\"><div class=\"sk-estimator sk-toggleable\"><input class=\"sk-toggleable__control sk-hidden--visually\" id=\"8ef48bac-3742-43d7-8012-416594937264\" type=\"checkbox\" ><label class=\"sk-toggleable__label\" for=\"8ef48bac-3742-43d7-8012-416594937264\">ComplementNB</label><div class=\"sk-toggleable__content\"><pre>ComplementNB()</pre></div></div></div></div></div></div></div></div></div></div>"
      ],
      "text/plain": [
       "GridSearchCV(estimator=ComplementNB(),\n",
       "             param_grid={'alpha': array([3.  , 2.94, 2.88, 2.82, 2.76, 2.7 , 2.64, 2.58, 2.52, 2.46, 2.4 ,\n",
       "       2.34, 2.28, 2.22, 2.16, 2.1 , 2.04, 1.98, 1.92, 1.86, 1.8 , 1.74,\n",
       "       1.68, 1.62, 1.56, 1.5 , 1.44, 1.38, 1.32, 1.26, 1.2 , 1.14, 1.08,\n",
       "       1.02, 0.96, 0.9 , 0.84, 0.78, 0.72, 0.66, 0.6 , 0.54, 0.48, 0.42,\n",
       "       0.36, 0.3 , 0.24, 0.18, 0.12, 0.06])})"
      ]
     },
     "execution_count": 16,
     "metadata": {},
     "output_type": "execute_result"
    }
   ],
   "source": [
    "cnb_op = GridSearchCV(\n",
    "    cnb.named_steps[\"complementnb\"],\n",
    "    param_grid={\"alpha\": np.linspace(3, 0, num=50, endpoint=False)},\n",
    ")\n",
    "cnb_op.fit(X_train_enc, y_train_set)"
   ]
  },
  {
   "cell_type": "code",
   "execution_count": 17,
   "metadata": {
    "colab": {},
    "colab_type": "code",
    "id": "SrkJ4F4bfs46",
    "pycharm": {
     "name": "#%%\n"
    }
   },
   "outputs": [
    {
     "data": {
      "text/plain": [
       "{'alpha': 1.26}"
      ]
     },
     "execution_count": 17,
     "metadata": {},
     "output_type": "execute_result"
    }
   ],
   "source": [
    "cnb_op.best_params_"
   ]
  },
  {
   "cell_type": "code",
   "execution_count": 18,
   "metadata": {
    "colab": {},
    "colab_type": "code",
    "id": "LlkIYCxkOZ34"
   },
   "outputs": [
    {
     "name": "stderr",
     "output_type": "stream",
     "text": [
      "c:\\users\\siepp\\desktop\\school\\code-the-change\\yw-nlp-report-classifier\\.env\\lib\\site-packages\\sklearn\\model_selection\\_split.py:670: UserWarning: The least populated class in y has only 1 members, which is less than n_splits=5.\n",
      "  warnings.warn((\"The least populated class in y has only %d\"\n",
      "c:\\users\\siepp\\desktop\\school\\code-the-change\\yw-nlp-report-classifier\\.env\\lib\\site-packages\\sklearn\\metrics\\_classification.py:1221: UndefinedMetricWarning: Precision is ill-defined and being set to 0.0 in labels with no predicted samples. Use `zero_division` parameter to control this behavior.\n",
      "  _warn_prf(average, modifier, msg_start, len(result))\n",
      "c:\\users\\siepp\\desktop\\school\\code-the-change\\yw-nlp-report-classifier\\.env\\lib\\site-packages\\sklearn\\metrics\\_classification.py:1221: UndefinedMetricWarning: Precision is ill-defined and being set to 0.0 in labels with no predicted samples. Use `zero_division` parameter to control this behavior.\n",
      "  _warn_prf(average, modifier, msg_start, len(result))\n",
      "c:\\users\\siepp\\desktop\\school\\code-the-change\\yw-nlp-report-classifier\\.env\\lib\\site-packages\\sklearn\\metrics\\_classification.py:1221: UndefinedMetricWarning: Precision is ill-defined and being set to 0.0 in labels with no predicted samples. Use `zero_division` parameter to control this behavior.\n",
      "  _warn_prf(average, modifier, msg_start, len(result))\n",
      "c:\\users\\siepp\\desktop\\school\\code-the-change\\yw-nlp-report-classifier\\.env\\lib\\site-packages\\sklearn\\metrics\\_classification.py:1221: UndefinedMetricWarning: Precision is ill-defined and being set to 0.0 in labels with no predicted samples. Use `zero_division` parameter to control this behavior.\n",
      "  _warn_prf(average, modifier, msg_start, len(result))\n"
     ]
    }
   ],
   "source": [
    "cv_b = cross_validate(cnb_op.best_estimator_, X_train_enc, y_train_set, scoring=scoring)"
   ]
  },
  {
   "cell_type": "markdown",
   "metadata": {},
   "source": [
    "Cross validation results (training set only)."
   ]
  },
  {
   "cell_type": "code",
   "execution_count": 19,
   "metadata": {
    "collapsed": false,
    "jupyter": {
     "outputs_hidden": false
    },
    "pycharm": {
     "name": "#%%\n"
    }
   },
   "outputs": [
    {
     "data": {
      "text/html": [
       "<div>\n",
       "<style scoped>\n",
       "    .dataframe tbody tr th:only-of-type {\n",
       "        vertical-align: middle;\n",
       "    }\n",
       "\n",
       "    .dataframe tbody tr th {\n",
       "        vertical-align: top;\n",
       "    }\n",
       "\n",
       "    .dataframe thead th {\n",
       "        text-align: right;\n",
       "    }\n",
       "</style>\n",
       "<table border=\"1\" class=\"dataframe\">\n",
       "  <thead>\n",
       "    <tr style=\"text-align: right;\">\n",
       "      <th></th>\n",
       "      <th></th>\n",
       "      <th>0</th>\n",
       "      <th>1</th>\n",
       "      <th>2</th>\n",
       "      <th>3</th>\n",
       "      <th>4</th>\n",
       "      <th>mean</th>\n",
       "      <th>max</th>\n",
       "    </tr>\n",
       "    <tr>\n",
       "      <th>Metric</th>\n",
       "      <th>Model</th>\n",
       "      <th></th>\n",
       "      <th></th>\n",
       "      <th></th>\n",
       "      <th></th>\n",
       "      <th></th>\n",
       "      <th></th>\n",
       "      <th></th>\n",
       "    </tr>\n",
       "  </thead>\n",
       "  <tbody>\n",
       "    <tr>\n",
       "      <th rowspan=\"2\" valign=\"top\">fit_time</th>\n",
       "      <th>CNB</th>\n",
       "      <td>0.003000</td>\n",
       "      <td>0.002904</td>\n",
       "      <td>0.002004</td>\n",
       "      <td>0.001997</td>\n",
       "      <td>0.002999</td>\n",
       "      <td>0.002581</td>\n",
       "      <td>0.003000</td>\n",
       "    </tr>\n",
       "    <tr>\n",
       "      <th>SVM</th>\n",
       "      <td>0.045998</td>\n",
       "      <td>0.038010</td>\n",
       "      <td>0.032998</td>\n",
       "      <td>0.036001</td>\n",
       "      <td>0.034000</td>\n",
       "      <td>0.037401</td>\n",
       "      <td>0.045998</td>\n",
       "    </tr>\n",
       "    <tr>\n",
       "      <th rowspan=\"2\" valign=\"top\">score_time</th>\n",
       "      <th>CNB</th>\n",
       "      <td>0.005129</td>\n",
       "      <td>0.005995</td>\n",
       "      <td>0.003998</td>\n",
       "      <td>0.004006</td>\n",
       "      <td>0.005003</td>\n",
       "      <td>0.004826</td>\n",
       "      <td>0.005995</td>\n",
       "    </tr>\n",
       "    <tr>\n",
       "      <th>SVM</th>\n",
       "      <td>0.011999</td>\n",
       "      <td>0.007989</td>\n",
       "      <td>0.006000</td>\n",
       "      <td>0.006002</td>\n",
       "      <td>0.007001</td>\n",
       "      <td>0.007798</td>\n",
       "      <td>0.011999</td>\n",
       "    </tr>\n",
       "    <tr>\n",
       "      <th rowspan=\"2\" valign=\"top\">test_recall_weighted</th>\n",
       "      <th>CNB</th>\n",
       "      <td>0.529412</td>\n",
       "      <td>0.600000</td>\n",
       "      <td>0.640000</td>\n",
       "      <td>0.760000</td>\n",
       "      <td>0.640000</td>\n",
       "      <td>0.633882</td>\n",
       "      <td>0.760000</td>\n",
       "    </tr>\n",
       "    <tr>\n",
       "      <th>SVM</th>\n",
       "      <td>0.568627</td>\n",
       "      <td>0.600000</td>\n",
       "      <td>0.560000</td>\n",
       "      <td>0.760000</td>\n",
       "      <td>0.660000</td>\n",
       "      <td>0.629725</td>\n",
       "      <td>0.760000</td>\n",
       "    </tr>\n",
       "    <tr>\n",
       "      <th rowspan=\"2\" valign=\"top\">test_precision_weighted</th>\n",
       "      <th>CNB</th>\n",
       "      <td>0.434734</td>\n",
       "      <td>0.498925</td>\n",
       "      <td>0.563651</td>\n",
       "      <td>0.711644</td>\n",
       "      <td>0.570450</td>\n",
       "      <td>0.555881</td>\n",
       "      <td>0.711644</td>\n",
       "    </tr>\n",
       "    <tr>\n",
       "      <th>SVM</th>\n",
       "      <td>0.498102</td>\n",
       "      <td>0.588121</td>\n",
       "      <td>0.514667</td>\n",
       "      <td>0.728438</td>\n",
       "      <td>0.550145</td>\n",
       "      <td>0.575895</td>\n",
       "      <td>0.728438</td>\n",
       "    </tr>\n",
       "    <tr>\n",
       "      <th rowspan=\"2\" valign=\"top\">test_balanced_accuracy</th>\n",
       "      <th>CNB</th>\n",
       "      <td>0.403409</td>\n",
       "      <td>0.447222</td>\n",
       "      <td>0.370455</td>\n",
       "      <td>0.537500</td>\n",
       "      <td>0.328788</td>\n",
       "      <td>0.417475</td>\n",
       "      <td>0.537500</td>\n",
       "    </tr>\n",
       "    <tr>\n",
       "      <th>SVM</th>\n",
       "      <td>0.412121</td>\n",
       "      <td>0.436616</td>\n",
       "      <td>0.303409</td>\n",
       "      <td>0.558333</td>\n",
       "      <td>0.287121</td>\n",
       "      <td>0.399520</td>\n",
       "      <td>0.558333</td>\n",
       "    </tr>\n",
       "    <tr>\n",
       "      <th rowspan=\"2\" valign=\"top\">test_accuracy</th>\n",
       "      <th>CNB</th>\n",
       "      <td>0.529412</td>\n",
       "      <td>0.600000</td>\n",
       "      <td>0.640000</td>\n",
       "      <td>0.760000</td>\n",
       "      <td>0.640000</td>\n",
       "      <td>0.633882</td>\n",
       "      <td>0.760000</td>\n",
       "    </tr>\n",
       "    <tr>\n",
       "      <th>SVM</th>\n",
       "      <td>0.568627</td>\n",
       "      <td>0.600000</td>\n",
       "      <td>0.560000</td>\n",
       "      <td>0.760000</td>\n",
       "      <td>0.660000</td>\n",
       "      <td>0.629725</td>\n",
       "      <td>0.760000</td>\n",
       "    </tr>\n",
       "  </tbody>\n",
       "</table>\n",
       "</div>"
      ],
      "text/plain": [
       "                                      0         1         2         3  \\\n",
       "Metric                  Model                                           \n",
       "fit_time                CNB    0.003000  0.002904  0.002004  0.001997   \n",
       "                        SVM    0.045998  0.038010  0.032998  0.036001   \n",
       "score_time              CNB    0.005129  0.005995  0.003998  0.004006   \n",
       "                        SVM    0.011999  0.007989  0.006000  0.006002   \n",
       "test_recall_weighted    CNB    0.529412  0.600000  0.640000  0.760000   \n",
       "                        SVM    0.568627  0.600000  0.560000  0.760000   \n",
       "test_precision_weighted CNB    0.434734  0.498925  0.563651  0.711644   \n",
       "                        SVM    0.498102  0.588121  0.514667  0.728438   \n",
       "test_balanced_accuracy  CNB    0.403409  0.447222  0.370455  0.537500   \n",
       "                        SVM    0.412121  0.436616  0.303409  0.558333   \n",
       "test_accuracy           CNB    0.529412  0.600000  0.640000  0.760000   \n",
       "                        SVM    0.568627  0.600000  0.560000  0.760000   \n",
       "\n",
       "                                      4      mean       max  \n",
       "Metric                  Model                                \n",
       "fit_time                CNB    0.002999  0.002581  0.003000  \n",
       "                        SVM    0.034000  0.037401  0.045998  \n",
       "score_time              CNB    0.005003  0.004826  0.005995  \n",
       "                        SVM    0.007001  0.007798  0.011999  \n",
       "test_recall_weighted    CNB    0.640000  0.633882  0.760000  \n",
       "                        SVM    0.660000  0.629725  0.760000  \n",
       "test_precision_weighted CNB    0.570450  0.555881  0.711644  \n",
       "                        SVM    0.550145  0.575895  0.728438  \n",
       "test_balanced_accuracy  CNB    0.328788  0.417475  0.537500  \n",
       "                        SVM    0.287121  0.399520  0.558333  \n",
       "test_accuracy           CNB    0.640000  0.633882  0.760000  \n",
       "                        SVM    0.660000  0.629725  0.760000  "
      ]
     },
     "execution_count": 19,
     "metadata": {},
     "output_type": "execute_result"
    }
   ],
   "source": [
    "metrics = cv_b.keys()\n",
    "names = [\"Metric\", \"Model\"]\n",
    "index = pd.MultiIndex.from_product([metrics, [\"CNB\", \"SVM\"]], names=names)\n",
    "pairs = zip(cv_b.values(), cv_s.values())\n",
    "flattened = sum(pairs, ())\n",
    "df = pd.DataFrame(flattened, index=index)\n",
    "df.join(df.agg(func=[\"mean\", \"max\"], axis=1), on=names)"
   ]
  },
  {
   "cell_type": "markdown",
   "metadata": {},
   "source": [
    "## Model Saving\n",
    "\n",
    "Save the optimized models to pickle files after retraining on the entire dataset. If just training the models you can run only up to this cell.\n",
    "> NOTE: In Colab the files will be saved to the current directory, download these to your local `model_output` folder."
   ]
  },
  {
   "cell_type": "code",
   "execution_count": 20,
   "metadata": {},
   "outputs": [],
   "source": [
    "def get_model_output_path(file_name: str, full_path: str) -> str:\n",
    "    return full_path if not IN_COLAB else f\"./{file_name}\"\n",
    "\n",
    "\n",
    "def save_model(model, file_name: str, full_path: str):\n",
    "    with open(get_model_output_path(file_name, full_path), \"wb\") as f:\n",
    "        pickle.dump(model, f)\n",
    "\n",
    "\n",
    "# Ensure each of the pipelines' estimators are using the best params\n",
    "for cv, pipe in [(svm_op, svm), (cnb_op, cnb)]:\n",
    "    # The last step, the estimator comes after the name\n",
    "    estimator = pipe.steps[-1][1]\n",
    "    estimator.set_params(**cv.best_params_)\n",
    "    \n",
    "\n",
    "cnb.fit(X, y)\n",
    "save_model(cnb, model_paths.cnb_file_name, model_paths.cnb)\n",
    "\n",
    "svm.fit(X, y, svc__sample_weight=weight_all)\n",
    "save_model(svm, model_paths.svm_file_name, model_paths.svm)"
   ]
  },
  {
   "cell_type": "markdown",
   "metadata": {},
   "source": [
    "## Test Set Evaluation"
   ]
  },
  {
   "cell_type": "markdown",
   "metadata": {},
   "source": [
    "Retrain the models on the entire training set. Click on the pipeline steps to view the chosen hyperparameters."
   ]
  },
  {
   "cell_type": "code",
   "execution_count": 21,
   "metadata": {},
   "outputs": [
    {
     "data": {
      "text/html": [
       "<style>div.sk-top-container {color: black;background-color: white;}div.sk-toggleable {background-color: white;}label.sk-toggleable__label {cursor: pointer;display: block;width: 100%;margin-bottom: 0;padding: 0.2em 0.3em;box-sizing: border-box;text-align: center;}div.sk-toggleable__content {max-height: 0;max-width: 0;overflow: hidden;text-align: left;background-color: #f0f8ff;}div.sk-toggleable__content pre {margin: 0.2em;color: black;border-radius: 0.25em;background-color: #f0f8ff;}input.sk-toggleable__control:checked~div.sk-toggleable__content {max-height: 200px;max-width: 100%;overflow: auto;}div.sk-estimator input.sk-toggleable__control:checked~label.sk-toggleable__label {background-color: #d4ebff;}div.sk-label input.sk-toggleable__control:checked~label.sk-toggleable__label {background-color: #d4ebff;}input.sk-hidden--visually {border: 0;clip: rect(1px 1px 1px 1px);clip: rect(1px, 1px, 1px, 1px);height: 1px;margin: -1px;overflow: hidden;padding: 0;position: absolute;width: 1px;}div.sk-estimator {font-family: monospace;background-color: #f0f8ff;margin: 0.25em 0.25em;border: 1px dotted black;border-radius: 0.25em;box-sizing: border-box;}div.sk-estimator:hover {background-color: #d4ebff;}div.sk-parallel-item::after {content: \"\";width: 100%;border-bottom: 1px solid gray;flex-grow: 1;}div.sk-label:hover label.sk-toggleable__label {background-color: #d4ebff;}div.sk-serial::before {content: \"\";position: absolute;border-left: 1px solid gray;box-sizing: border-box;top: 2em;bottom: 0;left: 50%;}div.sk-serial {display: flex;flex-direction: column;align-items: center;background-color: white;}div.sk-item {z-index: 1;}div.sk-parallel {display: flex;align-items: stretch;justify-content: center;background-color: white;}div.sk-parallel-item {display: flex;flex-direction: column;position: relative;background-color: white;}div.sk-parallel-item:first-child::after {align-self: flex-end;width: 50%;}div.sk-parallel-item:last-child::after {align-self: flex-start;width: 50%;}div.sk-parallel-item:only-child::after {width: 0;}div.sk-dashed-wrapped {border: 1px dashed gray;margin: 0.2em;box-sizing: border-box;padding-bottom: 0.1em;background-color: white;position: relative;}div.sk-label label {font-family: monospace;font-weight: bold;background-color: white;display: inline-block;line-height: 1.2em;}div.sk-label-container {position: relative;z-index: 2;text-align: center;}div.sk-container {display: inline-block;position: relative;}</style><div class=\"sk-top-container\"><div class=\"sk-container\"><div class=\"sk-item sk-dashed-wrapped\"><div class=\"sk-label-container\"><div class=\"sk-label sk-toggleable\"><input class=\"sk-toggleable__control sk-hidden--visually\" id=\"7dbafe88-7474-41f8-9f28-782e8fda5d95\" type=\"checkbox\" ><label class=\"sk-toggleable__label\" for=\"7dbafe88-7474-41f8-9f28-782e8fda5d95\">Pipeline</label><div class=\"sk-toggleable__content\"><pre>Pipeline(memory='C:\\\\Users\\\\siepp\\\\AppData\\\\Local\\\\Temp\\\\tmpb5vjnddn',\n",
       "         steps=[('tfidfvectorizer',\n",
       "                 TfidfVectorizer(min_df=2, ngram_range=(1, 2),\n",
       "                                 token_pattern='\\\\b\\\\w+\\\\b',\n",
       "                                 tokenizer=<function spacy_tokenizer at 0x000001F9E65280D0>)),\n",
       "                ('complementnb', ComplementNB(alpha=1.26))])</pre></div></div></div><div class=\"sk-serial\"><div class=\"sk-item\"><div class=\"sk-estimator sk-toggleable\"><input class=\"sk-toggleable__control sk-hidden--visually\" id=\"773df44d-9f88-48e6-bbde-48f6eeb9f2cd\" type=\"checkbox\" ><label class=\"sk-toggleable__label\" for=\"773df44d-9f88-48e6-bbde-48f6eeb9f2cd\">TfidfVectorizer</label><div class=\"sk-toggleable__content\"><pre>TfidfVectorizer(min_df=2, ngram_range=(1, 2), token_pattern='\\\\b\\\\w+\\\\b',\n",
       "                tokenizer=<function spacy_tokenizer at 0x000001F9E65280D0>)</pre></div></div></div><div class=\"sk-item\"><div class=\"sk-estimator sk-toggleable\"><input class=\"sk-toggleable__control sk-hidden--visually\" id=\"6e71a5ed-f6cc-4616-b8d6-a19b4d2c0aca\" type=\"checkbox\" ><label class=\"sk-toggleable__label\" for=\"6e71a5ed-f6cc-4616-b8d6-a19b4d2c0aca\">ComplementNB</label><div class=\"sk-toggleable__content\"><pre>ComplementNB(alpha=1.26)</pre></div></div></div></div></div></div></div>"
      ],
      "text/plain": [
       "Pipeline(memory='C:\\\\Users\\\\siepp\\\\AppData\\\\Local\\\\Temp\\\\tmpb5vjnddn',\n",
       "         steps=[('tfidfvectorizer',\n",
       "                 TfidfVectorizer(min_df=2, ngram_range=(1, 2),\n",
       "                                 token_pattern='\\\\b\\\\w+\\\\b',\n",
       "                                 tokenizer=<function spacy_tokenizer at 0x000001F9E65280D0>)),\n",
       "                ('complementnb', ComplementNB(alpha=1.26))])"
      ]
     },
     "execution_count": 21,
     "metadata": {},
     "output_type": "execute_result"
    }
   ],
   "source": [
    "cnb.fit(X_train_set, y_train_set)"
   ]
  },
  {
   "cell_type": "code",
   "execution_count": 22,
   "metadata": {},
   "outputs": [
    {
     "data": {
      "text/html": [
       "<style>div.sk-top-container {color: black;background-color: white;}div.sk-toggleable {background-color: white;}label.sk-toggleable__label {cursor: pointer;display: block;width: 100%;margin-bottom: 0;padding: 0.2em 0.3em;box-sizing: border-box;text-align: center;}div.sk-toggleable__content {max-height: 0;max-width: 0;overflow: hidden;text-align: left;background-color: #f0f8ff;}div.sk-toggleable__content pre {margin: 0.2em;color: black;border-radius: 0.25em;background-color: #f0f8ff;}input.sk-toggleable__control:checked~div.sk-toggleable__content {max-height: 200px;max-width: 100%;overflow: auto;}div.sk-estimator input.sk-toggleable__control:checked~label.sk-toggleable__label {background-color: #d4ebff;}div.sk-label input.sk-toggleable__control:checked~label.sk-toggleable__label {background-color: #d4ebff;}input.sk-hidden--visually {border: 0;clip: rect(1px 1px 1px 1px);clip: rect(1px, 1px, 1px, 1px);height: 1px;margin: -1px;overflow: hidden;padding: 0;position: absolute;width: 1px;}div.sk-estimator {font-family: monospace;background-color: #f0f8ff;margin: 0.25em 0.25em;border: 1px dotted black;border-radius: 0.25em;box-sizing: border-box;}div.sk-estimator:hover {background-color: #d4ebff;}div.sk-parallel-item::after {content: \"\";width: 100%;border-bottom: 1px solid gray;flex-grow: 1;}div.sk-label:hover label.sk-toggleable__label {background-color: #d4ebff;}div.sk-serial::before {content: \"\";position: absolute;border-left: 1px solid gray;box-sizing: border-box;top: 2em;bottom: 0;left: 50%;}div.sk-serial {display: flex;flex-direction: column;align-items: center;background-color: white;}div.sk-item {z-index: 1;}div.sk-parallel {display: flex;align-items: stretch;justify-content: center;background-color: white;}div.sk-parallel-item {display: flex;flex-direction: column;position: relative;background-color: white;}div.sk-parallel-item:first-child::after {align-self: flex-end;width: 50%;}div.sk-parallel-item:last-child::after {align-self: flex-start;width: 50%;}div.sk-parallel-item:only-child::after {width: 0;}div.sk-dashed-wrapped {border: 1px dashed gray;margin: 0.2em;box-sizing: border-box;padding-bottom: 0.1em;background-color: white;position: relative;}div.sk-label label {font-family: monospace;font-weight: bold;background-color: white;display: inline-block;line-height: 1.2em;}div.sk-label-container {position: relative;z-index: 2;text-align: center;}div.sk-container {display: inline-block;position: relative;}</style><div class=\"sk-top-container\"><div class=\"sk-container\"><div class=\"sk-item sk-dashed-wrapped\"><div class=\"sk-label-container\"><div class=\"sk-label sk-toggleable\"><input class=\"sk-toggleable__control sk-hidden--visually\" id=\"7c356bd0-4424-4afe-ad03-702fc5dfc0ad\" type=\"checkbox\" ><label class=\"sk-toggleable__label\" for=\"7c356bd0-4424-4afe-ad03-702fc5dfc0ad\">Pipeline</label><div class=\"sk-toggleable__content\"><pre>Pipeline(memory='C:\\\\Users\\\\siepp\\\\AppData\\\\Local\\\\Temp\\\\tmpj2lw9ujh',\n",
       "         steps=[('tfidfvectorizer',\n",
       "                 TfidfVectorizer(min_df=2, ngram_range=(1, 2),\n",
       "                                 token_pattern='\\\\b\\\\w+\\\\b',\n",
       "                                 tokenizer=<function spacy_tokenizer at 0x000001F9E65280D0>)),\n",
       "                ('svc',\n",
       "                 SVC(C=0.3999999999999999, class_weight='balanced', coef0=1.0,\n",
       "                     decision_function_shape='ovo', kernel='sigmoid'))])</pre></div></div></div><div class=\"sk-serial\"><div class=\"sk-item\"><div class=\"sk-estimator sk-toggleable\"><input class=\"sk-toggleable__control sk-hidden--visually\" id=\"0f1916c4-ad47-456f-9ef4-100878436b97\" type=\"checkbox\" ><label class=\"sk-toggleable__label\" for=\"0f1916c4-ad47-456f-9ef4-100878436b97\">TfidfVectorizer</label><div class=\"sk-toggleable__content\"><pre>TfidfVectorizer(min_df=2, ngram_range=(1, 2), token_pattern='\\\\b\\\\w+\\\\b',\n",
       "                tokenizer=<function spacy_tokenizer at 0x000001F9E65280D0>)</pre></div></div></div><div class=\"sk-item\"><div class=\"sk-estimator sk-toggleable\"><input class=\"sk-toggleable__control sk-hidden--visually\" id=\"a64b8e52-37dc-48c0-82c4-a606cb2deb54\" type=\"checkbox\" ><label class=\"sk-toggleable__label\" for=\"a64b8e52-37dc-48c0-82c4-a606cb2deb54\">SVC</label><div class=\"sk-toggleable__content\"><pre>SVC(C=0.3999999999999999, class_weight='balanced', coef0=1.0,\n",
       "    decision_function_shape='ovo', kernel='sigmoid')</pre></div></div></div></div></div></div></div>"
      ],
      "text/plain": [
       "Pipeline(memory='C:\\\\Users\\\\siepp\\\\AppData\\\\Local\\\\Temp\\\\tmpj2lw9ujh',\n",
       "         steps=[('tfidfvectorizer',\n",
       "                 TfidfVectorizer(min_df=2, ngram_range=(1, 2),\n",
       "                                 token_pattern='\\\\b\\\\w+\\\\b',\n",
       "                                 tokenizer=<function spacy_tokenizer at 0x000001F9E65280D0>)),\n",
       "                ('svc',\n",
       "                 SVC(C=0.3999999999999999, class_weight='balanced', coef0=1.0,\n",
       "                     decision_function_shape='ovo', kernel='sigmoid'))])"
      ]
     },
     "execution_count": 22,
     "metadata": {},
     "output_type": "execute_result"
    }
   ],
   "source": [
    "svm.fit(X_train_set, y_train_set, svc__sample_weight=weight_train)"
   ]
  },
  {
   "cell_type": "markdown",
   "metadata": {
    "pycharm": {
     "name": "#%% md\n"
    }
   },
   "source": [
    "> NOTE: Using `sample_weight=weight_test` in our metrics calculations makes samples which are more prevalent in our data contribute more to the overall score."
   ]
  },
  {
   "cell_type": "code",
   "execution_count": 23,
   "metadata": {
    "colab": {},
    "colab_type": "code",
    "id": "6GJYVI3TaH7W"
   },
   "outputs": [
    {
     "name": "stdout",
     "output_type": "stream",
     "text": [
      "Complement NB test accuracy score is: 89.75% \n",
      "\n",
      "Complement NB train accuracy score is: 96.55% \n",
      "\n",
      "Complement NB test balanced accuracy score is: 26.19% \n",
      "\n",
      "Complement NB train balanced accuracy score is: 80.59% \n",
      "\n"
     ]
    }
   ],
   "source": [
    "predicted_test = cnb.predict(X_test_set)\n",
    "predicted_train = cnb.predict(X_train_set)\n",
    "test_score = accuracy_score(y_test_set, predicted_test, sample_weight=weight_test)\n",
    "train_score = accuracy_score(y_train_set, predicted_train, sample_weight=weight_train)\n",
    "test_balance = balanced_accuracy_score(\n",
    "    y_test_set, predicted_test, sample_weight=weight_test\n",
    ")\n",
    "train_balance = balanced_accuracy_score(\n",
    "    y_train_set, predicted_train, sample_weight=weight_train\n",
    ")\n",
    "\n",
    "print(\"Complement NB test accuracy score is: {:.2%} \\n\".format(test_score))\n",
    "print(\"Complement NB train accuracy score is: {:.2%} \\n\".format(train_score))\n",
    "print(\"Complement NB test balanced accuracy score is: {:.2%} \\n\".format(test_balance))\n",
    "print(\"Complement NB train balanced accuracy score is: {:.2%} \\n\".format(train_balance))"
   ]
  },
  {
   "cell_type": "code",
   "execution_count": 24,
   "metadata": {
    "colab": {},
    "colab_type": "code",
    "id": "9b8dXW2Be3_f"
   },
   "outputs": [
    {
     "name": "stdout",
     "output_type": "stream",
     "text": [
      "SVM-C test accuracy score is :87.41% \n",
      "\n",
      "SVM-C train accuracy score is :97.12% \n",
      "\n",
      "SVM-C test balanced accuracy score is :27.51% \n",
      "\n",
      "SVM-C train balanced accuracy score is :73.95% \n",
      "\n"
     ]
    }
   ],
   "source": [
    "predicted_test = svm.predict(X_test_set)\n",
    "predicted_train = svm.predict(X_train_set)\n",
    "test_score = accuracy_score(y_test_set, predicted_test, sample_weight=weight_test)\n",
    "train_score = accuracy_score(y_train_set, predicted_train, sample_weight=weight_train)\n",
    "test_balance = balanced_accuracy_score(\n",
    "    y_test_set, predicted_test, sample_weight=weight_test\n",
    ")\n",
    "train_balance = balanced_accuracy_score(\n",
    "    y_train_set, predicted_train, sample_weight=weight_train\n",
    ")\n",
    "\n",
    "print(\"SVM-C test accuracy score is :{:.2%} \\n\".format(test_score))\n",
    "print(\"SVM-C train accuracy score is :{:.2%} \\n\".format(train_score))\n",
    "print(\"SVM-C test balanced accuracy score is :{:.2%} \\n\".format(test_balance))\n",
    "print(\"SVM-C train balanced accuracy score is :{:.2%} \\n\".format(train_balance))"
   ]
  },
  {
   "cell_type": "code",
   "execution_count": 25,
   "metadata": {
    "colab": {},
    "colab_type": "code",
    "id": "pbeEHBxT1Stp"
   },
   "outputs": [
    {
     "data": {
      "text/plain": [
       "Text(0.5, 1.0, 'Complement NB confusion matrix on test set with normalization')"
      ]
     },
     "execution_count": 25,
     "metadata": {},
     "output_type": "execute_result"
    },
    {
     "data": {
      "image/png": "[encoded data removed]",
      "text/plain": [
       "<Figure size 432x288 with 2 Axes>"
      ]
     },
     "metadata": {
      "needs_background": "light"
     },
     "output_type": "display_data"
    }
   ],
   "source": [
    "test_class = set(y_test_set)\n",
    "disp = plot_confusion_matrix(\n",
    "    cnb,\n",
    "    X_test_set,\n",
    "    y_test_set,\n",
    "    sample_weight=weight_test,\n",
    "    normalize=\"true\",\n",
    "    display_labels=test_class,\n",
    "    cmap=plt.cm.Blues,\n",
    "    xticks_rotation=\"vertical\",\n",
    ")\n",
    "title = \"Complement NB confusion matrix on test set with normalization\"\n",
    "disp.ax_.set_title(title)"
   ]
  },
  {
   "cell_type": "code",
   "execution_count": 26,
   "metadata": {
    "colab": {},
    "colab_type": "code",
    "id": "pT0vcMg82EPZ"
   },
   "outputs": [
    {
     "data": {
      "text/plain": [
       "Text(0.5, 1.0, 'SVM-C confusion matrix on test set with normalization')"
      ]
     },
     "execution_count": 26,
     "metadata": {},
     "output_type": "execute_result"
    },
    {
     "data": {
      "image/png": "[encoded data removed]",
      "text/plain": [
       "<Figure size 432x288 with 2 Axes>"
      ]
     },
     "metadata": {
      "needs_background": "light"
     },
     "output_type": "display_data"
    }
   ],
   "source": [
    "disp = plot_confusion_matrix(\n",
    "    svm,\n",
    "    X_test_set,\n",
    "    y_test_set,\n",
    "    sample_weight=weight_test,\n",
    "    normalize=\"true\",\n",
    "    display_labels=test_class,\n",
    "    cmap=plt.cm.Blues,\n",
    "    xticks_rotation=\"vertical\",\n",
    ")\n",
    "title = \"SVM-C confusion matrix on test set with normalization\"\n",
    "disp.ax_.set_title(title)"
   ]
  },
  {
   "cell_type": "code",
   "execution_count": 27,
   "metadata": {
    "colab": {},
    "colab_type": "code",
    "id": "JxqoCeBY-4zN",
    "pycharm": {
     "name": "#%%\n"
    }
   },
   "outputs": [
    {
     "name": "stdout",
     "output_type": "stream",
     "text": [
      "Complement NB test set classification report\n",
      "\n",
      "                                                             precision    recall  f1-score   support\n",
      "\n",
      "                   Client aggression towards another person       0.76      0.56      0.64      81.0\n",
      "                         Client aggression towards property       0.00      0.00      0.00       1.0\n",
      "                             Concern for welfare of a child       0.77      0.83      0.80      36.0\n",
      "                               Homicide (Threat or attempt)       0.00      0.00      0.00       0.0\n",
      "                                          Medical emergency       0.99      0.94      0.96    2209.0\n",
      "                                    Mental health emergency       0.00      0.00      0.00       4.0\n",
      "                                                      Other       0.33      0.56      0.41      81.0\n",
      "                                           Security concern       0.00      0.00      0.00       1.0\n",
      "                                            Suicide attempt       0.00      0.00      0.00       0.0\n",
      "Suspicion/allegation of child abuse - child is not a client       0.00      0.00      0.00       0.0\n",
      "    Suspicion/allegation of abuse towards or against client       0.00      0.00      0.00      16.0\n",
      "                      Suspected or actual breach of privacy       0.00      0.00      0.00       0.0\n",
      "                                    Media/3rd party contact       0.00      0.00      0.00       0.0\n",
      "                                                     Injury       0.00      0.00      0.00       4.0\n",
      "                               Illegal activity on premises       0.00      0.00      0.00       1.0\n",
      "                                                   Exposure       0.00      0.00      0.00       0.0\n",
      "                                         COVID-19 Confirmed       0.00      0.00      0.00       0.0\n",
      "                                             Client missing       0.00      0.00      0.00       0.0\n",
      "                                      Client death (onsite)       0.00      0.00      0.00       4.0\n",
      "                                     Client death (offsite)       0.00      0.00      0.00       0.0\n",
      "                                          Child abandonment       0.00      0.00      0.00       0.0\n",
      "\n",
      "                                                  micro avg       0.90      0.90      0.90    2438.0\n",
      "                                                  macro avg       0.14      0.14      0.13    2438.0\n",
      "                                               weighted avg       0.94      0.90      0.92    2438.0\n",
      "\n"
     ]
    },
    {
     "name": "stderr",
     "output_type": "stream",
     "text": [
      "c:\\users\\siepp\\desktop\\school\\code-the-change\\yw-nlp-report-classifier\\.env\\lib\\site-packages\\sklearn\\metrics\\_classification.py:1221: UndefinedMetricWarning: Precision and F-score are ill-defined and being set to 0.0 in labels with no predicted samples. Use `zero_division` parameter to control this behavior.\n",
      "  _warn_prf(average, modifier, msg_start, len(result))\n",
      "c:\\users\\siepp\\desktop\\school\\code-the-change\\yw-nlp-report-classifier\\.env\\lib\\site-packages\\sklearn\\metrics\\_classification.py:1221: UndefinedMetricWarning: Recall and F-score are ill-defined and being set to 0.0 in labels with no true samples. Use `zero_division` parameter to control this behavior.\n",
      "  _warn_prf(average, modifier, msg_start, len(result))\n"
     ]
    }
   ],
   "source": [
    "predicted_test = cnb.predict(X_test_set)\n",
    "labels = [e.value for e in IncidentType]\n",
    "print(\"Complement NB test set classification report\\n\")\n",
    "print(\n",
    "    classification_report(\n",
    "        y_test_set,\n",
    "        predicted_test,\n",
    "        sample_weight=weight_test,\n",
    "        labels=labels,\n",
    "        target_names=labels,\n",
    "    )\n",
    ")"
   ]
  },
  {
   "cell_type": "code",
   "execution_count": 28,
   "metadata": {
    "colab": {},
    "colab_type": "code",
    "id": "u5BkErR6-9RP",
    "pycharm": {
     "name": "#%%\n"
    }
   },
   "outputs": [
    {
     "name": "stdout",
     "output_type": "stream",
     "text": [
      "SVM-C test set classification report\n",
      "\n",
      "                                                             precision    recall  f1-score   support\n",
      "\n",
      "                   Client aggression towards another person       0.42      0.56      0.48      81.0\n",
      "                         Client aggression towards property       0.00      0.00      0.00       1.0\n",
      "                             Concern for welfare of a child       0.67      0.50      0.57      36.0\n",
      "                               Homicide (Threat or attempt)       0.00      0.00      0.00       0.0\n",
      "                                          Medical emergency       0.98      0.91      0.95    2209.0\n",
      "                                    Mental health emergency       0.02      0.50      0.04       4.0\n",
      "                                                      Other       0.33      0.56      0.41      81.0\n",
      "                                           Security concern       0.00      0.00      0.00       1.0\n",
      "                                            Suicide attempt       0.00      0.00      0.00       0.0\n",
      "Suspicion/allegation of child abuse - child is not a client       0.00      0.00      0.00       0.0\n",
      "    Suspicion/allegation of abuse towards or against client       0.00      0.00      0.00      16.0\n",
      "                      Suspected or actual breach of privacy       0.00      0.00      0.00       0.0\n",
      "                                    Media/3rd party contact       0.00      0.00      0.00       0.0\n",
      "                                                     Injury       0.00      0.00      0.00       4.0\n",
      "                               Illegal activity on premises       0.00      0.00      0.00       1.0\n",
      "                                                   Exposure       0.00      0.00      0.00       0.0\n",
      "                                         COVID-19 Confirmed       0.00      0.00      0.00       0.0\n",
      "                                             Client missing       0.00      0.00      0.00       0.0\n",
      "                                      Client death (onsite)       0.00      0.00      0.00       4.0\n",
      "                                     Client death (offsite)       0.00      0.00      0.00       0.0\n",
      "                                          Child abandonment       0.00      0.00      0.00       0.0\n",
      "\n",
      "                                                  micro avg       0.87      0.87      0.87    2438.0\n",
      "                                                  macro avg       0.12      0.14      0.12    2438.0\n",
      "                                               weighted avg       0.92      0.87      0.90    2438.0\n",
      "\n"
     ]
    }
   ],
   "source": [
    "predicted_test = svm.predict(X_test_set)\n",
    "\n",
    "print(\"SVM-C test set classification report\\n\")\n",
    "print(\n",
    "    classification_report(\n",
    "        y_test_set,\n",
    "        predicted_test,\n",
    "        sample_weight=weight_test,\n",
    "        labels=labels,\n",
    "        target_names=labels,\n",
    "    )\n",
    ")"
   ]
  }
 ],
 "metadata": {
  "colab": {
   "collapsed_sections": [],
   "name": "nltk_vs_spacy_classification_preprocessing.ipynb",
   "provenance": []
  },
  "kernelspec": {
   "display_name": "Python 3",
   "language": "python",
   "name": "python3"
  },
  "language_info": {
   "codemirror_mode": {
    "name": "ipython",
    "version": 3
   },
   "file_extension": ".py",
   "mimetype": "text/x-python",
   "name": "python",
   "nbconvert_exporter": "python",
   "pygments_lexer": "ipython3",
   "version": "3.8.3"
  },
  "toc-autonumbering": false,
  "toc-showcode": false,
  "toc-showmarkdowntxt": false,
  "toc-showtags": false
 },
 "nbformat": 4,
 "nbformat_minor": 4
}
