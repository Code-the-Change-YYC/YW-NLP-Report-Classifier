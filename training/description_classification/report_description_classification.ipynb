{
 "cells": [
  {
   "cell_type": "markdown",
   "metadata": {
    "colab_type": "text",
    "id": "J--poWga3Oag"
   },
   "source": [
    "# Report Description Classification\n",
    "\n",
    "This notebook compares the performance of report classification with preprocessing by Spacy and NLTK, and Complement Naive Bayes and SVM models.\n",
    "\n",
    "> This notebook is based off Bo's [ski_learn_with_spacy_finetune.ipynb](https://github.com/Code-the-Change-YYC/YW-NLP-Report-Classifier/blob/02ff7a9e7f49779c736cbb55edb4e8d2835beddd/notebooks/machine_learning/ski_learn_with_spacy_finetune.ipynb)"
   ]
  },
  {
   "cell_type": "markdown",
   "metadata": {},
   "source": [
    "## Data Specification\n",
    "\n",
    "This notebook was tested with data preprocessed by `ReportData` with 335 training examples.\n",
    "\n",
    "> Lemmatization in preprocessing **is not used** as it is performed in the notebook.\n",
    "\n",
    "Commit tested at: `a9ed0b8b4587410fd969bce6481057b205d9049e`"
   ]
  },
  {
   "cell_type": "markdown",
   "metadata": {},
   "source": [
    "## Results Summary\n",
    "\n",
    "The results of multiple preprocessing combinations are summarized here:\n",
    "\n",
    "![image.png](./images/description_classification_results_no_weights.png)\n",
    "> Placeholder used is `'someone'`. w/o placeholders for scrubadub uses `'{{}}'` entities, and for spacy it uses `'*'` entities"
   ]
  },
  {
   "cell_type": "markdown",
   "metadata": {
    "pycharm": {
     "name": "#%% md\n"
    }
   },
   "source": [
    "## Setup\n",
    "\n",
    "If running this notebook in Google Colab, upload the requested files and install the dependencies. Otherwise update the path to allow for necessary imports."
   ]
  },
  {
   "cell_type": "code",
   "execution_count": 1,
   "metadata": {
    "pycharm": {
     "name": "#%%\n"
    }
   },
   "outputs": [],
   "source": [
    "import sys\n",
    "\n",
    "IN_COLAB = 'google.colab' in sys.modules\n",
    "\n",
    "if IN_COLAB:\n",
    "    from google.colab import files\n",
    "    required_files = ['requirements.txt', 'data-processed.csv', 'report_data.py', 'report_data_d.py', 'incident_types_d.py']\n",
    "    for file in required_files:\n",
    "        print(f'Upload {file}')\n",
    "        files.upload()\n",
    "\n",
    "    !pip install -r requirements.txt\n",
    "else:\n",
    "    from os import path\n",
    "    root = path.abspath(path.join('..', '..'))\n",
    "    sys.path.append(root)\n",
    "    \n",
    "    preprocess = path.join(root, 'preprocess')\n",
    "    sys.path.append(preprocess)\n",
    "    \n",
    "    incident_types = path.join(preprocess, 'incident_types')\n",
    "    sys.path.append(incident_types)\n",
    "    \n",
    "    models = path.join(root, 'models')\n",
    "    sys.path.append(models)"
   ]
  },
  {
   "cell_type": "code",
   "execution_count": 2,
   "metadata": {
    "colab": {},
    "colab_type": "code",
    "id": "WwaD_fMA3Xrp"
   },
   "outputs": [],
   "source": [
    "from tempfile import mkdtemp\n",
    "\n",
    "import en_core_web_lg\n",
    "import matplotlib.pyplot as plt\n",
    "import nltk\n",
    "import numpy as np\n",
    "from nltk.corpus import stopwords\n",
    "from nltk.tokenize import word_tokenize\n",
    "from sklearn import set_config\n",
    "from sklearn.feature_extraction.text import TfidfVectorizer\n",
    "from sklearn.metrics import (\n",
    "    accuracy_score,\n",
    "    balanced_accuracy_score,\n",
    "    classification_report,\n",
    "    plot_confusion_matrix,\n",
    ")\n",
    "from sklearn.model_selection import GridSearchCV, cross_validate, train_test_split\n",
    "from sklearn.naive_bayes import ComplementNB\n",
    "from sklearn.pipeline import make_pipeline\n",
    "from sklearn.preprocessing import LabelEncoder\n",
    "from sklearn.svm import SVC\n",
    "from sklearn.utils.class_weight import compute_sample_weight\n",
    "\n",
    "import weight_paths\n",
    "from incident_types_d import IncidentType\n",
    "from report_data import ReportData\n",
    "from report_data_d import ColName\n",
    "\n",
    "set_config(display=\"diagram\")"
   ]
  },
  {
   "cell_type": "markdown",
   "metadata": {
    "colab_type": "text",
    "id": "uSA6kHvYiFlK"
   },
   "source": [
    "Download NLTK data and models"
   ]
  },
  {
   "cell_type": "code",
   "execution_count": 3,
   "metadata": {
    "colab": {
     "base_uri": "https://localhost:8080/",
     "height": 136
    },
    "colab_type": "code",
    "id": "rbMvo3xP_haT",
    "outputId": "ef96e762-d6b9-43d8-8f5e-2edef7fb67df"
   },
   "outputs": [
    {
     "name": "stderr",
     "output_type": "stream",
     "text": [
      "[nltk_data] Downloading package punkt to\n",
      "[nltk_data]     C:\\Users\\siepp\\AppData\\Roaming\\nltk_data...\n",
      "[nltk_data]   Package punkt is already up-to-date!\n",
      "[nltk_data] Downloading package stopwords to\n",
      "[nltk_data]     C:\\Users\\siepp\\AppData\\Roaming\\nltk_data...\n",
      "[nltk_data]   Package stopwords is already up-to-date!\n",
      "[nltk_data] Downloading package wordnet to\n",
      "[nltk_data]     C:\\Users\\siepp\\AppData\\Roaming\\nltk_data...\n",
      "[nltk_data]   Package wordnet is already up-to-date!\n"
     ]
    },
    {
     "data": {
      "text/plain": [
       "True"
      ]
     },
     "execution_count": 3,
     "metadata": {},
     "output_type": "execute_result"
    }
   ],
   "source": [
    "nltk.download(\"punkt\")\n",
    "nltk.download(\"stopwords\")\n",
    "nltk.download(\"wordnet\")"
   ]
  },
  {
   "cell_type": "markdown",
   "metadata": {
    "colab_type": "text",
    "id": "2S4KIZtv31of"
   },
   "source": [
    "Load Spacy NLP model trained on web documents"
   ]
  },
  {
   "cell_type": "code",
   "execution_count": 4,
   "metadata": {
    "colab": {},
    "colab_type": "code",
    "id": "kCh4rvL16TpY"
   },
   "outputs": [],
   "source": [
    "nlp = en_core_web_lg.load()"
   ]
  },
  {
   "cell_type": "markdown",
   "metadata": {
    "colab_type": "text",
    "id": "5ZyHRCL91ClA"
   },
   "source": [
    "## Preprocessing\n",
    "\n",
    "NLTK and Spacy versions of preprocessing to remove stop words and non-letter tokens, as well as perform lemmatization."
   ]
  },
  {
   "cell_type": "code",
   "execution_count": 5,
   "metadata": {
    "colab": {},
    "colab_type": "code",
    "id": "eOb3ruslZzWC"
   },
   "outputs": [],
   "source": [
    "def spacy_tokenizer(df_sent):\n",
    "    spy_txt = nlp(df_sent)\n",
    "    return [\n",
    "        w.lemma_ if w.lemma_ != \"-PRON-\" else w.text\n",
    "        for w in spy_txt\n",
    "        if not w.is_stop and not w.is_punct\n",
    "    ]"
   ]
  },
  {
   "cell_type": "code",
   "execution_count": 6,
   "metadata": {
    "colab": {},
    "colab_type": "code",
    "id": "JUIwXjWj_Q4t"
   },
   "outputs": [],
   "source": [
    "def nltk_tokenizer(df_sent):\n",
    "    lemmatizer = nltk.WordNetLemmatizer()\n",
    "    stop_words = set(stopwords.words(\"english\"))\n",
    "\n",
    "    tokens = word_tokenize(df_sent)\n",
    "    words = [word.lower() for word in tokens if word.isalpha()]\n",
    "    words = [word for word in words if word not in stop_words]\n",
    "    words = [lemmatizer.lemmatize(word) for word in words]\n",
    "\n",
    "    return words"
   ]
  },
  {
   "cell_type": "markdown",
   "metadata": {},
   "source": [
    "Load the data"
   ]
  },
  {
   "cell_type": "code",
   "execution_count": 7,
   "metadata": {
    "colab": {},
    "colab_type": "code",
    "id": "wRoiYwgwUHNI"
   },
   "outputs": [
    {
     "name": "stdout",
     "output_type": "stream",
     "text": [
      "<class 'pandas.core.frame.DataFrame'>\n",
      "RangeIndex: 335 entries, 0 to 334\n",
      "Data columns (total 2 columns):\n",
      " #   Column          Non-Null Count  Dtype \n",
      "---  ------          --------------  ----- \n",
      " 0   ColName.DESC    335 non-null    object\n",
      " 1   ColName.INC_T1  335 non-null    object\n",
      "dtypes: object(2)\n",
      "memory usage: 5.4+ KB\n",
      "None\n"
     ]
    }
   ],
   "source": [
    "if IN_COLAB:\n",
    "    yw_df = ReportData(out_file_path=\"data-processed.csv\").get_processed_data()\n",
    "else:\n",
    "    yw_df = ReportData().get_processed_data()[[ColName.DESC, ColName.INC_T1]]\n",
    "\n",
    "print(yw_df.info())"
   ]
  },
  {
   "cell_type": "markdown",
   "metadata": {
    "colab_type": "text",
    "id": "DHYQ-ytQ4Fp6"
   },
   "source": [
    "Summarize the differences between Spacy and NLTK tokenization"
   ]
  },
  {
   "cell_type": "code",
   "execution_count": 8,
   "metadata": {
    "colab": {},
    "colab_type": "code",
    "id": "wRoiYwgwUHNI"
   },
   "outputs": [
    {
     "name": "stdout",
     "output_type": "stream",
     "text": [
      "Spacy tokenization compared to NLTK tokenization on the same report description:\n",
      "\n",
      "Items in spacy_tokens but not in nltk_tokens:\n",
      "['NAME+INITIALS-0', 'make', 'check', 'NAME+INITIALS-0', 'appear', 'NAME+INITIALS-0', 'tell', 'want', 'call', 'initials-1', 'initials-1', 'arrive', 'assess', 'NAME+INITIALS-0', 'state', 'vital', 'appear', 'struggle', 'NAME+INITIALS-0', 'decline', 'go', 'initials-1']\n",
      "\n",
      "Items in nltk_tokens but not in spacy_tokens:\n",
      "['could', 'making', 'checked', 'breathing', 'appeared', 'told', 'could', 'wanted', 'called', 'arrived', 'assessed', 'stated', 'vitals', 'appeared', 'struggling', 'declined', 'going']\n"
     ]
    }
   ],
   "source": [
    "yw_clean = yw_df[ColName.DESC]\n",
    "\n",
    "print(\n",
    "    \"Spacy tokenization compared to NLTK tokenization on the same report description:\\n\"\n",
    ")\n",
    "spacy_tokens = spacy_tokenizer(yw_clean[0])\n",
    "nltk_tokens = nltk_tokenizer(yw_clean[0])\n",
    "print(\"Items in spacy_tokens but not in nltk_tokens:\")\n",
    "print([x for x in spacy_tokens if x not in nltk_tokens])\n",
    "print()\n",
    "print(\"Items in nltk_tokens but not in spacy_tokens:\")\n",
    "print([x for x in nltk_tokens if x not in spacy_tokens])"
   ]
  },
  {
   "cell_type": "markdown",
   "metadata": {
    "pycharm": {
     "name": "#%% md\n"
    }
   },
   "source": [
    "Use tf-idf with our Spacy tokenizer to vectorize the data. Note:\n",
    "\n",
    "- We match single character alphanumeric words instead of the default minimum double character.\n",
    "- We use both uni-grams and bi-grams, this gives more features and preserves some possibly important ordering. See [here](https://scikit-learn.org/stable/modules/feature_extraction.html?highlight=tfidf#common-vectorizer-usage) for an example.\n",
    "- We set `min_df` to filter odd words that don't appear often. We only need to consider more common word patterns and filter out the odd words."
   ]
  },
  {
   "cell_type": "code",
   "execution_count": 9,
   "metadata": {
    "colab": {},
    "colab_type": "code",
    "id": "-N_M0ErRbfl3"
   },
   "outputs": [],
   "source": [
    "word_vec = TfidfVectorizer(\n",
    "    tokenizer=spacy_tokenizer, token_pattern=r\"\\b\\w+\\b\", ngram_range=(1, 2), min_df=2\n",
    ")"
   ]
  },
  {
   "cell_type": "markdown",
   "metadata": {
    "colab_type": "text",
    "id": "KIXfSYO_1vQC"
   },
   "source": [
    "Split data into training and test data. The `random_state` of `32` has been manually optimized for our data."
   ]
  },
  {
   "cell_type": "code",
   "execution_count": 10,
   "metadata": {
    "colab": {},
    "colab_type": "code",
    "id": "Gu7fF5PUZBS0"
   },
   "outputs": [],
   "source": [
    "X_train_set, X_test_set, y_train_set, y_test_set = train_test_split(\n",
    "    yw_clean, yw_df[ColName.INC_T1], train_size=0.75, random_state=32, shuffle=True\n",
    ")"
   ]
  },
  {
   "cell_type": "markdown",
   "metadata": {
    "colab_type": "text",
    "id": "UQYBKfsz4LRV"
   },
   "source": [
    "Assigns each label class a weight according to it's frequency of appearance in the dataset."
   ]
  },
  {
   "cell_type": "code",
   "execution_count": 11,
   "metadata": {
    "colab": {},
    "colab_type": "code",
    "id": "YwK5Ksf9Tz2Y"
   },
   "outputs": [],
   "source": [
    "def count_weight(labels):\n",
    "    weight_dict = {lb: 0 for lb in set(labels)}\n",
    "\n",
    "    for label in labels:\n",
    "        weight_dict[label] += 1\n",
    "\n",
    "    return weight_dict"
   ]
  },
  {
   "cell_type": "markdown",
   "metadata": {
    "colab_type": "text",
    "id": "-GyDpbswryUK"
   },
   "source": [
    "Compute sample weights for each example, giving higher frequency examples more weight."
   ]
  },
  {
   "cell_type": "code",
   "execution_count": 12,
   "metadata": {
    "colab": {},
    "colab_type": "code",
    "id": "x1hXOh43p9Zy"
   },
   "outputs": [],
   "source": [
    "weight_train = compute_sample_weight(count_weight(y_train_set), y_train_set)\n",
    "weight_test = compute_sample_weight(count_weight(y_test_set), y_test_set)"
   ]
  },
  {
   "cell_type": "markdown",
   "metadata": {
    "colab_type": "text",
    "id": "yl7MRO9j1zJq"
   },
   "source": [
    "## Training and Evaluation"
   ]
  },
  {
   "cell_type": "markdown",
   "metadata": {},
   "source": [
    "### Manually Optimized Model Evaluation"
   ]
  },
  {
   "cell_type": "markdown",
   "metadata": {},
   "source": [
    "Initialize and fit the models.\n",
    "> NOTE: Using sample weights with CNB significantly decreases the accuracy, this could be related to the inner workings of the algorithm."
   ]
  },
  {
   "cell_type": "code",
   "execution_count": 13,
   "metadata": {
    "colab": {},
    "colab_type": "code",
    "id": "RIghMdHfZRHv"
   },
   "outputs": [
    {
     "data": {
      "text/html": [
       "<style>div.sk-top-container {color: black;background-color: white;}div.sk-toggleable {background-color: white;}label.sk-toggleable__label {cursor: pointer;display: block;width: 100%;margin-bottom: 0;padding: 0.2em 0.3em;box-sizing: border-box;text-align: center;}div.sk-toggleable__content {max-height: 0;max-width: 0;overflow: hidden;text-align: left;background-color: #f0f8ff;}div.sk-toggleable__content pre {margin: 0.2em;color: black;border-radius: 0.25em;background-color: #f0f8ff;}input.sk-toggleable__control:checked~div.sk-toggleable__content {max-height: 200px;max-width: 100%;overflow: auto;}div.sk-estimator input.sk-toggleable__control:checked~label.sk-toggleable__label {background-color: #d4ebff;}div.sk-label input.sk-toggleable__control:checked~label.sk-toggleable__label {background-color: #d4ebff;}input.sk-hidden--visually {border: 0;clip: rect(1px 1px 1px 1px);clip: rect(1px, 1px, 1px, 1px);height: 1px;margin: -1px;overflow: hidden;padding: 0;position: absolute;width: 1px;}div.sk-estimator {font-family: monospace;background-color: #f0f8ff;margin: 0.25em 0.25em;border: 1px dotted black;border-radius: 0.25em;box-sizing: border-box;}div.sk-estimator:hover {background-color: #d4ebff;}div.sk-parallel-item::after {content: \"\";width: 100%;border-bottom: 1px solid gray;flex-grow: 1;}div.sk-label:hover label.sk-toggleable__label {background-color: #d4ebff;}div.sk-serial::before {content: \"\";position: absolute;border-left: 1px solid gray;box-sizing: border-box;top: 2em;bottom: 0;left: 50%;}div.sk-serial {display: flex;flex-direction: column;align-items: center;background-color: white;}div.sk-item {z-index: 1;}div.sk-parallel {display: flex;align-items: stretch;justify-content: center;background-color: white;}div.sk-parallel-item {display: flex;flex-direction: column;position: relative;background-color: white;}div.sk-parallel-item:first-child::after {align-self: flex-end;width: 50%;}div.sk-parallel-item:last-child::after {align-self: flex-start;width: 50%;}div.sk-parallel-item:only-child::after {width: 0;}div.sk-dashed-wrapped {border: 1px dashed gray;margin: 0.2em;box-sizing: border-box;padding-bottom: 0.1em;background-color: white;position: relative;}div.sk-label label {font-family: monospace;font-weight: bold;background-color: white;display: inline-block;line-height: 1.2em;}div.sk-label-container {position: relative;z-index: 2;text-align: center;}div.sk-container {display: inline-block;position: relative;}</style><div class=\"sk-top-container\"><div class=\"sk-container\"><div class=\"sk-item sk-dashed-wrapped\"><div class=\"sk-label-container\"><div class=\"sk-label sk-toggleable\"><input class=\"sk-toggleable__control sk-hidden--visually\" id=\"ab0de7e8-5755-4775-933c-b608be584f82\" type=\"checkbox\" ><label class=\"sk-toggleable__label\" for=\"ab0de7e8-5755-4775-933c-b608be584f82\">Pipeline</label><div class=\"sk-toggleable__content\"><pre>Pipeline(memory='C:\\\\Users\\\\siepp\\\\AppData\\\\Local\\\\Temp\\\\tmp25wa3g4o',\n",
       "         steps=[('tfidfvectorizer',\n",
       "                 TfidfVectorizer(min_df=2, ngram_range=(1, 2),\n",
       "                                 token_pattern='\\\\b\\\\w+\\\\b',\n",
       "                                 tokenizer=<function spacy_tokenizer at 0x00000181BA46CD30>)),\n",
       "                ('complementnb', ComplementNB())])</pre></div></div></div><div class=\"sk-serial\"><div class=\"sk-item\"><div class=\"sk-estimator sk-toggleable\"><input class=\"sk-toggleable__control sk-hidden--visually\" id=\"f06dcb07-f8e8-4ab3-b588-63600c1527c5\" type=\"checkbox\" ><label class=\"sk-toggleable__label\" for=\"f06dcb07-f8e8-4ab3-b588-63600c1527c5\">TfidfVectorizer</label><div class=\"sk-toggleable__content\"><pre>TfidfVectorizer(min_df=2, ngram_range=(1, 2), token_pattern='\\\\b\\\\w+\\\\b',\n",
       "                tokenizer=<function spacy_tokenizer at 0x00000181BA46CD30>)</pre></div></div></div><div class=\"sk-item\"><div class=\"sk-estimator sk-toggleable\"><input class=\"sk-toggleable__control sk-hidden--visually\" id=\"9337bd1d-0533-4c2e-ac37-f6e6578b70ca\" type=\"checkbox\" ><label class=\"sk-toggleable__label\" for=\"9337bd1d-0533-4c2e-ac37-f6e6578b70ca\">ComplementNB</label><div class=\"sk-toggleable__content\"><pre>ComplementNB()</pre></div></div></div></div></div></div></div>"
      ],
      "text/plain": [
       "Pipeline(memory='C:\\\\Users\\\\siepp\\\\AppData\\\\Local\\\\Temp\\\\tmp25wa3g4o',\n",
       "         steps=[('tfidfvectorizer',\n",
       "                 TfidfVectorizer(min_df=2, ngram_range=(1, 2),\n",
       "                                 token_pattern='\\\\b\\\\w+\\\\b',\n",
       "                                 tokenizer=<function spacy_tokenizer at 0x00000181BA46CD30>)),\n",
       "                ('complementnb', ComplementNB())])"
      ]
     },
     "execution_count": 13,
     "metadata": {},
     "output_type": "execute_result"
    }
   ],
   "source": [
    "cnb_cache = mkdtemp()\n",
    "cnb = make_pipeline(word_vec, ComplementNB(), memory=cnb_cache)\n",
    "cnb.fit(X_train_set, y_train_set)"
   ]
  },
  {
   "cell_type": "code",
   "execution_count": 14,
   "metadata": {
    "colab": {},
    "colab_type": "code",
    "id": "RIghMdHfZRHv"
   },
   "outputs": [
    {
     "data": {
      "text/html": [
       "<style>div.sk-top-container {color: black;background-color: white;}div.sk-toggleable {background-color: white;}label.sk-toggleable__label {cursor: pointer;display: block;width: 100%;margin-bottom: 0;padding: 0.2em 0.3em;box-sizing: border-box;text-align: center;}div.sk-toggleable__content {max-height: 0;max-width: 0;overflow: hidden;text-align: left;background-color: #f0f8ff;}div.sk-toggleable__content pre {margin: 0.2em;color: black;border-radius: 0.25em;background-color: #f0f8ff;}input.sk-toggleable__control:checked~div.sk-toggleable__content {max-height: 200px;max-width: 100%;overflow: auto;}div.sk-estimator input.sk-toggleable__control:checked~label.sk-toggleable__label {background-color: #d4ebff;}div.sk-label input.sk-toggleable__control:checked~label.sk-toggleable__label {background-color: #d4ebff;}input.sk-hidden--visually {border: 0;clip: rect(1px 1px 1px 1px);clip: rect(1px, 1px, 1px, 1px);height: 1px;margin: -1px;overflow: hidden;padding: 0;position: absolute;width: 1px;}div.sk-estimator {font-family: monospace;background-color: #f0f8ff;margin: 0.25em 0.25em;border: 1px dotted black;border-radius: 0.25em;box-sizing: border-box;}div.sk-estimator:hover {background-color: #d4ebff;}div.sk-parallel-item::after {content: \"\";width: 100%;border-bottom: 1px solid gray;flex-grow: 1;}div.sk-label:hover label.sk-toggleable__label {background-color: #d4ebff;}div.sk-serial::before {content: \"\";position: absolute;border-left: 1px solid gray;box-sizing: border-box;top: 2em;bottom: 0;left: 50%;}div.sk-serial {display: flex;flex-direction: column;align-items: center;background-color: white;}div.sk-item {z-index: 1;}div.sk-parallel {display: flex;align-items: stretch;justify-content: center;background-color: white;}div.sk-parallel-item {display: flex;flex-direction: column;position: relative;background-color: white;}div.sk-parallel-item:first-child::after {align-self: flex-end;width: 50%;}div.sk-parallel-item:last-child::after {align-self: flex-start;width: 50%;}div.sk-parallel-item:only-child::after {width: 0;}div.sk-dashed-wrapped {border: 1px dashed gray;margin: 0.2em;box-sizing: border-box;padding-bottom: 0.1em;background-color: white;position: relative;}div.sk-label label {font-family: monospace;font-weight: bold;background-color: white;display: inline-block;line-height: 1.2em;}div.sk-label-container {position: relative;z-index: 2;text-align: center;}div.sk-container {display: inline-block;position: relative;}</style><div class=\"sk-top-container\"><div class=\"sk-container\"><div class=\"sk-item sk-dashed-wrapped\"><div class=\"sk-label-container\"><div class=\"sk-label sk-toggleable\"><input class=\"sk-toggleable__control sk-hidden--visually\" id=\"6a40ce4f-2e3d-4e15-b51b-0fcd992c9314\" type=\"checkbox\" ><label class=\"sk-toggleable__label\" for=\"6a40ce4f-2e3d-4e15-b51b-0fcd992c9314\">Pipeline</label><div class=\"sk-toggleable__content\"><pre>Pipeline(memory='C:\\\\Users\\\\siepp\\\\AppData\\\\Local\\\\Temp\\\\tmputosp6ln',\n",
       "         steps=[('tfidfvectorizer',\n",
       "                 TfidfVectorizer(min_df=2, ngram_range=(1, 2),\n",
       "                                 token_pattern='\\\\b\\\\w+\\\\b',\n",
       "                                 tokenizer=<function spacy_tokenizer at 0x00000181BA46CD30>)),\n",
       "                ('svc', SVC())])</pre></div></div></div><div class=\"sk-serial\"><div class=\"sk-item\"><div class=\"sk-estimator sk-toggleable\"><input class=\"sk-toggleable__control sk-hidden--visually\" id=\"ce52f3b1-1d0d-46af-8188-336437add483\" type=\"checkbox\" ><label class=\"sk-toggleable__label\" for=\"ce52f3b1-1d0d-46af-8188-336437add483\">TfidfVectorizer</label><div class=\"sk-toggleable__content\"><pre>TfidfVectorizer(min_df=2, ngram_range=(1, 2), token_pattern='\\\\b\\\\w+\\\\b',\n",
       "                tokenizer=<function spacy_tokenizer at 0x00000181BA46CD30>)</pre></div></div></div><div class=\"sk-item\"><div class=\"sk-estimator sk-toggleable\"><input class=\"sk-toggleable__control sk-hidden--visually\" id=\"63c41185-a5bf-4faf-82a7-f15867d2d676\" type=\"checkbox\" ><label class=\"sk-toggleable__label\" for=\"63c41185-a5bf-4faf-82a7-f15867d2d676\">SVC</label><div class=\"sk-toggleable__content\"><pre>SVC()</pre></div></div></div></div></div></div></div>"
      ],
      "text/plain": [
       "Pipeline(memory='C:\\\\Users\\\\siepp\\\\AppData\\\\Local\\\\Temp\\\\tmputosp6ln',\n",
       "         steps=[('tfidfvectorizer',\n",
       "                 TfidfVectorizer(min_df=2, ngram_range=(1, 2),\n",
       "                                 token_pattern='\\\\b\\\\w+\\\\b',\n",
       "                                 tokenizer=<function spacy_tokenizer at 0x00000181BA46CD30>)),\n",
       "                ('svc', SVC())])"
      ]
     },
     "execution_count": 14,
     "metadata": {},
     "output_type": "execute_result"
    }
   ],
   "source": [
    "svm_cache = mkdtemp()\n",
    "svm = make_pipeline(word_vec, SVC(), memory=svm_cache)\n",
    "svm.fit(X_train_set, y_train_set, svc__sample_weight=weight_train)"
   ]
  },
  {
   "cell_type": "markdown",
   "metadata": {},
   "source": [
    "> NOTE: Using `sample_weight=weight_test` in our metrics calculations makes samples which are more prevalent in our data contribute more to the overall score."
   ]
  },
  {
   "cell_type": "code",
   "execution_count": 15,
   "metadata": {
    "colab": {},
    "colab_type": "code",
    "id": "6GJYVI3TaH7W"
   },
   "outputs": [
    {
     "name": "stdout",
     "output_type": "stream",
     "text": [
      "Complement NB test accuracy score is: 89.38% \n",
      "\n",
      "Complement NB train accuracy score is: 96.99% \n",
      "\n",
      "Complement NB test balanced accuracy score is: 25.18% \n",
      "\n",
      "Complement NB train balanced accuracy score is: 82.09% \n",
      "\n"
     ]
    }
   ],
   "source": [
    "predicted_test = cnb.predict(X_test_set)\n",
    "predicted_train = cnb.predict(X_train_set)\n",
    "test_score = accuracy_score(y_test_set, predicted_test, sample_weight=weight_test)\n",
    "train_score = accuracy_score(y_train_set, predicted_train, sample_weight=weight_train)\n",
    "test_balance = balanced_accuracy_score(\n",
    "    y_test_set, predicted_test, sample_weight=weight_test\n",
    ")\n",
    "train_balance = balanced_accuracy_score(\n",
    "    y_train_set, predicted_train, sample_weight=weight_train\n",
    ")\n",
    "\n",
    "print(\"Complement NB test accuracy score is: {:.2%} \\n\".format(test_score))\n",
    "print(\"Complement NB train accuracy score is: {:.2%} \\n\".format(train_score))\n",
    "print(\"Complement NB test balanced accuracy score is: {:.2%} \\n\".format(test_balance))\n",
    "print(\"Complement NB train balanced accuracy score is: {:.2%} \\n\".format(train_balance))"
   ]
  },
  {
   "cell_type": "code",
   "execution_count": 16,
   "metadata": {
    "colab": {},
    "colab_type": "code",
    "id": "9b8dXW2Be3_f"
   },
   "outputs": [
    {
     "name": "stdout",
     "output_type": "stream",
     "text": [
      "SVM-C test accuracy score is :92.25% \n",
      "\n",
      "SVM-C train accuracy score is :99.80% \n",
      "\n",
      "SVM-C test balanced accuracy score is :19.50% \n",
      "\n",
      "SVM-C train balanced accuracy score is :83.05% \n",
      "\n"
     ]
    }
   ],
   "source": [
    "predicted_test = svm.predict(X_test_set)\n",
    "predicted_train = svm.predict(X_train_set)\n",
    "test_score = accuracy_score(y_test_set, predicted_test, sample_weight=weight_test)\n",
    "train_score = accuracy_score(y_train_set, predicted_train, sample_weight=weight_train)\n",
    "test_balance = balanced_accuracy_score(\n",
    "    y_test_set, predicted_test, sample_weight=weight_test\n",
    ")\n",
    "train_balance = balanced_accuracy_score(\n",
    "    y_train_set, predicted_train, sample_weight=weight_train\n",
    ")\n",
    "\n",
    "print(\"SVM-C test accuracy score is :{:.2%} \\n\".format(test_score))\n",
    "print(\"SVM-C train accuracy score is :{:.2%} \\n\".format(train_score))\n",
    "print(\"SVM-C test balanced accuracy score is :{:.2%} \\n\".format(test_balance))\n",
    "print(\"SVM-C train balanced accuracy score is :{:.2%} \\n\".format(train_balance))"
   ]
  },
  {
   "cell_type": "code",
   "execution_count": 17,
   "metadata": {
    "colab": {},
    "colab_type": "code",
    "id": "pbeEHBxT1Stp"
   },
   "outputs": [
    {
     "data": {
      "text/plain": [
       "Text(0.5, 1.0, 'Complement NB confusion matrix on test set with normalization')"
      ]
     },
     "execution_count": 17,
     "metadata": {},
     "output_type": "execute_result"
    },
    {
     "data": {
      "image/png": "[encoded data removed]",
      "text/plain": [
       "<Figure size 432x288 with 2 Axes>"
      ]
     },
     "metadata": {
      "needs_background": "light"
     },
     "output_type": "display_data"
    }
   ],
   "source": [
    "test_class = set(y_test_set)\n",
    "disp = plot_confusion_matrix(\n",
    "    cnb,\n",
    "    X_test_set,\n",
    "    y_test_set,\n",
    "    sample_weight=weight_test,\n",
    "    normalize=\"true\",\n",
    "    display_labels=test_class,\n",
    "    cmap=plt.cm.Blues,\n",
    "    xticks_rotation=\"vertical\",\n",
    ")\n",
    "title = \"Complement NB confusion matrix on test set with normalization\"\n",
    "disp.ax_.set_title(title)"
   ]
  },
  {
   "cell_type": "code",
   "execution_count": 18,
   "metadata": {
    "colab": {},
    "colab_type": "code",
    "id": "pT0vcMg82EPZ"
   },
   "outputs": [
    {
     "data": {
      "text/plain": [
       "Text(0.5, 1.0, 'SVM-C confusion matrix on test set with normalization')"
      ]
     },
     "execution_count": 18,
     "metadata": {},
     "output_type": "execute_result"
    },
    {
     "data": {
      "image/png": "[encoded data removed]",
      "text/plain": [
       "<Figure size 432x288 with 2 Axes>"
      ]
     },
     "metadata": {
      "needs_background": "light"
     },
     "output_type": "display_data"
    }
   ],
   "source": [
    "disp = plot_confusion_matrix(\n",
    "    svm,\n",
    "    X_test_set,\n",
    "    y_test_set,\n",
    "    sample_weight=weight_test,\n",
    "    normalize=\"true\",\n",
    "    display_labels=test_class,\n",
    "    cmap=plt.cm.Blues,\n",
    "    xticks_rotation=\"vertical\",\n",
    ")\n",
    "title = \"SVM-C confusion matrix on test set with normalization\"\n",
    "disp.ax_.set_title(title)"
   ]
  },
  {
   "cell_type": "code",
   "execution_count": 19,
   "metadata": {
    "colab": {},
    "colab_type": "code",
    "id": "JxqoCeBY-4zN"
   },
   "outputs": [
    {
     "name": "stdout",
     "output_type": "stream",
     "text": [
      "Complement NB test set classification report\n",
      "\n",
      "                                                             precision    recall  f1-score   support\n",
      "\n",
      "                   Client aggression towards another person       0.66      0.56      0.60      81.0\n",
      "                         Client aggression towards property       0.00      0.00      0.00       1.0\n",
      "                             Concern for welfare of a child       0.77      0.83      0.80      36.0\n",
      "                               Homicide (Threat or attempt)       0.00      0.00      0.00       0.0\n",
      "                                          Medical emergency       0.99      0.94      0.96    2209.0\n",
      "                                    Mental health emergency       0.00      0.00      0.00       4.0\n",
      "                                                      Other       0.28      0.44      0.34      81.0\n",
      "                                           Security concern       0.00      0.00      0.00       1.0\n",
      "                                            Suicide attempt       0.00      0.00      0.00       0.0\n",
      "Suspicion/allegation of child abuse - child is not a client       0.00      0.00      0.00       0.0\n",
      "    Suspicion/allegation of abuse towards or against client       0.00      0.00      0.00      16.0\n",
      "                      Suspected or actual breach of privacy       0.00      0.00      0.00       0.0\n",
      "                                    Media/3rd party contact       0.00      0.00      0.00       0.0\n",
      "                                                     Injury       0.00      0.00      0.00       4.0\n",
      "                               Illegal activity on premises       0.00      0.00      0.00       1.0\n",
      "                                                   Exposure       0.00      0.00      0.00       0.0\n",
      "                                         COVID-19 Confirmed       0.00      0.00      0.00       0.0\n",
      "                                             Client missing       0.00      0.00      0.00       0.0\n",
      "                                      Client death (onsite)       0.00      0.00      0.00       4.0\n",
      "                                     Client death (offsite)       0.00      0.00      0.00       0.0\n",
      "                                          Child abandonment       0.00      0.00      0.00       0.0\n",
      "\n",
      "                                                  micro avg       0.89      0.89      0.89    2438.0\n",
      "                                                  macro avg       0.13      0.13      0.13    2438.0\n",
      "                                               weighted avg       0.94      0.89      0.91    2438.0\n",
      "\n"
     ]
    },
    {
     "name": "stderr",
     "output_type": "stream",
     "text": [
      "c:\\users\\siepp\\desktop\\school\\code-the-change\\yw-nlp-report-classifier\\.env\\lib\\site-packages\\sklearn\\metrics\\_classification.py:1221: UndefinedMetricWarning: Precision and F-score are ill-defined and being set to 0.0 in labels with no predicted samples. Use `zero_division` parameter to control this behavior.\n",
      "  _warn_prf(average, modifier, msg_start, len(result))\n",
      "c:\\users\\siepp\\desktop\\school\\code-the-change\\yw-nlp-report-classifier\\.env\\lib\\site-packages\\sklearn\\metrics\\_classification.py:1221: UndefinedMetricWarning: Recall and F-score are ill-defined and being set to 0.0 in labels with no true samples. Use `zero_division` parameter to control this behavior.\n",
      "  _warn_prf(average, modifier, msg_start, len(result))\n"
     ]
    }
   ],
   "source": [
    "predicted_test = cnb.predict(X_test_set)\n",
    "labels = [e.value for e in IncidentType]\n",
    "print(\"Complement NB test set classification report\\n\")\n",
    "print(\n",
    "    classification_report(\n",
    "        y_test_set,\n",
    "        predicted_test,\n",
    "        sample_weight=weight_test,\n",
    "        labels=labels,\n",
    "        target_names=labels,\n",
    "    )\n",
    ")"
   ]
  },
  {
   "cell_type": "code",
   "execution_count": 20,
   "metadata": {
    "colab": {},
    "colab_type": "code",
    "id": "u5BkErR6-9RP"
   },
   "outputs": [
    {
     "name": "stdout",
     "output_type": "stream",
     "text": [
      "SVM-C test set classification report\n",
      "\n",
      "                                                             precision    recall  f1-score   support\n",
      "\n",
      "                   Client aggression towards another person       0.96      0.33      0.50      81.0\n",
      "                         Client aggression towards property       0.00      0.00      0.00       1.0\n",
      "                             Concern for welfare of a child       1.00      0.17      0.29      36.0\n",
      "                               Homicide (Threat or attempt)       0.00      0.00      0.00       0.0\n",
      "                                          Medical emergency       0.97      0.98      0.97    2209.0\n",
      "                                    Mental health emergency       0.00      0.00      0.00       4.0\n",
      "                                                      Other       0.46      0.67      0.55      81.0\n",
      "                                           Security concern       0.00      0.00      0.00       1.0\n",
      "                                            Suicide attempt       0.00      0.00      0.00       0.0\n",
      "Suspicion/allegation of child abuse - child is not a client       0.00      0.00      0.00       0.0\n",
      "    Suspicion/allegation of abuse towards or against client       0.00      0.00      0.00      16.0\n",
      "                      Suspected or actual breach of privacy       0.00      0.00      0.00       0.0\n",
      "                                    Media/3rd party contact       0.00      0.00      0.00       0.0\n",
      "                                                     Injury       0.00      0.00      0.00       4.0\n",
      "                               Illegal activity on premises       0.00      0.00      0.00       1.0\n",
      "                                                   Exposure       0.00      0.00      0.00       0.0\n",
      "                                         COVID-19 Confirmed       0.00      0.00      0.00       0.0\n",
      "                                             Client missing       0.00      0.00      0.00       0.0\n",
      "                                      Client death (onsite)       0.00      0.00      0.00       4.0\n",
      "                                     Client death (offsite)       0.00      0.00      0.00       0.0\n",
      "                                          Child abandonment       0.00      0.00      0.00       0.0\n",
      "\n",
      "                                                  micro avg       0.92      0.92      0.92    2438.0\n",
      "                                                  macro avg       0.16      0.10      0.11    2438.0\n",
      "                                               weighted avg       0.94      0.92      0.92    2438.0\n",
      "\n"
     ]
    }
   ],
   "source": [
    "predicted_test = svm.predict(X_test_set)\n",
    "\n",
    "print(\"SVM-C test set classification report\\n\")\n",
    "print(\n",
    "    classification_report(\n",
    "        y_test_set,\n",
    "        predicted_test,\n",
    "        sample_weight=weight_test,\n",
    "        labels=labels,\n",
    "        target_names=labels,\n",
    "    )\n",
    ")"
   ]
  },
  {
   "cell_type": "markdown",
   "metadata": {},
   "source": [
    "### Cross Validated Model Evaluation"
   ]
  },
  {
   "cell_type": "markdown",
   "metadata": {
    "colab_type": "text",
    "id": "YL0vW9q8DcTt"
   },
   "source": [
    "Detailed parameter fine tuning based on balanced accuracy and accuracy score on SVC."
   ]
  },
  {
   "cell_type": "code",
   "execution_count": 21,
   "metadata": {},
   "outputs": [],
   "source": [
    "# Save the encoded input as it takes too long to generate each grid search\n",
    "X_train_enc = word_vec.fit_transform(X_train_set)"
   ]
  },
  {
   "cell_type": "code",
   "execution_count": 22,
   "metadata": {
    "colab": {},
    "colab_type": "code",
    "id": "ZlHPD44WRoUV"
   },
   "outputs": [],
   "source": [
    "svc_params_list = {\n",
    "    \"C\": np.linspace(3, 0, num=9, endpoint=False),\n",
    "    \"kernel\": [\"sigmoid\"],  # [\"linear\", \"poly\", \"sigmoid\"],\n",
    "    \"gamma\": [\"scale\"],  # [\"scale\", \"auto\"],\n",
    "    \"decision_function_shape\": [\n",
    "        \"ovo\"\n",
    "    ],  # Multi-class is always handled with one-vs-one # [\"ovo\", \"ovr\"],\n",
    "    \"class_weight\": [\"balanced\"],  # [\"balanced\", None],\n",
    "}"
   ]
  },
  {
   "cell_type": "code",
   "execution_count": 23,
   "metadata": {
    "colab": {},
    "colab_type": "code",
    "id": "tK48_p7__Bt5"
   },
   "outputs": [
    {
     "name": "stderr",
     "output_type": "stream",
     "text": [
      "c:\\users\\siepp\\desktop\\school\\code-the-change\\yw-nlp-report-classifier\\.env\\lib\\site-packages\\sklearn\\model_selection\\_split.py:670: UserWarning: The least populated class in y has only 1 members, which is less than n_splits=5.\n",
      "  warnings.warn((\"The least populated class in y has only %d\"\n"
     ]
    },
    {
     "data": {
      "text/html": [
       "<style>div.sk-top-container {color: black;background-color: white;}div.sk-toggleable {background-color: white;}label.sk-toggleable__label {cursor: pointer;display: block;width: 100%;margin-bottom: 0;padding: 0.2em 0.3em;box-sizing: border-box;text-align: center;}div.sk-toggleable__content {max-height: 0;max-width: 0;overflow: hidden;text-align: left;background-color: #f0f8ff;}div.sk-toggleable__content pre {margin: 0.2em;color: black;border-radius: 0.25em;background-color: #f0f8ff;}input.sk-toggleable__control:checked~div.sk-toggleable__content {max-height: 200px;max-width: 100%;overflow: auto;}div.sk-estimator input.sk-toggleable__control:checked~label.sk-toggleable__label {background-color: #d4ebff;}div.sk-label input.sk-toggleable__control:checked~label.sk-toggleable__label {background-color: #d4ebff;}input.sk-hidden--visually {border: 0;clip: rect(1px 1px 1px 1px);clip: rect(1px, 1px, 1px, 1px);height: 1px;margin: -1px;overflow: hidden;padding: 0;position: absolute;width: 1px;}div.sk-estimator {font-family: monospace;background-color: #f0f8ff;margin: 0.25em 0.25em;border: 1px dotted black;border-radius: 0.25em;box-sizing: border-box;}div.sk-estimator:hover {background-color: #d4ebff;}div.sk-parallel-item::after {content: \"\";width: 100%;border-bottom: 1px solid gray;flex-grow: 1;}div.sk-label:hover label.sk-toggleable__label {background-color: #d4ebff;}div.sk-serial::before {content: \"\";position: absolute;border-left: 1px solid gray;box-sizing: border-box;top: 2em;bottom: 0;left: 50%;}div.sk-serial {display: flex;flex-direction: column;align-items: center;background-color: white;}div.sk-item {z-index: 1;}div.sk-parallel {display: flex;align-items: stretch;justify-content: center;background-color: white;}div.sk-parallel-item {display: flex;flex-direction: column;position: relative;background-color: white;}div.sk-parallel-item:first-child::after {align-self: flex-end;width: 50%;}div.sk-parallel-item:last-child::after {align-self: flex-start;width: 50%;}div.sk-parallel-item:only-child::after {width: 0;}div.sk-dashed-wrapped {border: 1px dashed gray;margin: 0.2em;box-sizing: border-box;padding-bottom: 0.1em;background-color: white;position: relative;}div.sk-label label {font-family: monospace;font-weight: bold;background-color: white;display: inline-block;line-height: 1.2em;}div.sk-label-container {position: relative;z-index: 2;text-align: center;}div.sk-container {display: inline-block;position: relative;}</style><div class=\"sk-top-container\"><div class=\"sk-container\"><div class=\"sk-item sk-dashed-wrapped\"><div class=\"sk-label-container\"><div class=\"sk-label sk-toggleable\"><input class=\"sk-toggleable__control sk-hidden--visually\" id=\"044293b1-1ed7-407f-a1d8-8da3498c17cd\" type=\"checkbox\" ><label class=\"sk-toggleable__label\" for=\"044293b1-1ed7-407f-a1d8-8da3498c17cd\">GridSearchCV</label><div class=\"sk-toggleable__content\"><pre>GridSearchCV(estimator=SVC(),\n",
       "             param_grid={'C': array([3.        , 2.66666667, 2.33333333, 2.        , 1.66666667,\n",
       "       1.33333333, 1.        , 0.66666667, 0.33333333]),\n",
       "                         'class_weight': ['balanced'],\n",
       "                         'decision_function_shape': ['ovo'], 'gamma': ['scale'],\n",
       "                         'kernel': ['sigmoid']})</pre></div></div></div><div class=\"sk-parallel\"><div class=\"sk-parallel-item\"><div class=\"sk-item\"><div class=\"sk-serial\"><div class=\"sk-item\"><div class=\"sk-estimator sk-toggleable\"><input class=\"sk-toggleable__control sk-hidden--visually\" id=\"c1452060-3947-4f18-bbbe-e1547b956513\" type=\"checkbox\" ><label class=\"sk-toggleable__label\" for=\"c1452060-3947-4f18-bbbe-e1547b956513\">SVC</label><div class=\"sk-toggleable__content\"><pre>SVC()</pre></div></div></div></div></div></div></div></div></div></div>"
      ],
      "text/plain": [
       "GridSearchCV(estimator=SVC(),\n",
       "             param_grid={'C': array([3.        , 2.66666667, 2.33333333, 2.        , 1.66666667,\n",
       "       1.33333333, 1.        , 0.66666667, 0.33333333]),\n",
       "                         'class_weight': ['balanced'],\n",
       "                         'decision_function_shape': ['ovo'], 'gamma': ['scale'],\n",
       "                         'kernel': ['sigmoid']})"
      ]
     },
     "execution_count": 23,
     "metadata": {},
     "output_type": "execute_result"
    }
   ],
   "source": [
    "svm_op = GridSearchCV(svm.named_steps['svc'], param_grid=svc_params_list)\n",
    "svm_op.fit(X_train_enc, y_train_set, sample_weight=weight_train)"
   ]
  },
  {
   "cell_type": "code",
   "execution_count": 24,
   "metadata": {
    "colab": {},
    "colab_type": "code",
    "id": "1ZCkGNV3So0_"
   },
   "outputs": [
    {
     "data": {
      "text/plain": [
       "{'C': 3.0,\n",
       " 'class_weight': 'balanced',\n",
       " 'decision_function_shape': 'ovo',\n",
       " 'gamma': 'scale',\n",
       " 'kernel': 'sigmoid'}"
      ]
     },
     "execution_count": 24,
     "metadata": {},
     "output_type": "execute_result"
    }
   ],
   "source": [
    "svm_op.best_params_"
   ]
  },
  {
   "cell_type": "code",
   "execution_count": 25,
   "metadata": {
    "colab": {},
    "colab_type": "code",
    "id": "1omVlVqgYJx6"
   },
   "outputs": [
    {
     "name": "stderr",
     "output_type": "stream",
     "text": [
      "c:\\users\\siepp\\desktop\\school\\code-the-change\\yw-nlp-report-classifier\\.env\\lib\\site-packages\\sklearn\\model_selection\\_split.py:670: UserWarning: The least populated class in y has only 1 members, which is less than n_splits=5.\n",
      "  warnings.warn((\"The least populated class in y has only %d\"\n",
      "c:\\users\\siepp\\desktop\\school\\code-the-change\\yw-nlp-report-classifier\\.env\\lib\\site-packages\\sklearn\\metrics\\_classification.py:1221: UndefinedMetricWarning: Precision is ill-defined and being set to 0.0 in labels with no predicted samples. Use `zero_division` parameter to control this behavior.\n",
      "  _warn_prf(average, modifier, msg_start, len(result))\n",
      "c:\\users\\siepp\\desktop\\school\\code-the-change\\yw-nlp-report-classifier\\.env\\lib\\site-packages\\sklearn\\metrics\\_classification.py:1221: UndefinedMetricWarning: Recall is ill-defined and being set to 0.0 in labels with no true samples. Use `zero_division` parameter to control this behavior.\n",
      "  _warn_prf(average, modifier, msg_start, len(result))\n",
      "c:\\users\\siepp\\desktop\\school\\code-the-change\\yw-nlp-report-classifier\\.env\\lib\\site-packages\\sklearn\\metrics\\_classification.py:1814: UserWarning: y_pred contains classes not in y_true\n",
      "  warnings.warn('y_pred contains classes not in y_true')\n"
     ]
    }
   ],
   "source": [
    "scoring = [\"recall_weighted\", \"precision_weighted\", \"balanced_accuracy\", \"accuracy\"]\n",
    "fit_params = {\"sample_weight\": weight_train}\n",
    "\n",
    "cv_s = cross_validate(\n",
    "    svm_op.best_estimator_,  # change to svm variable to see differences from fine tuning\n",
    "    X_train_enc,\n",
    "    y_train_set,\n",
    "    scoring=scoring,\n",
    "    fit_params=fit_params,\n",
    ")"
   ]
  },
  {
   "cell_type": "code",
   "execution_count": 26,
   "metadata": {
    "colab": {},
    "colab_type": "code",
    "id": "SKIN__sJfXWO"
   },
   "outputs": [
    {
     "name": "stderr",
     "output_type": "stream",
     "text": [
      "c:\\users\\siepp\\desktop\\school\\code-the-change\\yw-nlp-report-classifier\\.env\\lib\\site-packages\\sklearn\\model_selection\\_split.py:670: UserWarning: The least populated class in y has only 1 members, which is less than n_splits=5.\n",
      "  warnings.warn((\"The least populated class in y has only %d\"\n"
     ]
    },
    {
     "data": {
      "text/html": [
       "<style>div.sk-top-container {color: black;background-color: white;}div.sk-toggleable {background-color: white;}label.sk-toggleable__label {cursor: pointer;display: block;width: 100%;margin-bottom: 0;padding: 0.2em 0.3em;box-sizing: border-box;text-align: center;}div.sk-toggleable__content {max-height: 0;max-width: 0;overflow: hidden;text-align: left;background-color: #f0f8ff;}div.sk-toggleable__content pre {margin: 0.2em;color: black;border-radius: 0.25em;background-color: #f0f8ff;}input.sk-toggleable__control:checked~div.sk-toggleable__content {max-height: 200px;max-width: 100%;overflow: auto;}div.sk-estimator input.sk-toggleable__control:checked~label.sk-toggleable__label {background-color: #d4ebff;}div.sk-label input.sk-toggleable__control:checked~label.sk-toggleable__label {background-color: #d4ebff;}input.sk-hidden--visually {border: 0;clip: rect(1px 1px 1px 1px);clip: rect(1px, 1px, 1px, 1px);height: 1px;margin: -1px;overflow: hidden;padding: 0;position: absolute;width: 1px;}div.sk-estimator {font-family: monospace;background-color: #f0f8ff;margin: 0.25em 0.25em;border: 1px dotted black;border-radius: 0.25em;box-sizing: border-box;}div.sk-estimator:hover {background-color: #d4ebff;}div.sk-parallel-item::after {content: \"\";width: 100%;border-bottom: 1px solid gray;flex-grow: 1;}div.sk-label:hover label.sk-toggleable__label {background-color: #d4ebff;}div.sk-serial::before {content: \"\";position: absolute;border-left: 1px solid gray;box-sizing: border-box;top: 2em;bottom: 0;left: 50%;}div.sk-serial {display: flex;flex-direction: column;align-items: center;background-color: white;}div.sk-item {z-index: 1;}div.sk-parallel {display: flex;align-items: stretch;justify-content: center;background-color: white;}div.sk-parallel-item {display: flex;flex-direction: column;position: relative;background-color: white;}div.sk-parallel-item:first-child::after {align-self: flex-end;width: 50%;}div.sk-parallel-item:last-child::after {align-self: flex-start;width: 50%;}div.sk-parallel-item:only-child::after {width: 0;}div.sk-dashed-wrapped {border: 1px dashed gray;margin: 0.2em;box-sizing: border-box;padding-bottom: 0.1em;background-color: white;position: relative;}div.sk-label label {font-family: monospace;font-weight: bold;background-color: white;display: inline-block;line-height: 1.2em;}div.sk-label-container {position: relative;z-index: 2;text-align: center;}div.sk-container {display: inline-block;position: relative;}</style><div class=\"sk-top-container\"><div class=\"sk-container\"><div class=\"sk-item sk-dashed-wrapped\"><div class=\"sk-label-container\"><div class=\"sk-label sk-toggleable\"><input class=\"sk-toggleable__control sk-hidden--visually\" id=\"df2aca8f-e61c-4dd0-b2a0-7ba9de92225b\" type=\"checkbox\" ><label class=\"sk-toggleable__label\" for=\"df2aca8f-e61c-4dd0-b2a0-7ba9de92225b\">GridSearchCV</label><div class=\"sk-toggleable__content\"><pre>GridSearchCV(estimator=ComplementNB(),\n",
       "             param_grid={'alpha': array([3.  , 2.94, 2.88, 2.82, 2.76, 2.7 , 2.64, 2.58, 2.52, 2.46, 2.4 ,\n",
       "       2.34, 2.28, 2.22, 2.16, 2.1 , 2.04, 1.98, 1.92, 1.86, 1.8 , 1.74,\n",
       "       1.68, 1.62, 1.56, 1.5 , 1.44, 1.38, 1.32, 1.26, 1.2 , 1.14, 1.08,\n",
       "       1.02, 0.96, 0.9 , 0.84, 0.78, 0.72, 0.66, 0.6 , 0.54, 0.48, 0.42,\n",
       "       0.36, 0.3 , 0.24, 0.18, 0.12, 0.06])})</pre></div></div></div><div class=\"sk-parallel\"><div class=\"sk-parallel-item\"><div class=\"sk-item\"><div class=\"sk-serial\"><div class=\"sk-item\"><div class=\"sk-estimator sk-toggleable\"><input class=\"sk-toggleable__control sk-hidden--visually\" id=\"0a39ba7a-b022-4201-9abf-c05564bc06ca\" type=\"checkbox\" ><label class=\"sk-toggleable__label\" for=\"0a39ba7a-b022-4201-9abf-c05564bc06ca\">ComplementNB</label><div class=\"sk-toggleable__content\"><pre>ComplementNB()</pre></div></div></div></div></div></div></div></div></div></div>"
      ],
      "text/plain": [
       "GridSearchCV(estimator=ComplementNB(),\n",
       "             param_grid={'alpha': array([3.  , 2.94, 2.88, 2.82, 2.76, 2.7 , 2.64, 2.58, 2.52, 2.46, 2.4 ,\n",
       "       2.34, 2.28, 2.22, 2.16, 2.1 , 2.04, 1.98, 1.92, 1.86, 1.8 , 1.74,\n",
       "       1.68, 1.62, 1.56, 1.5 , 1.44, 1.38, 1.32, 1.26, 1.2 , 1.14, 1.08,\n",
       "       1.02, 0.96, 0.9 , 0.84, 0.78, 0.72, 0.66, 0.6 , 0.54, 0.48, 0.42,\n",
       "       0.36, 0.3 , 0.24, 0.18, 0.12, 0.06])})"
      ]
     },
     "execution_count": 26,
     "metadata": {},
     "output_type": "execute_result"
    }
   ],
   "source": [
    "cnb_op = GridSearchCV(\n",
    "    cnb.named_steps['complementnb'], param_grid={\"alpha\": np.linspace(3, 0, num=50, endpoint=False)}\n",
    ")\n",
    "cnb_op.fit(X_train_enc, y_train_set)"
   ]
  },
  {
   "cell_type": "code",
   "execution_count": 27,
   "metadata": {
    "colab": {},
    "colab_type": "code",
    "id": "SrkJ4F4bfs46"
   },
   "outputs": [
    {
     "data": {
      "text/plain": [
       "{'alpha': 1.26}"
      ]
     },
     "execution_count": 27,
     "metadata": {},
     "output_type": "execute_result"
    }
   ],
   "source": [
    "cnb_op.best_params_"
   ]
  },
  {
   "cell_type": "code",
   "execution_count": 28,
   "metadata": {
    "colab": {},
    "colab_type": "code",
    "id": "LlkIYCxkOZ34"
   },
   "outputs": [
    {
     "name": "stderr",
     "output_type": "stream",
     "text": [
      "c:\\users\\siepp\\desktop\\school\\code-the-change\\yw-nlp-report-classifier\\.env\\lib\\site-packages\\sklearn\\model_selection\\_split.py:670: UserWarning: The least populated class in y has only 1 members, which is less than n_splits=5.\n",
      "  warnings.warn((\"The least populated class in y has only %d\"\n",
      "c:\\users\\siepp\\desktop\\school\\code-the-change\\yw-nlp-report-classifier\\.env\\lib\\site-packages\\sklearn\\metrics\\_classification.py:1221: UndefinedMetricWarning: Precision is ill-defined and being set to 0.0 in labels with no predicted samples. Use `zero_division` parameter to control this behavior.\n",
      "  _warn_prf(average, modifier, msg_start, len(result))\n",
      "c:\\users\\siepp\\desktop\\school\\code-the-change\\yw-nlp-report-classifier\\.env\\lib\\site-packages\\sklearn\\metrics\\_classification.py:1221: UndefinedMetricWarning: Precision is ill-defined and being set to 0.0 in labels with no predicted samples. Use `zero_division` parameter to control this behavior.\n",
      "  _warn_prf(average, modifier, msg_start, len(result))\n",
      "c:\\users\\siepp\\desktop\\school\\code-the-change\\yw-nlp-report-classifier\\.env\\lib\\site-packages\\sklearn\\metrics\\_classification.py:1221: UndefinedMetricWarning: Precision is ill-defined and being set to 0.0 in labels with no predicted samples. Use `zero_division` parameter to control this behavior.\n",
      "  _warn_prf(average, modifier, msg_start, len(result))\n",
      "c:\\users\\siepp\\desktop\\school\\code-the-change\\yw-nlp-report-classifier\\.env\\lib\\site-packages\\sklearn\\metrics\\_classification.py:1221: UndefinedMetricWarning: Precision is ill-defined and being set to 0.0 in labels with no predicted samples. Use `zero_division` parameter to control this behavior.\n",
      "  _warn_prf(average, modifier, msg_start, len(result))\n"
     ]
    }
   ],
   "source": [
    "cv_b = cross_validate(cnb_op.best_estimator_, X_train_enc, y_train_set, scoring=scoring)"
   ]
  },
  {
   "cell_type": "code",
   "execution_count": 29,
   "metadata": {
    "colab": {},
    "colab_type": "code",
    "id": "Jo8TipVOPFL8"
   },
   "outputs": [
    {
     "name": "stdout",
     "output_type": "stream",
     "text": [
      "recall_weighted:\n",
      "CNB\t [0.53 0.6  0.64 0.76 0.64]\n",
      "CNB max\t 0.76\n",
      "SVM-C\t [0.55 0.58 0.58 0.64 0.62]\n",
      "SVM max\t 0.64\n",
      "\n",
      "precision_weighted:\n",
      "CNB\t [0.43 0.5  0.56 0.71 0.57]\n",
      "CNB max\t 0.7116444444444444\n",
      "SVM-C\t [0.52 0.54 0.56 0.6  0.52]\n",
      "SVM max\t 0.6036666666666667\n",
      "\n",
      "balanced_accuracy:\n",
      "CNB\t [0.4  0.45 0.37 0.54 0.33]\n",
      "CNB max\t 0.5375\n",
      "SVM-C\t [0.37 0.43 0.32 0.46 0.27]\n",
      "SVM max\t 0.45757575757575764\n",
      "\n",
      "accuracy:\n",
      "CNB\t [0.53 0.6  0.64 0.76 0.64]\n",
      "CNB max\t 0.76\n",
      "SVM-C\t [0.55 0.58 0.58 0.64 0.62]\n",
      "SVM max\t 0.64\n",
      "\n",
      "time to fit(train):\n",
      "CNB\t0.0028\n",
      "SVM-C\t0.0430\n",
      "\n",
      "time to score:\n",
      "CNB\t0.0034\n",
      "SVM-C\t0.0066\n",
      "\n"
     ]
    }
   ],
   "source": [
    "def compare_score(score: str):\n",
    "    np.set_printoptions(precision=2)\n",
    "    print(f\"{score}:\")\n",
    "    cnb = cv_b[f\"test_{score}\"]\n",
    "    print(\"CNB\\t\", cnb)\n",
    "    print(\"CNB max\\t\", cnb.max())\n",
    "    svm = cv_s[f\"test_{score}\"]\n",
    "    print(\"SVM-C\\t\", svm)\n",
    "    print(\"SVM max\\t\", svm.max())\n",
    "\n",
    "\n",
    "for score in scoring:\n",
    "    compare_score(score)\n",
    "    print()\n",
    "\n",
    "print(\n",
    "    \"time to fit(train):\\nCNB\\t{:.4f}\\nSVM-C\\t{:.4f}\\n\".format(\n",
    "        np.average(cv_b[\"fit_time\"]), np.average(cv_s[\"fit_time\"])\n",
    "    )\n",
    ")\n",
    "print(\n",
    "    \"time to score:\\nCNB\\t{:.4f}\\nSVM-C\\t{:.4f}\\n\".format(\n",
    "        np.average(cv_b[\"score_time\"]), np.average(cv_s[\"score_time\"])\n",
    "    )\n",
    ")"
   ]
  },
  {
   "cell_type": "markdown",
   "metadata": {},
   "source": [
    "## Model Saving\n",
    "\n",
    "> NOTE: In Colab the files will be saved to the current directory, download these to your local `model_output` folder."
   ]
  },
  {
   "cell_type": "code",
   "execution_count": 30,
   "metadata": {},
   "outputs": [],
   "source": [
    "import pickle\n",
    "\n",
    "\n",
    "def get_model_output_path(file_name: str, full_path: str) -> str:\n",
    "    return full_path if not IN_COLAB else f\"./{file_name}\"\n",
    "\n",
    "\n",
    "def save_model(model, file_name: str, full_path: str):\n",
    "    with open(get_model_output_path(file_name, full_path), \"wb\") as f:\n",
    "        pickle.dump(model, f)\n",
    "\n",
    "for cv, pipe in [(svm_op, svm), (cnb_op, cnb)]:\n",
    "    pipe.steps[-1][1].set_params(**cv.best_params_)\n",
    "\n",
    "save_model(cnb, weight_paths.cnb_file_name, weight_paths.cnb)\n",
    "save_model(svm, weight_paths.svm_file_name, weight_paths.svm)"
   ]
  }
 ],
 "metadata": {
  "colab": {
   "collapsed_sections": [],
   "name": "nltk_vs_spacy_classification_preprocessing.ipynb",
   "provenance": []
  },
  "kernelspec": {
   "display_name": "Python 3",
   "language": "python",
   "name": "python3"
  },
  "language_info": {
   "codemirror_mode": {
    "name": "ipython",
    "version": 3
   },
   "file_extension": ".py",
   "mimetype": "text/x-python",
   "name": "python",
   "nbconvert_exporter": "python",
   "pygments_lexer": "ipython3",
   "version": "3.8.3"
  },
  "toc-autonumbering": false,
  "toc-showcode": false,
  "toc-showmarkdowntxt": false,
  "toc-showtags": false
 },
 "nbformat": 4,
 "nbformat_minor": 4
}
