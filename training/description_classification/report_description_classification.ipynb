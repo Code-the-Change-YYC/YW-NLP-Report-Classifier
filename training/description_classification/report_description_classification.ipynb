{
 "cells": [
  {
   "cell_type": "markdown",
   "metadata": {
    "colab_type": "text",
    "id": "J--poWga3Oag"
   },
   "source": [
    "# Report Description Classification\n",
    "\n",
    "This notebook compares the performance of report classification with preprocessing by Spacy and NLTK, and Complement Naive Bayes and SVM models.\n",
    "\n",
    "> This notebook is based off Bo's [ski_learn_with_spacy_finetune.ipynb](https://github.com/Code-the-Change-YYC/YW-NLP-Report-Classifier/blob/02ff7a9e7f49779c736cbb55edb4e8d2835beddd/notebooks/machine_learning/ski_learn_with_spacy_finetune.ipynb)"
   ]
  },
  {
   "cell_type": "markdown",
   "metadata": {
    "collapsed": "true"
   },
   "source": [
    "## Data Specification\n",
    "\n",
    "This notebook was tested with data preprocessed by `ReportData` with 335 training examples. Lemmatization in preprocessing was not used as it is performed in the notebook.\n",
    "\n",
    "Commit tested at: `a9ed0b8b4587410fd969bce6481057b205d9049e`\n",
    "\n",
    "The results of multiple preprocessing combinations are summarized here:\n",
    "\n",
    "![image.png](./images/description_classification_results.png)\n",
    "> Placeholder used is `'someone'`. w/o placeholders for scrubadub uses `'{{}}'` entities, and for spacy it uses `'*'` entities"
   ]
  },
  {
   "cell_type": "markdown",
   "metadata": {
    "collapsed": "true",
    "pycharm": {
     "name": "#%% md\n"
    }
   },
   "source": [
    "## Setup\n",
    "\n",
    "If running this notebook in Google Colab, upload the requested files and install the dependencies. Otherwise update the path to allow for necessary imports."
   ]
  },
  {
   "cell_type": "code",
   "execution_count": null,
   "metadata": {
    "pycharm": {
     "name": "#%%\n"
    }
   },
   "outputs": [],
   "source": [
    "import sys\n",
    "\n",
    "IN_COLAB = 'google.colab' in sys.modules\n",
    "\n",
    "if IN_COLAB:\n",
    "    from google.colab import files\n",
    "    required_files = ['requirements.txt', 'data-processed.csv', 'report_data.py', 'report_data_d.py']\n",
    "    for file in required_files:\n",
    "        print(f'Upload {file}')\n",
    "        files.upload()\n",
    "\n",
    "    !pip install -r requirements.txt\n",
    "else:\n",
    "    from os import path\n",
    "    root = path.abspath(path.join('..', '..'))\n",
    "    sys.path.append(root)\n",
    "    sys.path.append(path.join(root, 'preprocess'))"
   ]
  },
  {
   "cell_type": "code",
   "execution_count": 2,
   "metadata": {
    "colab": {},
    "colab_type": "code",
    "id": "WwaD_fMA3Xrp"
   },
   "outputs": [],
   "source": [
    "import en_core_web_lg\n",
    "import matplotlib.pyplot as plt\n",
    "import nltk\n",
    "import numpy as np\n",
    "from nltk.corpus import stopwords\n",
    "from nltk.tokenize import word_tokenize\n",
    "from sklearn.feature_extraction.text import TfidfVectorizer\n",
    "from sklearn.metrics import (\n",
    "    accuracy_score,\n",
    "    balanced_accuracy_score,\n",
    "    classification_report,\n",
    "    plot_confusion_matrix,\n",
    ")\n",
    "from sklearn.model_selection import GridSearchCV, cross_validate, train_test_split\n",
    "from sklearn.naive_bayes import ComplementNB\n",
    "from sklearn.preprocessing import LabelEncoder\n",
    "from sklearn.svm import SVC\n",
    "from sklearn.utils.class_weight import compute_sample_weight\n",
    "\n",
    "from report_data import ReportData\n",
    "from report_data_d import ColName"
   ]
  },
  {
   "cell_type": "markdown",
   "metadata": {
    "colab_type": "text",
    "id": "uSA6kHvYiFlK"
   },
   "source": [
    "Download NLTK data and models"
   ]
  },
  {
   "cell_type": "code",
   "execution_count": 3,
   "metadata": {
    "colab": {
     "base_uri": "https://localhost:8080/",
     "height": 136
    },
    "colab_type": "code",
    "id": "rbMvo3xP_haT",
    "outputId": "ef96e762-d6b9-43d8-8f5e-2edef7fb67df"
   },
   "outputs": [
    {
     "name": "stderr",
     "output_type": "stream",
     "text": [
      "[nltk_data] Downloading package punkt to\n",
      "[nltk_data]     C:\\Users\\siepp\\AppData\\Roaming\\nltk_data...\n",
      "[nltk_data]   Package punkt is already up-to-date!\n",
      "[nltk_data] Downloading package stopwords to\n",
      "[nltk_data]     C:\\Users\\siepp\\AppData\\Roaming\\nltk_data...\n",
      "[nltk_data]   Package stopwords is already up-to-date!\n",
      "[nltk_data] Downloading package wordnet to\n",
      "[nltk_data]     C:\\Users\\siepp\\AppData\\Roaming\\nltk_data...\n",
      "[nltk_data]   Package wordnet is already up-to-date!\n"
     ]
    },
    {
     "data": {
      "text/plain": [
       "True"
      ]
     },
     "execution_count": 3,
     "metadata": {},
     "output_type": "execute_result"
    }
   ],
   "source": [
    "nltk.download(\"punkt\")\n",
    "nltk.download(\"stopwords\")\n",
    "nltk.download(\"wordnet\")"
   ]
  },
  {
   "cell_type": "markdown",
   "metadata": {
    "colab_type": "text",
    "id": "2S4KIZtv31of"
   },
   "source": [
    "Load Spacy NLP model trained on web documents"
   ]
  },
  {
   "cell_type": "code",
   "execution_count": 4,
   "metadata": {
    "colab": {},
    "colab_type": "code",
    "id": "kCh4rvL16TpY"
   },
   "outputs": [],
   "source": [
    "nlp = en_core_web_lg.load()"
   ]
  },
  {
   "cell_type": "markdown",
   "metadata": {
    "colab_type": "text",
    "collapsed": "true",
    "id": "5ZyHRCL91ClA"
   },
   "source": [
    "## Preprocessing\n",
    "\n",
    "NLTK and Spacy versions of preprocessing to remove stop words and non-letter tokens, as well as perform lemmatization."
   ]
  },
  {
   "cell_type": "code",
   "execution_count": 5,
   "metadata": {
    "colab": {},
    "colab_type": "code",
    "id": "eOb3ruslZzWC"
   },
   "outputs": [],
   "source": [
    "def spacy_tokenizer(df_sent):\n",
    "    spy_txt = nlp(df_sent)\n",
    "    return [\n",
    "        w.lemma_ if w.lemma_ != \"-PRON-\" else w.text\n",
    "        for w in spy_txt\n",
    "        if not w.is_stop and not w.is_punct\n",
    "    ]"
   ]
  },
  {
   "cell_type": "code",
   "execution_count": 6,
   "metadata": {
    "colab": {},
    "colab_type": "code",
    "id": "JUIwXjWj_Q4t"
   },
   "outputs": [],
   "source": [
    "def nltk_tokenizer(df_sent):\n",
    "    lemmatizer = nltk.WordNetLemmatizer()\n",
    "    stop_words = set(stopwords.words(\"english\"))\n",
    "\n",
    "    tokens = word_tokenize(df_sent)\n",
    "    words = [word.lower() for word in tokens if word.isalpha()]\n",
    "    words = [word for word in words if word not in stop_words]\n",
    "    words = [lemmatizer.lemmatize(word) for word in words]\n",
    "\n",
    "    return words"
   ]
  },
  {
   "cell_type": "markdown",
   "metadata": {},
   "source": [
    "Load the data"
   ]
  },
  {
   "cell_type": "code",
   "execution_count": 7,
   "metadata": {
    "colab": {},
    "colab_type": "code",
    "id": "wRoiYwgwUHNI"
   },
   "outputs": [
    {
     "name": "stdout",
     "output_type": "stream",
     "text": [
      "<class 'pandas.core.frame.DataFrame'>\n",
      "RangeIndex: 335 entries, 0 to 334\n",
      "Data columns (total 2 columns):\n",
      " #   Column          Non-Null Count  Dtype \n",
      "---  ------          --------------  ----- \n",
      " 0   ColName.DESC    335 non-null    object\n",
      " 1   ColName.INC_T1  335 non-null    object\n",
      "dtypes: object(2)\n",
      "memory usage: 5.4+ KB\n",
      "None\n"
     ]
    }
   ],
   "source": [
    "if IN_COLAB:\n",
    "    yw_df = ReportData(out_file_path=\"data-processed.csv\").get_processed_data()\n",
    "else:\n",
    "    yw_df = ReportData().get_processed_data()[[ColName.DESC, ColName.INC_T1]]\n",
    "\n",
    "print(yw_df.info())"
   ]
  },
  {
   "cell_type": "markdown",
   "metadata": {
    "colab_type": "text",
    "id": "DHYQ-ytQ4Fp6"
   },
   "source": [
    "Summarize the differences between Spacy and NLTK tokenization"
   ]
  },
  {
   "cell_type": "code",
   "execution_count": 8,
   "metadata": {
    "colab": {},
    "colab_type": "code",
    "id": "wRoiYwgwUHNI"
   },
   "outputs": [
    {
     "name": "stdout",
     "output_type": "stream",
     "text": [
      "Spacy tokenization compared to NLTK tokenization on the same report description:\n",
      "\n",
      "Items in spacy_tokens but not in nltk_tokens:\n",
      "['make', 'check', 'appear', 'tell', 'want', 'call', 'ems', 'ems', 'arrive', 'assess', 'state', 'vital', 'appear', 'struggle', 'decline', 'go', 'ems']\n",
      "\n",
      "Items in nltk_tokens but not in spacy_tokens:\n",
      "['could', 'making', 'checked', 'breathing', 'appeared', 'told', 'could', 'wanted', 'called', 'em', 'em', 'arrived', 'assessed', 'stated', 'vitals', 'appeared', 'struggling', 'declined', 'going', 'em']\n"
     ]
    }
   ],
   "source": [
    "yw_clean = yw_df[ColName.DESC]\n",
    "\n",
    "print(\n",
    "    \"Spacy tokenization compared to NLTK tokenization on the same report description:\\n\"\n",
    ")\n",
    "spacy_tokens = spacy_tokenizer(yw_clean[0])\n",
    "nltk_tokens = nltk_tokenizer(yw_clean[0])\n",
    "print(\"Items in spacy_tokens but not in nltk_tokens:\")\n",
    "print([x for x in spacy_tokens if x not in nltk_tokens])\n",
    "print()\n",
    "print(\"Items in nltk_tokens but not in spacy_tokens:\")\n",
    "print([x for x in nltk_tokens if x not in spacy_tokens])"
   ]
  },
  {
   "cell_type": "markdown",
   "metadata": {
    "colab_type": "text",
    "id": "wxEljNDl1fAW"
   },
   "source": [
    "This notebook focuses on Multi-label classification on the primary incident type column, so we use LabelEncoder to encode the incident types"
   ]
  },
  {
   "cell_type": "code",
   "execution_count": 9,
   "metadata": {
    "colab": {},
    "colab_type": "code",
    "id": "4E3tgrggUfj3"
   },
   "outputs": [],
   "source": [
    "encoder = LabelEncoder()\n",
    "yw_txt_cats = encoder.fit_transform(yw_df[ColName.INC_T1])"
   ]
  },
  {
   "cell_type": "markdown",
   "metadata": {
    "pycharm": {
     "name": "#%% md\n"
    }
   },
   "source": [
    "Use tf-idf with our Spacy tokenizer to vectorize the data. Note:\n",
    "\n",
    "- We match single character alphanumeric words instead of the default minimum double character.\n",
    "- We use both uni-grams and bi-grams, this gives more features and preserves some possibly important ordering. See [here](https://scikit-learn.org/stable/modules/feature_extraction.html?highlight=tfidf#common-vectorizer-usage) for an example.\n",
    "- We set `min_df` to filter odd words that don't appear often. We only need to consider more common word patterns and filter out the odd words."
   ]
  },
  {
   "cell_type": "code",
   "execution_count": 10,
   "metadata": {
    "colab": {},
    "colab_type": "code",
    "id": "-N_M0ErRbfl3"
   },
   "outputs": [],
   "source": [
    "word_vec = TfidfVectorizer(\n",
    "    tokenizer=spacy_tokenizer, token_pattern=r\"\\b\\w+\\b\", ngram_range=(1, 2), min_df=2\n",
    ")\n",
    "yw_clean = word_vec.fit_transform(yw_clean)"
   ]
  },
  {
   "cell_type": "markdown",
   "metadata": {
    "colab_type": "text",
    "id": "KIXfSYO_1vQC"
   },
   "source": [
    "Split data into training and test data. The `random_state` of `32` has been manually optimized for our data."
   ]
  },
  {
   "cell_type": "code",
   "execution_count": 11,
   "metadata": {
    "colab": {},
    "colab_type": "code",
    "id": "Gu7fF5PUZBS0"
   },
   "outputs": [],
   "source": [
    "X_train_set, X_test_set, y_train_set, y_test_set = train_test_split(\n",
    "    yw_clean, yw_txt_cats, train_size=0.75, random_state=32, shuffle=True\n",
    ")"
   ]
  },
  {
   "cell_type": "markdown",
   "metadata": {
    "colab_type": "text",
    "id": "UQYBKfsz4LRV"
   },
   "source": [
    "Assigns each label class a weight according to it's frequency of appearance in the dataset."
   ]
  },
  {
   "cell_type": "code",
   "execution_count": 12,
   "metadata": {
    "colab": {},
    "colab_type": "code",
    "id": "YwK5Ksf9Tz2Y"
   },
   "outputs": [],
   "source": [
    "def count_weight(labels):\n",
    "    weight_dict = {lb: 0 for lb in set(labels)}\n",
    "\n",
    "    for label in labels:\n",
    "        weight_dict[label] += 1\n",
    "\n",
    "    return weight_dict"
   ]
  },
  {
   "cell_type": "markdown",
   "metadata": {
    "colab_type": "text",
    "id": "-GyDpbswryUK"
   },
   "source": [
    "Compute sample weights for each example, giving higher frequency examples more weight."
   ]
  },
  {
   "cell_type": "code",
   "execution_count": 13,
   "metadata": {
    "colab": {},
    "colab_type": "code",
    "id": "x1hXOh43p9Zy"
   },
   "outputs": [],
   "source": [
    "weight_train = compute_sample_weight(count_weight(y_train_set), y_train_set)\n",
    "weight_test = compute_sample_weight(count_weight(y_test_set), y_test_set)"
   ]
  },
  {
   "cell_type": "markdown",
   "metadata": {
    "colab_type": "text",
    "id": "yl7MRO9j1zJq"
   },
   "source": [
    "## Training"
   ]
  },
  {
   "cell_type": "markdown",
   "metadata": {},
   "source": [
    "Initialize and fit the models.\n",
    "> NOTE: Using sample weights with CNB significantly decreases the accuracy, this could be related to the inner workings of the algorithm."
   ]
  },
  {
   "cell_type": "code",
   "execution_count": 14,
   "metadata": {
    "colab": {},
    "colab_type": "code",
    "id": "RIghMdHfZRHv"
   },
   "outputs": [
    {
     "data": {
      "text/plain": [
       "SVC()"
      ]
     },
     "execution_count": 14,
     "metadata": {},
     "output_type": "execute_result"
    }
   ],
   "source": [
    "cnb = ComplementNB()\n",
    "cnb.fit(X_train_set, y_train_set)\n",
    "\n",
    "svm = SVC()\n",
    "svm.fit(X_train_set, y_train_set, sample_weight=weight_train)"
   ]
  },
  {
   "cell_type": "markdown",
   "metadata": {},
   "source": [
    "> NOTE: Using `sample_weight=weight_test` in our metrics calculations makes samples which are more prevalent in our data contribute more to the overall score."
   ]
  },
  {
   "cell_type": "code",
   "execution_count": 15,
   "metadata": {
    "colab": {},
    "colab_type": "code",
    "id": "6GJYVI3TaH7W"
   },
   "outputs": [
    {
     "name": "stdout",
     "output_type": "stream",
     "text": [
      "Complement NB test accuracy score is: 93.77% \n",
      "\n",
      "Complement NB train accuracy score is: 96.67% \n",
      "\n",
      "Complement NB test balanced accuracy score is: 35.67% \n",
      "\n",
      "Complement NB train balanced accuracy score is: 85.62% \n",
      "\n"
     ]
    }
   ],
   "source": [
    "predicted_test = cnb.predict(X_test_set)\n",
    "predicted_train = cnb.predict(X_train_set)\n",
    "test_score = accuracy_score(y_test_set, predicted_test, sample_weight=weight_test)\n",
    "train_score = accuracy_score(y_train_set, predicted_train, sample_weight=weight_train)\n",
    "test_balance = balanced_accuracy_score(\n",
    "    y_test_set, predicted_test, sample_weight=weight_test\n",
    ")\n",
    "train_balance = balanced_accuracy_score(\n",
    "    y_train_set, predicted_train, sample_weight=weight_train\n",
    ")\n",
    "\n",
    "print(\"Complement NB test accuracy score is: {:.2%} \\n\".format(test_score))\n",
    "print(\"Complement NB train accuracy score is: {:.2%} \\n\".format(train_score))\n",
    "print(\"Complement NB test balanced accuracy score is: {:.2%} \\n\".format(test_balance))\n",
    "print(\"Complement NB train balanced accuracy score is: {:.2%} \\n\".format(train_balance))"
   ]
  },
  {
   "cell_type": "code",
   "execution_count": 16,
   "metadata": {
    "colab": {},
    "colab_type": "code",
    "id": "9b8dXW2Be3_f"
   },
   "outputs": [
    {
     "name": "stdout",
     "output_type": "stream",
     "text": [
      "SVM-C test accuracy score is :93.81% \n",
      "\n",
      "SVM-C train accuracy score is :99.80% \n",
      "\n",
      "SVM-C test balanced accuracy score is :18.69% \n",
      "\n",
      "SVM-C train balanced accuracy score is :83.05% \n",
      "\n"
     ]
    }
   ],
   "source": [
    "predicted_test = svm.predict(X_test_set)\n",
    "predicted_train = svm.predict(X_train_set)\n",
    "test_score = accuracy_score(y_test_set, predicted_test, sample_weight=weight_test)\n",
    "train_score = accuracy_score(y_train_set, predicted_train, sample_weight=weight_train)\n",
    "test_balance = balanced_accuracy_score(\n",
    "    y_test_set, predicted_test, sample_weight=weight_test\n",
    ")\n",
    "train_balance = balanced_accuracy_score(\n",
    "    y_train_set, predicted_train, sample_weight=weight_train\n",
    ")\n",
    "\n",
    "print(\"SVM-C test accuracy score is :{:.2%} \\n\".format(test_score))\n",
    "print(\"SVM-C train accuracy score is :{:.2%} \\n\".format(train_score))\n",
    "print(\"SVM-C test balanced accuracy score is :{:.2%} \\n\".format(test_balance))\n",
    "print(\"SVM-C train balanced accuracy score is :{:.2%} \\n\".format(train_balance))"
   ]
  },
  {
   "cell_type": "code",
   "execution_count": 18,
   "metadata": {
    "colab": {},
    "colab_type": "code",
    "id": "pbeEHBxT1Stp"
   },
   "outputs": [
    {
     "data": {
      "text/plain": [
       "Text(0.5, 1.0, 'Complement NB confusion matrix on test set with normalization')"
      ]
     },
     "execution_count": 18,
     "metadata": {},
     "output_type": "execute_result"
    },
    {
     "data": {
      "image/png": "[encoded data removed]",
      "text/plain": [
       "<Figure size 432x288 with 2 Axes>"
      ]
     },
     "metadata": {
      "needs_background": "light"
     },
     "output_type": "display_data"
    }
   ],
   "source": [
    "true_test = encoder.inverse_transform(y_test_set)\n",
    "test_class = set(true_test)\n",
    "disp = plot_confusion_matrix(\n",
    "    cnb,\n",
    "    X_test_set,\n",
    "    y_test_set,\n",
    "    sample_weight=weight_test,\n",
    "    normalize=\"true\",\n",
    "    display_labels=test_class,\n",
    "    cmap=plt.cm.Blues,\n",
    "    xticks_rotation=\"vertical\",\n",
    ")\n",
    "title = \"Complement NB confusion matrix on test set with normalization\"\n",
    "disp.ax_.set_title(title)"
   ]
  },
  {
   "cell_type": "code",
   "execution_count": 20,
   "metadata": {
    "colab": {},
    "colab_type": "code",
    "id": "pT0vcMg82EPZ"
   },
   "outputs": [
    {
     "data": {
      "text/plain": [
       "Text(0.5, 1.0, 'SVM-C confusion matrix on test set with normalization')"
      ]
     },
     "execution_count": 20,
     "metadata": {},
     "output_type": "execute_result"
    },
    {
     "data": {
      "image/png": "[encoded data removed]",
      "text/plain": [
       "<Figure size 432x288 with 2 Axes>"
      ]
     },
     "metadata": {
      "needs_background": "light"
     },
     "output_type": "display_data"
    }
   ],
   "source": [
    "disp = plot_confusion_matrix(\n",
    "    svm,\n",
    "    X_test_set,\n",
    "    y_test_set,\n",
    "    sample_weight=weight_test,\n",
    "    normalize=\"true\",\n",
    "    display_labels=test_class,\n",
    "    cmap=plt.cm.Blues,\n",
    "    xticks_rotation=\"vertical\",\n",
    ")\n",
    "title = \"SVM-C confusion matrix on test set with normalization\"\n",
    "disp.ax_.set_title(title)"
   ]
  },
  {
   "cell_type": "code",
   "execution_count": 22,
   "metadata": {
    "colab": {},
    "colab_type": "code",
    "id": "JxqoCeBY-4zN"
   },
   "outputs": [
    {
     "name": "stdout",
     "output_type": "stream",
     "text": [
      "Complement NB test set classification report\n",
      "\n",
      "                                                         precision    recall  f1-score   support\n",
      "\n",
      "               Client aggression towards another person       0.61      0.78      0.68      81.0\n",
      "                     Client aggression towards property       0.00      0.00      0.00       1.0\n",
      "                                  Client death (onsite)       1.00      0.50      0.67       4.0\n",
      "                         Concern for welfare of a child       0.77      0.83      0.80      36.0\n",
      "                           Homicide (Threat or attempt)       0.00      0.00      0.00       0.0\n",
      "                           Illegal activity on premises       0.00      0.00      0.00       1.0\n",
      "                                                 Injury       0.00      0.00      0.00       4.0\n",
      "                                      Medical emergency       0.99      0.98      0.98    2209.0\n",
      "                                Mental health emergency       0.04      0.50      0.08       4.0\n",
      "                                                  Other       0.50      0.33      0.40      81.0\n",
      "                                       Security concern       0.00      0.00      0.00       1.0\n",
      "                                        Suicide attempt       0.00      0.00      0.00       0.0\n",
      "Suspicion/allegation of abuse towards or against client       0.00      0.00      0.00      16.0\n",
      "\n",
      "                                              micro avg       0.94      0.94      0.94    2438.0\n",
      "                                              macro avg       0.30      0.30      0.28    2438.0\n",
      "                                           weighted avg       0.95      0.94      0.94    2438.0\n",
      "\n"
     ]
    }
   ],
   "source": [
    "predicted_test = encoder.inverse_transform(cnb.predict(X_test_set))\n",
    "print(\"Complement NB test set classification report\\n\")\n",
    "print(\n",
    "    classification_report(\n",
    "        true_test,\n",
    "        predicted_test,\n",
    "        sample_weight=weight_test,\n",
    "        labels=encoder.classes_,\n",
    "        target_names=encoder.classes_,\n",
    "    )\n",
    ")"
   ]
  },
  {
   "cell_type": "code",
   "execution_count": 24,
   "metadata": {
    "colab": {},
    "colab_type": "code",
    "id": "u5BkErR6-9RP"
   },
   "outputs": [
    {
     "name": "stdout",
     "output_type": "stream",
     "text": [
      "SVM-C test set classification report\n",
      "\n",
      "                                                         precision    recall  f1-score   support\n",
      "\n",
      "               Client aggression towards another person       0.70      0.56      0.62      81.0\n",
      "                     Client aggression towards property       0.00      0.00      0.00       1.0\n",
      "                                  Client death (onsite)       0.00      0.00      0.00       4.0\n",
      "                         Concern for welfare of a child       1.00      0.17      0.29      36.0\n",
      "                           Homicide (Threat or attempt)       0.00      0.00      0.00       0.0\n",
      "                           Illegal activity on premises       0.00      0.00      0.00       1.0\n",
      "                                                 Injury       0.00      0.00      0.00       4.0\n",
      "                                      Medical emergency       0.95      1.00      0.98    2209.0\n",
      "                                Mental health emergency       0.00      0.00      0.00       4.0\n",
      "                                                  Other       0.54      0.33      0.41      81.0\n",
      "                                       Security concern       0.00      0.00      0.00       1.0\n",
      "                                        Suicide attempt       0.00      0.00      0.00       0.0\n",
      "Suspicion/allegation of abuse towards or against client       0.00      0.00      0.00      16.0\n",
      "\n",
      "                                              micro avg       0.94      0.94      0.94    2438.0\n",
      "                                              macro avg       0.25      0.16      0.18    2438.0\n",
      "                                           weighted avg       0.92      0.94      0.92    2438.0\n",
      "\n"
     ]
    }
   ],
   "source": [
    "predicted_test = encoder.inverse_transform(svm.predict(X_test_set))\n",
    "\n",
    "print(\"SVM-C test set classification report\\n\")\n",
    "print(\n",
    "    classification_report(\n",
    "        true_test,\n",
    "        predicted_test,\n",
    "        sample_weight=weight_test,\n",
    "        labels=encoder.classes_,\n",
    "        target_names=encoder.classes_,\n",
    "    )\n",
    ")"
   ]
  },
  {
   "cell_type": "markdown",
   "metadata": {
    "colab_type": "text",
    "id": "YL0vW9q8DcTt"
   },
   "source": [
    "Detailed parameter fine tuning based on balanced accuracy and accuracy score on SVC."
   ]
  },
  {
   "cell_type": "code",
   "execution_count": 25,
   "metadata": {
    "colab": {},
    "colab_type": "code",
    "id": "ZlHPD44WRoUV"
   },
   "outputs": [],
   "source": [
    "svc_params_list = {\n",
    "    \"C\": np.linspace(3, 0, num=9, endpoint=False),\n",
    "    \"kernel\": [\"sigmoid\"],  # [\"linear\", \"poly\", \"sigmoid\"],\n",
    "    \"gamma\": [\"scale\"],  # [\"scale\", \"auto\"],\n",
    "    \"decision_function_shape\": [\n",
    "        \"ovo\"\n",
    "    ],  # Multi-class is always handled with one-vs-one # [\"ovo\", \"ovr\"],\n",
    "    \"class_weight\": [\"balanced\"],  # [\"balanced\", None],\n",
    "}"
   ]
  },
  {
   "cell_type": "code",
   "execution_count": 26,
   "metadata": {
    "colab": {},
    "colab_type": "code",
    "id": "tK48_p7__Bt5"
   },
   "outputs": [
    {
     "name": "stderr",
     "output_type": "stream",
     "text": [
      "c:\\users\\siepp\\desktop\\school\\code-the-change\\yw-nlp-report-classifier\\.env\\lib\\site-packages\\sklearn\\model_selection\\_split.py:670: UserWarning: The least populated class in y has only 1 members, which is less than n_splits=5.\n",
      "  warnings.warn((\"The least populated class in y has only %d\"\n"
     ]
    },
    {
     "data": {
      "text/plain": [
       "GridSearchCV(estimator=SVC(),\n",
       "             param_grid={'C': array([3.        , 2.66666667, 2.33333333, 2.        , 1.66666667,\n",
       "       1.33333333, 1.        , 0.66666667, 0.33333333]),\n",
       "                         'class_weight': ['balanced'],\n",
       "                         'decision_function_shape': ['ovo'], 'gamma': ['scale'],\n",
       "                         'kernel': ['sigmoid']},\n",
       "             refit=False)"
      ]
     },
     "execution_count": 26,
     "metadata": {},
     "output_type": "execute_result"
    }
   ],
   "source": [
    "cv = GridSearchCV(svm, param_grid=svc_params_list, refit=False)\n",
    "cv.fit(X_train_set, y_train_set)"
   ]
  },
  {
   "cell_type": "code",
   "execution_count": 27,
   "metadata": {
    "colab": {},
    "colab_type": "code",
    "id": "1ZCkGNV3So0_"
   },
   "outputs": [
    {
     "data": {
      "text/plain": [
       "{'C': 2.6666666666666665,\n",
       " 'class_weight': 'balanced',\n",
       " 'decision_function_shape': 'ovo',\n",
       " 'gamma': 'scale',\n",
       " 'kernel': 'sigmoid'}"
      ]
     },
     "execution_count": 27,
     "metadata": {},
     "output_type": "execute_result"
    }
   ],
   "source": [
    "cv.best_params_"
   ]
  },
  {
   "cell_type": "code",
   "execution_count": 28,
   "metadata": {
    "colab": {},
    "colab_type": "code",
    "id": "1omVlVqgYJx6"
   },
   "outputs": [
    {
     "name": "stderr",
     "output_type": "stream",
     "text": [
      "c:\\users\\siepp\\desktop\\school\\code-the-change\\yw-nlp-report-classifier\\.env\\lib\\site-packages\\sklearn\\model_selection\\_split.py:670: UserWarning: The least populated class in y has only 1 members, which is less than n_splits=5.\n",
      "  warnings.warn((\"The least populated class in y has only %d\"\n",
      "c:\\users\\siepp\\desktop\\school\\code-the-change\\yw-nlp-report-classifier\\.env\\lib\\site-packages\\sklearn\\metrics\\_classification.py:1221: UndefinedMetricWarning: Precision is ill-defined and being set to 0.0 in labels with no predicted samples. Use `zero_division` parameter to control this behavior.\n",
      "  _warn_prf(average, modifier, msg_start, len(result))\n"
     ]
    }
   ],
   "source": [
    "scoring = [\"recall_weighted\", \"precision_weighted\", \"balanced_accuracy\", \"accuracy\"]\n",
    "fit_params = {\"sample_weight\": weight_train}\n",
    "\n",
    "svm_op = SVC(**cv.best_params_)\n",
    "svm_op.fit(X_train_set, y_train_set, sample_weight=weight_train)\n",
    "cv_s = cross_validate(\n",
    "    svm_op,  # change to svm variable to see differences from fine tuning\n",
    "    X_train_set,\n",
    "    y_train_set,\n",
    "    scoring=scoring,\n",
    "    fit_params=fit_params,\n",
    ")"
   ]
  },
  {
   "cell_type": "code",
   "execution_count": 29,
   "metadata": {
    "colab": {},
    "colab_type": "code",
    "id": "SKIN__sJfXWO"
   },
   "outputs": [
    {
     "name": "stderr",
     "output_type": "stream",
     "text": [
      "c:\\users\\siepp\\desktop\\school\\code-the-change\\yw-nlp-report-classifier\\.env\\lib\\site-packages\\sklearn\\model_selection\\_split.py:670: UserWarning: The least populated class in y has only 1 members, which is less than n_splits=5.\n",
      "  warnings.warn((\"The least populated class in y has only %d\"\n",
      "c:\\users\\siepp\\desktop\\school\\code-the-change\\yw-nlp-report-classifier\\.env\\lib\\site-packages\\sklearn\\naive_bayes.py:511: UserWarning: alpha too small will result in numeric errors, setting alpha = 1.0e-10\n",
      "  warnings.warn('alpha too small will result in numeric errors, '\n",
      "c:\\users\\siepp\\desktop\\school\\code-the-change\\yw-nlp-report-classifier\\.env\\lib\\site-packages\\sklearn\\naive_bayes.py:511: UserWarning: alpha too small will result in numeric errors, setting alpha = 1.0e-10\n",
      "  warnings.warn('alpha too small will result in numeric errors, '\n",
      "c:\\users\\siepp\\desktop\\school\\code-the-change\\yw-nlp-report-classifier\\.env\\lib\\site-packages\\sklearn\\naive_bayes.py:511: UserWarning: alpha too small will result in numeric errors, setting alpha = 1.0e-10\n",
      "  warnings.warn('alpha too small will result in numeric errors, '\n",
      "c:\\users\\siepp\\desktop\\school\\code-the-change\\yw-nlp-report-classifier\\.env\\lib\\site-packages\\sklearn\\naive_bayes.py:511: UserWarning: alpha too small will result in numeric errors, setting alpha = 1.0e-10\n",
      "  warnings.warn('alpha too small will result in numeric errors, '\n",
      "c:\\users\\siepp\\desktop\\school\\code-the-change\\yw-nlp-report-classifier\\.env\\lib\\site-packages\\sklearn\\naive_bayes.py:511: UserWarning: alpha too small will result in numeric errors, setting alpha = 1.0e-10\n",
      "  warnings.warn('alpha too small will result in numeric errors, '\n"
     ]
    },
    {
     "data": {
      "text/plain": [
       "GridSearchCV(estimator=ComplementNB(),\n",
       "             param_grid={'alpha': array([3.   , 2.625, 2.25 , 1.875, 1.5  , 1.125, 0.75 , 0.375, 0.   ])},\n",
       "             refit=False)"
      ]
     },
     "execution_count": 29,
     "metadata": {},
     "output_type": "execute_result"
    }
   ],
   "source": [
    "cv_nb = GridSearchCV(cnb, param_grid={\"alpha\": np.linspace(3, 0, num=9)}, refit=False)\n",
    "cv_nb.fit(X_train_set, y_train_set)"
   ]
  },
  {
   "cell_type": "code",
   "execution_count": 30,
   "metadata": {
    "colab": {},
    "colab_type": "code",
    "id": "SrkJ4F4bfs46"
   },
   "outputs": [
    {
     "data": {
      "text/plain": [
       "{'alpha': 0.75}"
      ]
     },
     "execution_count": 30,
     "metadata": {},
     "output_type": "execute_result"
    }
   ],
   "source": [
    "cv_nb.best_params_"
   ]
  },
  {
   "cell_type": "code",
   "execution_count": 31,
   "metadata": {
    "colab": {},
    "colab_type": "code",
    "id": "LlkIYCxkOZ34"
   },
   "outputs": [
    {
     "name": "stderr",
     "output_type": "stream",
     "text": [
      "c:\\users\\siepp\\desktop\\school\\code-the-change\\yw-nlp-report-classifier\\.env\\lib\\site-packages\\sklearn\\model_selection\\_split.py:670: UserWarning: The least populated class in y has only 1 members, which is less than n_splits=5.\n",
      "  warnings.warn((\"The least populated class in y has only %d\"\n",
      "c:\\users\\siepp\\desktop\\school\\code-the-change\\yw-nlp-report-classifier\\.env\\lib\\site-packages\\sklearn\\metrics\\_classification.py:1221: UndefinedMetricWarning: Precision is ill-defined and being set to 0.0 in labels with no predicted samples. Use `zero_division` parameter to control this behavior.\n",
      "  _warn_prf(average, modifier, msg_start, len(result))\n",
      "c:\\users\\siepp\\desktop\\school\\code-the-change\\yw-nlp-report-classifier\\.env\\lib\\site-packages\\sklearn\\metrics\\_classification.py:1221: UndefinedMetricWarning: Precision is ill-defined and being set to 0.0 in labels with no predicted samples. Use `zero_division` parameter to control this behavior.\n",
      "  _warn_prf(average, modifier, msg_start, len(result))\n",
      "c:\\users\\siepp\\desktop\\school\\code-the-change\\yw-nlp-report-classifier\\.env\\lib\\site-packages\\sklearn\\metrics\\_classification.py:1221: UndefinedMetricWarning: Precision is ill-defined and being set to 0.0 in labels with no predicted samples. Use `zero_division` parameter to control this behavior.\n",
      "  _warn_prf(average, modifier, msg_start, len(result))\n",
      "c:\\users\\siepp\\desktop\\school\\code-the-change\\yw-nlp-report-classifier\\.env\\lib\\site-packages\\sklearn\\metrics\\_classification.py:1221: UndefinedMetricWarning: Precision is ill-defined and being set to 0.0 in labels with no predicted samples. Use `zero_division` parameter to control this behavior.\n",
      "  _warn_prf(average, modifier, msg_start, len(result))\n",
      "c:\\users\\siepp\\desktop\\school\\code-the-change\\yw-nlp-report-classifier\\.env\\lib\\site-packages\\sklearn\\metrics\\_classification.py:1221: UndefinedMetricWarning: Precision is ill-defined and being set to 0.0 in labels with no predicted samples. Use `zero_division` parameter to control this behavior.\n",
      "  _warn_prf(average, modifier, msg_start, len(result))\n"
     ]
    }
   ],
   "source": [
    "cnb_op = ComplementNB(**cv_nb.best_params_)\n",
    "cnb_op.fit(X_train_set, y_train_set, sample_weight=weight_train)\n",
    "cv_b = cross_validate(\n",
    "    cnb_op, X_train_set, y_train_set, scoring=scoring, fit_params=fit_params,\n",
    ")"
   ]
  },
  {
   "cell_type": "code",
   "execution_count": 32,
   "metadata": {
    "colab": {},
    "colab_type": "code",
    "id": "Jo8TipVOPFL8"
   },
   "outputs": [
    {
     "name": "stdout",
     "output_type": "stream",
     "text": [
      "recall_weighted:\n",
      "CNB\t [0.47 0.48 0.5  0.56 0.52]\n",
      "CNB max\t 0.56\n",
      "SVM-C\t [0.57 0.58 0.62 0.58 0.5 ]\n",
      "SVM max\t 0.62\n",
      "\n",
      "precision_weighted:\n",
      "CNB\t [0.39 0.55 0.52 0.62 0.48]\n",
      "CNB max\t 0.6216666666666667\n",
      "SVM-C\t [0.42 0.53 0.62 0.54 0.44]\n",
      "SVM max\t 0.6184328714763497\n",
      "\n",
      "balanced_accuracy:\n",
      "CNB\t [0.33 0.3  0.31 0.45 0.23]\n",
      "CNB max\t 0.45189393939393946\n",
      "SVM-C\t [0.35 0.43 0.4  0.39 0.17]\n",
      "SVM max\t 0.4338383838383838\n",
      "\n",
      "accuracy:\n",
      "CNB\t [0.47 0.48 0.5  0.56 0.52]\n",
      "CNB max\t 0.56\n",
      "SVM-C\t [0.57 0.58 0.62 0.58 0.5 ]\n",
      "SVM max\t 0.62\n",
      "\n",
      "time to fit(train):\n",
      "CNB\t0.0034\n",
      "SVM-C\t0.0398\n",
      "\n",
      "time to score:\n",
      "CNB\t0.0044\n",
      "SVM-C\t0.0054\n",
      "\n"
     ]
    }
   ],
   "source": [
    "def compare_score(score: str):\n",
    "    np.set_printoptions(precision=2)\n",
    "    print(f\"{score}:\")\n",
    "    cnb = cv_b[f\"test_{score}\"]\n",
    "    print(\"CNB\\t\", cnb)\n",
    "    print(\"CNB max\\t\", cnb.max())\n",
    "    svm = cv_s[f\"test_{score}\"]\n",
    "    print(\"SVM-C\\t\", svm)\n",
    "    print(\"SVM max\\t\", svm.max())\n",
    "\n",
    "\n",
    "for score in scoring:\n",
    "    compare_score(score)\n",
    "    print()\n",
    "\n",
    "print(\n",
    "    \"time to fit(train):\\nCNB\\t{:.4f}\\nSVM-C\\t{:.4f}\\n\".format(\n",
    "        np.average(cv_b[\"fit_time\"]), np.average(cv_s[\"fit_time\"])\n",
    "    )\n",
    ")\n",
    "print(\n",
    "    \"time to score:\\nCNB\\t{:.4f}\\nSVM-C\\t{:.4f}\\n\".format(\n",
    "        np.average(cv_b[\"score_time\"]), np.average(cv_s[\"score_time\"])\n",
    "    )\n",
    ")"
   ]
  }
 ],
 "metadata": {
  "colab": {
   "collapsed_sections": [],
   "name": "nltk_vs_spacy_classification_preprocessing.ipynb",
   "provenance": []
  },
  "kernelspec": {
   "display_name": "Python 3",
   "language": "python",
   "name": "python3"
  },
  "language_info": {
   "codemirror_mode": {
    "name": "ipython",
    "version": 3
   },
   "file_extension": ".py",
   "mimetype": "text/x-python",
   "name": "python",
   "nbconvert_exporter": "python",
   "pygments_lexer": "ipython3",
   "version": "3.8.3"
  },
  "toc-autonumbering": false,
  "toc-showcode": false,
  "toc-showmarkdowntxt": false,
  "toc-showtags": false
 },
 "nbformat": 4,
 "nbformat_minor": 4
}
